{
  "nbformat": 4,
  "nbformat_minor": 0,
  "metadata": {
    "colab": {
      "name": "Pre data processing.ipynb",
      "provenance": [],
      "authorship_tag": "ABX9TyPmsY0Foh5DBU8OFjalsLVz",
      "include_colab_link": true
    },
    "kernelspec": {
      "name": "python3",
      "display_name": "Python 3"
    },
    "language_info": {
      "name": "python"
    }
  },
  "cells": [
    {
      "cell_type": "markdown",
      "metadata": {
        "id": "view-in-github",
        "colab_type": "text"
      },
      "source": [
        "<a href=\"https://colab.research.google.com/github/MottaGit/Machine-Learning-And-Data-Science/blob/main/Pre_data_processing.ipynb\" target=\"_parent\"><img src=\"https://colab.research.google.com/assets/colab-badge.svg\" alt=\"Open In Colab\"/></a>"
      ]
    },
    {
      "cell_type": "markdown",
      "metadata": {
        "id": "iVZlbyDDH96f"
      },
      "source": [
        "# Bibliotecas"
      ]
    },
    {
      "cell_type": "code",
      "metadata": {
        "colab": {
          "base_uri": "https://localhost:8080/"
        },
        "id": "Fs6IycUUH7jI",
        "outputId": "76f23413-7f96-4f33-ac20-54eba6e2ba0b"
      },
      "source": [
        "!pip install plotly --upgrade"
      ],
      "execution_count": 2,
      "outputs": [
        {
          "output_type": "stream",
          "name": "stdout",
          "text": [
            "Requirement already satisfied: plotly in /usr/local/lib/python3.7/dist-packages (4.4.1)\n",
            "Collecting plotly\n",
            "  Downloading plotly-5.4.0-py2.py3-none-any.whl (25.3 MB)\n",
            "\u001b[K     |████████████████████████████████| 25.3 MB 1.5 MB/s \n",
            "\u001b[?25hCollecting tenacity>=6.2.0\n",
            "  Downloading tenacity-8.0.1-py3-none-any.whl (24 kB)\n",
            "Requirement already satisfied: six in /usr/local/lib/python3.7/dist-packages (from plotly) (1.15.0)\n",
            "Installing collected packages: tenacity, plotly\n",
            "  Attempting uninstall: plotly\n",
            "    Found existing installation: plotly 4.4.1\n",
            "    Uninstalling plotly-4.4.1:\n",
            "      Successfully uninstalled plotly-4.4.1\n",
            "Successfully installed plotly-5.4.0 tenacity-8.0.1\n"
          ]
        }
      ]
    },
    {
      "cell_type": "code",
      "metadata": {
        "id": "Hr3g6X6IIN3g"
      },
      "source": [
        "import pandas as pd\n",
        "import numpy as np\n",
        "import seaborn as sns\n",
        "import matplotlib.pyplot as plt\n",
        "import plotly.express as px"
      ],
      "execution_count": 4,
      "outputs": []
    },
    {
      "cell_type": "markdown",
      "metadata": {
        "id": "zDnCpGNdIbML"
      },
      "source": [
        "# Credit Data"
      ]
    },
    {
      "cell_type": "markdown",
      "metadata": {
        "id": "q3O_NRdMOYYA"
      },
      "source": [
        "### Exploração dos dados"
      ]
    },
    {
      "cell_type": "code",
      "metadata": {
        "id": "jykIQsGPIg4s"
      },
      "source": [
        "base_credit = pd.read_csv('/content/credit_data.csv')"
      ],
      "execution_count": 8,
      "outputs": []
    },
    {
      "cell_type": "code",
      "metadata": {
        "colab": {
          "base_uri": "https://localhost:8080/",
          "height": 0
        },
        "id": "weKAJwKOOWfB",
        "outputId": "438d7fae-ddb8-426c-9a74-cd26c328f350"
      },
      "source": [
        "base_credit"
      ],
      "execution_count": 9,
      "outputs": [
        {
          "output_type": "execute_result",
          "data": {
            "text/html": [
              "\n",
              "  <div id=\"df-a71dbc1f-0e35-4436-bef5-a38228f596ad\">\n",
              "    <div class=\"colab-df-container\">\n",
              "      <div>\n",
              "<style scoped>\n",
              "    .dataframe tbody tr th:only-of-type {\n",
              "        vertical-align: middle;\n",
              "    }\n",
              "\n",
              "    .dataframe tbody tr th {\n",
              "        vertical-align: top;\n",
              "    }\n",
              "\n",
              "    .dataframe thead th {\n",
              "        text-align: right;\n",
              "    }\n",
              "</style>\n",
              "<table border=\"1\" class=\"dataframe\">\n",
              "  <thead>\n",
              "    <tr style=\"text-align: right;\">\n",
              "      <th></th>\n",
              "      <th>clientid</th>\n",
              "      <th>income</th>\n",
              "      <th>age</th>\n",
              "      <th>loan</th>\n",
              "      <th>default</th>\n",
              "    </tr>\n",
              "  </thead>\n",
              "  <tbody>\n",
              "    <tr>\n",
              "      <th>0</th>\n",
              "      <td>1</td>\n",
              "      <td>66155.925095</td>\n",
              "      <td>59.017015</td>\n",
              "      <td>8106.532131</td>\n",
              "      <td>0</td>\n",
              "    </tr>\n",
              "    <tr>\n",
              "      <th>1</th>\n",
              "      <td>2</td>\n",
              "      <td>34415.153966</td>\n",
              "      <td>48.117153</td>\n",
              "      <td>6564.745018</td>\n",
              "      <td>0</td>\n",
              "    </tr>\n",
              "    <tr>\n",
              "      <th>2</th>\n",
              "      <td>3</td>\n",
              "      <td>57317.170063</td>\n",
              "      <td>63.108049</td>\n",
              "      <td>8020.953296</td>\n",
              "      <td>0</td>\n",
              "    </tr>\n",
              "    <tr>\n",
              "      <th>3</th>\n",
              "      <td>4</td>\n",
              "      <td>42709.534201</td>\n",
              "      <td>45.751972</td>\n",
              "      <td>6103.642260</td>\n",
              "      <td>0</td>\n",
              "    </tr>\n",
              "    <tr>\n",
              "      <th>4</th>\n",
              "      <td>5</td>\n",
              "      <td>66952.688845</td>\n",
              "      <td>18.584336</td>\n",
              "      <td>8770.099235</td>\n",
              "      <td>1</td>\n",
              "    </tr>\n",
              "    <tr>\n",
              "      <th>...</th>\n",
              "      <td>...</td>\n",
              "      <td>...</td>\n",
              "      <td>...</td>\n",
              "      <td>...</td>\n",
              "      <td>...</td>\n",
              "    </tr>\n",
              "    <tr>\n",
              "      <th>1995</th>\n",
              "      <td>1996</td>\n",
              "      <td>59221.044874</td>\n",
              "      <td>48.518179</td>\n",
              "      <td>1926.729397</td>\n",
              "      <td>0</td>\n",
              "    </tr>\n",
              "    <tr>\n",
              "      <th>1996</th>\n",
              "      <td>1997</td>\n",
              "      <td>69516.127573</td>\n",
              "      <td>23.162104</td>\n",
              "      <td>3503.176156</td>\n",
              "      <td>0</td>\n",
              "    </tr>\n",
              "    <tr>\n",
              "      <th>1997</th>\n",
              "      <td>1998</td>\n",
              "      <td>44311.449262</td>\n",
              "      <td>28.017167</td>\n",
              "      <td>5522.786693</td>\n",
              "      <td>1</td>\n",
              "    </tr>\n",
              "    <tr>\n",
              "      <th>1998</th>\n",
              "      <td>1999</td>\n",
              "      <td>43756.056605</td>\n",
              "      <td>63.971796</td>\n",
              "      <td>1622.722598</td>\n",
              "      <td>0</td>\n",
              "    </tr>\n",
              "    <tr>\n",
              "      <th>1999</th>\n",
              "      <td>2000</td>\n",
              "      <td>69436.579552</td>\n",
              "      <td>56.152617</td>\n",
              "      <td>7378.833599</td>\n",
              "      <td>0</td>\n",
              "    </tr>\n",
              "  </tbody>\n",
              "</table>\n",
              "<p>2000 rows × 5 columns</p>\n",
              "</div>\n",
              "      <button class=\"colab-df-convert\" onclick=\"convertToInteractive('df-a71dbc1f-0e35-4436-bef5-a38228f596ad')\"\n",
              "              title=\"Convert this dataframe to an interactive table.\"\n",
              "              style=\"display:none;\">\n",
              "        \n",
              "  <svg xmlns=\"http://www.w3.org/2000/svg\" height=\"24px\"viewBox=\"0 0 24 24\"\n",
              "       width=\"24px\">\n",
              "    <path d=\"M0 0h24v24H0V0z\" fill=\"none\"/>\n",
              "    <path d=\"M18.56 5.44l.94 2.06.94-2.06 2.06-.94-2.06-.94-.94-2.06-.94 2.06-2.06.94zm-11 1L8.5 8.5l.94-2.06 2.06-.94-2.06-.94L8.5 2.5l-.94 2.06-2.06.94zm10 10l.94 2.06.94-2.06 2.06-.94-2.06-.94-.94-2.06-.94 2.06-2.06.94z\"/><path d=\"M17.41 7.96l-1.37-1.37c-.4-.4-.92-.59-1.43-.59-.52 0-1.04.2-1.43.59L10.3 9.45l-7.72 7.72c-.78.78-.78 2.05 0 2.83L4 21.41c.39.39.9.59 1.41.59.51 0 1.02-.2 1.41-.59l7.78-7.78 2.81-2.81c.8-.78.8-2.07 0-2.86zM5.41 20L4 18.59l7.72-7.72 1.47 1.35L5.41 20z\"/>\n",
              "  </svg>\n",
              "      </button>\n",
              "      \n",
              "  <style>\n",
              "    .colab-df-container {\n",
              "      display:flex;\n",
              "      flex-wrap:wrap;\n",
              "      gap: 12px;\n",
              "    }\n",
              "\n",
              "    .colab-df-convert {\n",
              "      background-color: #E8F0FE;\n",
              "      border: none;\n",
              "      border-radius: 50%;\n",
              "      cursor: pointer;\n",
              "      display: none;\n",
              "      fill: #1967D2;\n",
              "      height: 32px;\n",
              "      padding: 0 0 0 0;\n",
              "      width: 32px;\n",
              "    }\n",
              "\n",
              "    .colab-df-convert:hover {\n",
              "      background-color: #E2EBFA;\n",
              "      box-shadow: 0px 1px 2px rgba(60, 64, 67, 0.3), 0px 1px 3px 1px rgba(60, 64, 67, 0.15);\n",
              "      fill: #174EA6;\n",
              "    }\n",
              "\n",
              "    [theme=dark] .colab-df-convert {\n",
              "      background-color: #3B4455;\n",
              "      fill: #D2E3FC;\n",
              "    }\n",
              "\n",
              "    [theme=dark] .colab-df-convert:hover {\n",
              "      background-color: #434B5C;\n",
              "      box-shadow: 0px 1px 3px 1px rgba(0, 0, 0, 0.15);\n",
              "      filter: drop-shadow(0px 1px 2px rgba(0, 0, 0, 0.3));\n",
              "      fill: #FFFFFF;\n",
              "    }\n",
              "  </style>\n",
              "\n",
              "      <script>\n",
              "        const buttonEl =\n",
              "          document.querySelector('#df-a71dbc1f-0e35-4436-bef5-a38228f596ad button.colab-df-convert');\n",
              "        buttonEl.style.display =\n",
              "          google.colab.kernel.accessAllowed ? 'block' : 'none';\n",
              "\n",
              "        async function convertToInteractive(key) {\n",
              "          const element = document.querySelector('#df-a71dbc1f-0e35-4436-bef5-a38228f596ad');\n",
              "          const dataTable =\n",
              "            await google.colab.kernel.invokeFunction('convertToInteractive',\n",
              "                                                     [key], {});\n",
              "          if (!dataTable) return;\n",
              "\n",
              "          const docLinkHtml = 'Like what you see? Visit the ' +\n",
              "            '<a target=\"_blank\" href=https://colab.research.google.com/notebooks/data_table.ipynb>data table notebook</a>'\n",
              "            + ' to learn more about interactive tables.';\n",
              "          element.innerHTML = '';\n",
              "          dataTable['output_type'] = 'display_data';\n",
              "          await google.colab.output.renderOutput(dataTable, element);\n",
              "          const docLink = document.createElement('div');\n",
              "          docLink.innerHTML = docLinkHtml;\n",
              "          element.appendChild(docLink);\n",
              "        }\n",
              "      </script>\n",
              "    </div>\n",
              "  </div>\n",
              "  "
            ],
            "text/plain": [
              "      clientid        income        age         loan  default\n",
              "0            1  66155.925095  59.017015  8106.532131        0\n",
              "1            2  34415.153966  48.117153  6564.745018        0\n",
              "2            3  57317.170063  63.108049  8020.953296        0\n",
              "3            4  42709.534201  45.751972  6103.642260        0\n",
              "4            5  66952.688845  18.584336  8770.099235        1\n",
              "...        ...           ...        ...          ...      ...\n",
              "1995      1996  59221.044874  48.518179  1926.729397        0\n",
              "1996      1997  69516.127573  23.162104  3503.176156        0\n",
              "1997      1998  44311.449262  28.017167  5522.786693        1\n",
              "1998      1999  43756.056605  63.971796  1622.722598        0\n",
              "1999      2000  69436.579552  56.152617  7378.833599        0\n",
              "\n",
              "[2000 rows x 5 columns]"
            ]
          },
          "metadata": {},
          "execution_count": 9
        }
      ]
    },
    {
      "cell_type": "code",
      "metadata": {
        "colab": {
          "base_uri": "https://localhost:8080/",
          "height": 0
        },
        "id": "qocEsTeEOjUn",
        "outputId": "f3316bd9-3861-43f4-d60c-32c0ab3176ab"
      },
      "source": [
        "base_credit.head(7) #exibe os 7 primeiros elementos da base de dados"
      ],
      "execution_count": 10,
      "outputs": [
        {
          "output_type": "execute_result",
          "data": {
            "text/html": [
              "\n",
              "  <div id=\"df-e17a843a-35b3-4788-9e94-4216ae4a7598\">\n",
              "    <div class=\"colab-df-container\">\n",
              "      <div>\n",
              "<style scoped>\n",
              "    .dataframe tbody tr th:only-of-type {\n",
              "        vertical-align: middle;\n",
              "    }\n",
              "\n",
              "    .dataframe tbody tr th {\n",
              "        vertical-align: top;\n",
              "    }\n",
              "\n",
              "    .dataframe thead th {\n",
              "        text-align: right;\n",
              "    }\n",
              "</style>\n",
              "<table border=\"1\" class=\"dataframe\">\n",
              "  <thead>\n",
              "    <tr style=\"text-align: right;\">\n",
              "      <th></th>\n",
              "      <th>clientid</th>\n",
              "      <th>income</th>\n",
              "      <th>age</th>\n",
              "      <th>loan</th>\n",
              "      <th>default</th>\n",
              "    </tr>\n",
              "  </thead>\n",
              "  <tbody>\n",
              "    <tr>\n",
              "      <th>0</th>\n",
              "      <td>1</td>\n",
              "      <td>66155.925095</td>\n",
              "      <td>59.017015</td>\n",
              "      <td>8106.532131</td>\n",
              "      <td>0</td>\n",
              "    </tr>\n",
              "    <tr>\n",
              "      <th>1</th>\n",
              "      <td>2</td>\n",
              "      <td>34415.153966</td>\n",
              "      <td>48.117153</td>\n",
              "      <td>6564.745018</td>\n",
              "      <td>0</td>\n",
              "    </tr>\n",
              "    <tr>\n",
              "      <th>2</th>\n",
              "      <td>3</td>\n",
              "      <td>57317.170063</td>\n",
              "      <td>63.108049</td>\n",
              "      <td>8020.953296</td>\n",
              "      <td>0</td>\n",
              "    </tr>\n",
              "    <tr>\n",
              "      <th>3</th>\n",
              "      <td>4</td>\n",
              "      <td>42709.534201</td>\n",
              "      <td>45.751972</td>\n",
              "      <td>6103.642260</td>\n",
              "      <td>0</td>\n",
              "    </tr>\n",
              "    <tr>\n",
              "      <th>4</th>\n",
              "      <td>5</td>\n",
              "      <td>66952.688845</td>\n",
              "      <td>18.584336</td>\n",
              "      <td>8770.099235</td>\n",
              "      <td>1</td>\n",
              "    </tr>\n",
              "    <tr>\n",
              "      <th>5</th>\n",
              "      <td>6</td>\n",
              "      <td>24904.064140</td>\n",
              "      <td>57.471607</td>\n",
              "      <td>15.498598</td>\n",
              "      <td>0</td>\n",
              "    </tr>\n",
              "    <tr>\n",
              "      <th>6</th>\n",
              "      <td>7</td>\n",
              "      <td>48430.359613</td>\n",
              "      <td>26.809132</td>\n",
              "      <td>5722.581981</td>\n",
              "      <td>0</td>\n",
              "    </tr>\n",
              "  </tbody>\n",
              "</table>\n",
              "</div>\n",
              "      <button class=\"colab-df-convert\" onclick=\"convertToInteractive('df-e17a843a-35b3-4788-9e94-4216ae4a7598')\"\n",
              "              title=\"Convert this dataframe to an interactive table.\"\n",
              "              style=\"display:none;\">\n",
              "        \n",
              "  <svg xmlns=\"http://www.w3.org/2000/svg\" height=\"24px\"viewBox=\"0 0 24 24\"\n",
              "       width=\"24px\">\n",
              "    <path d=\"M0 0h24v24H0V0z\" fill=\"none\"/>\n",
              "    <path d=\"M18.56 5.44l.94 2.06.94-2.06 2.06-.94-2.06-.94-.94-2.06-.94 2.06-2.06.94zm-11 1L8.5 8.5l.94-2.06 2.06-.94-2.06-.94L8.5 2.5l-.94 2.06-2.06.94zm10 10l.94 2.06.94-2.06 2.06-.94-2.06-.94-.94-2.06-.94 2.06-2.06.94z\"/><path d=\"M17.41 7.96l-1.37-1.37c-.4-.4-.92-.59-1.43-.59-.52 0-1.04.2-1.43.59L10.3 9.45l-7.72 7.72c-.78.78-.78 2.05 0 2.83L4 21.41c.39.39.9.59 1.41.59.51 0 1.02-.2 1.41-.59l7.78-7.78 2.81-2.81c.8-.78.8-2.07 0-2.86zM5.41 20L4 18.59l7.72-7.72 1.47 1.35L5.41 20z\"/>\n",
              "  </svg>\n",
              "      </button>\n",
              "      \n",
              "  <style>\n",
              "    .colab-df-container {\n",
              "      display:flex;\n",
              "      flex-wrap:wrap;\n",
              "      gap: 12px;\n",
              "    }\n",
              "\n",
              "    .colab-df-convert {\n",
              "      background-color: #E8F0FE;\n",
              "      border: none;\n",
              "      border-radius: 50%;\n",
              "      cursor: pointer;\n",
              "      display: none;\n",
              "      fill: #1967D2;\n",
              "      height: 32px;\n",
              "      padding: 0 0 0 0;\n",
              "      width: 32px;\n",
              "    }\n",
              "\n",
              "    .colab-df-convert:hover {\n",
              "      background-color: #E2EBFA;\n",
              "      box-shadow: 0px 1px 2px rgba(60, 64, 67, 0.3), 0px 1px 3px 1px rgba(60, 64, 67, 0.15);\n",
              "      fill: #174EA6;\n",
              "    }\n",
              "\n",
              "    [theme=dark] .colab-df-convert {\n",
              "      background-color: #3B4455;\n",
              "      fill: #D2E3FC;\n",
              "    }\n",
              "\n",
              "    [theme=dark] .colab-df-convert:hover {\n",
              "      background-color: #434B5C;\n",
              "      box-shadow: 0px 1px 3px 1px rgba(0, 0, 0, 0.15);\n",
              "      filter: drop-shadow(0px 1px 2px rgba(0, 0, 0, 0.3));\n",
              "      fill: #FFFFFF;\n",
              "    }\n",
              "  </style>\n",
              "\n",
              "      <script>\n",
              "        const buttonEl =\n",
              "          document.querySelector('#df-e17a843a-35b3-4788-9e94-4216ae4a7598 button.colab-df-convert');\n",
              "        buttonEl.style.display =\n",
              "          google.colab.kernel.accessAllowed ? 'block' : 'none';\n",
              "\n",
              "        async function convertToInteractive(key) {\n",
              "          const element = document.querySelector('#df-e17a843a-35b3-4788-9e94-4216ae4a7598');\n",
              "          const dataTable =\n",
              "            await google.colab.kernel.invokeFunction('convertToInteractive',\n",
              "                                                     [key], {});\n",
              "          if (!dataTable) return;\n",
              "\n",
              "          const docLinkHtml = 'Like what you see? Visit the ' +\n",
              "            '<a target=\"_blank\" href=https://colab.research.google.com/notebooks/data_table.ipynb>data table notebook</a>'\n",
              "            + ' to learn more about interactive tables.';\n",
              "          element.innerHTML = '';\n",
              "          dataTable['output_type'] = 'display_data';\n",
              "          await google.colab.output.renderOutput(dataTable, element);\n",
              "          const docLink = document.createElement('div');\n",
              "          docLink.innerHTML = docLinkHtml;\n",
              "          element.appendChild(docLink);\n",
              "        }\n",
              "      </script>\n",
              "    </div>\n",
              "  </div>\n",
              "  "
            ],
            "text/plain": [
              "   clientid        income        age         loan  default\n",
              "0         1  66155.925095  59.017015  8106.532131        0\n",
              "1         2  34415.153966  48.117153  6564.745018        0\n",
              "2         3  57317.170063  63.108049  8020.953296        0\n",
              "3         4  42709.534201  45.751972  6103.642260        0\n",
              "4         5  66952.688845  18.584336  8770.099235        1\n",
              "5         6  24904.064140  57.471607    15.498598        0\n",
              "6         7  48430.359613  26.809132  5722.581981        0"
            ]
          },
          "metadata": {},
          "execution_count": 10
        }
      ]
    },
    {
      "cell_type": "code",
      "metadata": {
        "colab": {
          "base_uri": "https://localhost:8080/",
          "height": 0
        },
        "id": "z-52hhI4OpO4",
        "outputId": "d9efb13b-0215-49c1-ea45-a0a669342fdf"
      },
      "source": [
        "base_credit.tail(7) #exibe os 7 ultimos elementos da base de dados"
      ],
      "execution_count": 11,
      "outputs": [
        {
          "output_type": "execute_result",
          "data": {
            "text/html": [
              "\n",
              "  <div id=\"df-2c4a2222-efff-4726-9a9a-47eb8977d2de\">\n",
              "    <div class=\"colab-df-container\">\n",
              "      <div>\n",
              "<style scoped>\n",
              "    .dataframe tbody tr th:only-of-type {\n",
              "        vertical-align: middle;\n",
              "    }\n",
              "\n",
              "    .dataframe tbody tr th {\n",
              "        vertical-align: top;\n",
              "    }\n",
              "\n",
              "    .dataframe thead th {\n",
              "        text-align: right;\n",
              "    }\n",
              "</style>\n",
              "<table border=\"1\" class=\"dataframe\">\n",
              "  <thead>\n",
              "    <tr style=\"text-align: right;\">\n",
              "      <th></th>\n",
              "      <th>clientid</th>\n",
              "      <th>income</th>\n",
              "      <th>age</th>\n",
              "      <th>loan</th>\n",
              "      <th>default</th>\n",
              "    </tr>\n",
              "  </thead>\n",
              "  <tbody>\n",
              "    <tr>\n",
              "      <th>1993</th>\n",
              "      <td>1994</td>\n",
              "      <td>54421.410155</td>\n",
              "      <td>26.821928</td>\n",
              "      <td>3273.631823</td>\n",
              "      <td>0</td>\n",
              "    </tr>\n",
              "    <tr>\n",
              "      <th>1994</th>\n",
              "      <td>1995</td>\n",
              "      <td>24254.700791</td>\n",
              "      <td>37.751622</td>\n",
              "      <td>2225.284643</td>\n",
              "      <td>0</td>\n",
              "    </tr>\n",
              "    <tr>\n",
              "      <th>1995</th>\n",
              "      <td>1996</td>\n",
              "      <td>59221.044874</td>\n",
              "      <td>48.518179</td>\n",
              "      <td>1926.729397</td>\n",
              "      <td>0</td>\n",
              "    </tr>\n",
              "    <tr>\n",
              "      <th>1996</th>\n",
              "      <td>1997</td>\n",
              "      <td>69516.127573</td>\n",
              "      <td>23.162104</td>\n",
              "      <td>3503.176156</td>\n",
              "      <td>0</td>\n",
              "    </tr>\n",
              "    <tr>\n",
              "      <th>1997</th>\n",
              "      <td>1998</td>\n",
              "      <td>44311.449262</td>\n",
              "      <td>28.017167</td>\n",
              "      <td>5522.786693</td>\n",
              "      <td>1</td>\n",
              "    </tr>\n",
              "    <tr>\n",
              "      <th>1998</th>\n",
              "      <td>1999</td>\n",
              "      <td>43756.056605</td>\n",
              "      <td>63.971796</td>\n",
              "      <td>1622.722598</td>\n",
              "      <td>0</td>\n",
              "    </tr>\n",
              "    <tr>\n",
              "      <th>1999</th>\n",
              "      <td>2000</td>\n",
              "      <td>69436.579552</td>\n",
              "      <td>56.152617</td>\n",
              "      <td>7378.833599</td>\n",
              "      <td>0</td>\n",
              "    </tr>\n",
              "  </tbody>\n",
              "</table>\n",
              "</div>\n",
              "      <button class=\"colab-df-convert\" onclick=\"convertToInteractive('df-2c4a2222-efff-4726-9a9a-47eb8977d2de')\"\n",
              "              title=\"Convert this dataframe to an interactive table.\"\n",
              "              style=\"display:none;\">\n",
              "        \n",
              "  <svg xmlns=\"http://www.w3.org/2000/svg\" height=\"24px\"viewBox=\"0 0 24 24\"\n",
              "       width=\"24px\">\n",
              "    <path d=\"M0 0h24v24H0V0z\" fill=\"none\"/>\n",
              "    <path d=\"M18.56 5.44l.94 2.06.94-2.06 2.06-.94-2.06-.94-.94-2.06-.94 2.06-2.06.94zm-11 1L8.5 8.5l.94-2.06 2.06-.94-2.06-.94L8.5 2.5l-.94 2.06-2.06.94zm10 10l.94 2.06.94-2.06 2.06-.94-2.06-.94-.94-2.06-.94 2.06-2.06.94z\"/><path d=\"M17.41 7.96l-1.37-1.37c-.4-.4-.92-.59-1.43-.59-.52 0-1.04.2-1.43.59L10.3 9.45l-7.72 7.72c-.78.78-.78 2.05 0 2.83L4 21.41c.39.39.9.59 1.41.59.51 0 1.02-.2 1.41-.59l7.78-7.78 2.81-2.81c.8-.78.8-2.07 0-2.86zM5.41 20L4 18.59l7.72-7.72 1.47 1.35L5.41 20z\"/>\n",
              "  </svg>\n",
              "      </button>\n",
              "      \n",
              "  <style>\n",
              "    .colab-df-container {\n",
              "      display:flex;\n",
              "      flex-wrap:wrap;\n",
              "      gap: 12px;\n",
              "    }\n",
              "\n",
              "    .colab-df-convert {\n",
              "      background-color: #E8F0FE;\n",
              "      border: none;\n",
              "      border-radius: 50%;\n",
              "      cursor: pointer;\n",
              "      display: none;\n",
              "      fill: #1967D2;\n",
              "      height: 32px;\n",
              "      padding: 0 0 0 0;\n",
              "      width: 32px;\n",
              "    }\n",
              "\n",
              "    .colab-df-convert:hover {\n",
              "      background-color: #E2EBFA;\n",
              "      box-shadow: 0px 1px 2px rgba(60, 64, 67, 0.3), 0px 1px 3px 1px rgba(60, 64, 67, 0.15);\n",
              "      fill: #174EA6;\n",
              "    }\n",
              "\n",
              "    [theme=dark] .colab-df-convert {\n",
              "      background-color: #3B4455;\n",
              "      fill: #D2E3FC;\n",
              "    }\n",
              "\n",
              "    [theme=dark] .colab-df-convert:hover {\n",
              "      background-color: #434B5C;\n",
              "      box-shadow: 0px 1px 3px 1px rgba(0, 0, 0, 0.15);\n",
              "      filter: drop-shadow(0px 1px 2px rgba(0, 0, 0, 0.3));\n",
              "      fill: #FFFFFF;\n",
              "    }\n",
              "  </style>\n",
              "\n",
              "      <script>\n",
              "        const buttonEl =\n",
              "          document.querySelector('#df-2c4a2222-efff-4726-9a9a-47eb8977d2de button.colab-df-convert');\n",
              "        buttonEl.style.display =\n",
              "          google.colab.kernel.accessAllowed ? 'block' : 'none';\n",
              "\n",
              "        async function convertToInteractive(key) {\n",
              "          const element = document.querySelector('#df-2c4a2222-efff-4726-9a9a-47eb8977d2de');\n",
              "          const dataTable =\n",
              "            await google.colab.kernel.invokeFunction('convertToInteractive',\n",
              "                                                     [key], {});\n",
              "          if (!dataTable) return;\n",
              "\n",
              "          const docLinkHtml = 'Like what you see? Visit the ' +\n",
              "            '<a target=\"_blank\" href=https://colab.research.google.com/notebooks/data_table.ipynb>data table notebook</a>'\n",
              "            + ' to learn more about interactive tables.';\n",
              "          element.innerHTML = '';\n",
              "          dataTable['output_type'] = 'display_data';\n",
              "          await google.colab.output.renderOutput(dataTable, element);\n",
              "          const docLink = document.createElement('div');\n",
              "          docLink.innerHTML = docLinkHtml;\n",
              "          element.appendChild(docLink);\n",
              "        }\n",
              "      </script>\n",
              "    </div>\n",
              "  </div>\n",
              "  "
            ],
            "text/plain": [
              "      clientid        income        age         loan  default\n",
              "1993      1994  54421.410155  26.821928  3273.631823        0\n",
              "1994      1995  24254.700791  37.751622  2225.284643        0\n",
              "1995      1996  59221.044874  48.518179  1926.729397        0\n",
              "1996      1997  69516.127573  23.162104  3503.176156        0\n",
              "1997      1998  44311.449262  28.017167  5522.786693        1\n",
              "1998      1999  43756.056605  63.971796  1622.722598        0\n",
              "1999      2000  69436.579552  56.152617  7378.833599        0"
            ]
          },
          "metadata": {},
          "execution_count": 11
        }
      ]
    },
    {
      "cell_type": "code",
      "metadata": {
        "colab": {
          "base_uri": "https://localhost:8080/",
          "height": 0
        },
        "id": "PnukSjqCO14X",
        "outputId": "86296422-ccad-4eef-9d74-14956d736582"
      },
      "source": [
        "base_credit.describe()  #descrições numéricas da base de dados"
      ],
      "execution_count": 12,
      "outputs": [
        {
          "output_type": "execute_result",
          "data": {
            "text/html": [
              "\n",
              "  <div id=\"df-26eeaf5c-1e47-4404-9fe8-d3842f8005e7\">\n",
              "    <div class=\"colab-df-container\">\n",
              "      <div>\n",
              "<style scoped>\n",
              "    .dataframe tbody tr th:only-of-type {\n",
              "        vertical-align: middle;\n",
              "    }\n",
              "\n",
              "    .dataframe tbody tr th {\n",
              "        vertical-align: top;\n",
              "    }\n",
              "\n",
              "    .dataframe thead th {\n",
              "        text-align: right;\n",
              "    }\n",
              "</style>\n",
              "<table border=\"1\" class=\"dataframe\">\n",
              "  <thead>\n",
              "    <tr style=\"text-align: right;\">\n",
              "      <th></th>\n",
              "      <th>clientid</th>\n",
              "      <th>income</th>\n",
              "      <th>age</th>\n",
              "      <th>loan</th>\n",
              "      <th>default</th>\n",
              "    </tr>\n",
              "  </thead>\n",
              "  <tbody>\n",
              "    <tr>\n",
              "      <th>count</th>\n",
              "      <td>2000.000000</td>\n",
              "      <td>2000.000000</td>\n",
              "      <td>1997.000000</td>\n",
              "      <td>2000.000000</td>\n",
              "      <td>2000.000000</td>\n",
              "    </tr>\n",
              "    <tr>\n",
              "      <th>mean</th>\n",
              "      <td>1000.500000</td>\n",
              "      <td>45331.600018</td>\n",
              "      <td>40.807559</td>\n",
              "      <td>4444.369695</td>\n",
              "      <td>0.141500</td>\n",
              "    </tr>\n",
              "    <tr>\n",
              "      <th>std</th>\n",
              "      <td>577.494589</td>\n",
              "      <td>14326.327119</td>\n",
              "      <td>13.624469</td>\n",
              "      <td>3045.410024</td>\n",
              "      <td>0.348624</td>\n",
              "    </tr>\n",
              "    <tr>\n",
              "      <th>min</th>\n",
              "      <td>1.000000</td>\n",
              "      <td>20014.489470</td>\n",
              "      <td>-52.423280</td>\n",
              "      <td>1.377630</td>\n",
              "      <td>0.000000</td>\n",
              "    </tr>\n",
              "    <tr>\n",
              "      <th>25%</th>\n",
              "      <td>500.750000</td>\n",
              "      <td>32796.459717</td>\n",
              "      <td>28.990415</td>\n",
              "      <td>1939.708847</td>\n",
              "      <td>0.000000</td>\n",
              "    </tr>\n",
              "    <tr>\n",
              "      <th>50%</th>\n",
              "      <td>1000.500000</td>\n",
              "      <td>45789.117313</td>\n",
              "      <td>41.317159</td>\n",
              "      <td>3974.719419</td>\n",
              "      <td>0.000000</td>\n",
              "    </tr>\n",
              "    <tr>\n",
              "      <th>75%</th>\n",
              "      <td>1500.250000</td>\n",
              "      <td>57791.281668</td>\n",
              "      <td>52.587040</td>\n",
              "      <td>6432.410625</td>\n",
              "      <td>0.000000</td>\n",
              "    </tr>\n",
              "    <tr>\n",
              "      <th>max</th>\n",
              "      <td>2000.000000</td>\n",
              "      <td>69995.685578</td>\n",
              "      <td>63.971796</td>\n",
              "      <td>13766.051239</td>\n",
              "      <td>1.000000</td>\n",
              "    </tr>\n",
              "  </tbody>\n",
              "</table>\n",
              "</div>\n",
              "      <button class=\"colab-df-convert\" onclick=\"convertToInteractive('df-26eeaf5c-1e47-4404-9fe8-d3842f8005e7')\"\n",
              "              title=\"Convert this dataframe to an interactive table.\"\n",
              "              style=\"display:none;\">\n",
              "        \n",
              "  <svg xmlns=\"http://www.w3.org/2000/svg\" height=\"24px\"viewBox=\"0 0 24 24\"\n",
              "       width=\"24px\">\n",
              "    <path d=\"M0 0h24v24H0V0z\" fill=\"none\"/>\n",
              "    <path d=\"M18.56 5.44l.94 2.06.94-2.06 2.06-.94-2.06-.94-.94-2.06-.94 2.06-2.06.94zm-11 1L8.5 8.5l.94-2.06 2.06-.94-2.06-.94L8.5 2.5l-.94 2.06-2.06.94zm10 10l.94 2.06.94-2.06 2.06-.94-2.06-.94-.94-2.06-.94 2.06-2.06.94z\"/><path d=\"M17.41 7.96l-1.37-1.37c-.4-.4-.92-.59-1.43-.59-.52 0-1.04.2-1.43.59L10.3 9.45l-7.72 7.72c-.78.78-.78 2.05 0 2.83L4 21.41c.39.39.9.59 1.41.59.51 0 1.02-.2 1.41-.59l7.78-7.78 2.81-2.81c.8-.78.8-2.07 0-2.86zM5.41 20L4 18.59l7.72-7.72 1.47 1.35L5.41 20z\"/>\n",
              "  </svg>\n",
              "      </button>\n",
              "      \n",
              "  <style>\n",
              "    .colab-df-container {\n",
              "      display:flex;\n",
              "      flex-wrap:wrap;\n",
              "      gap: 12px;\n",
              "    }\n",
              "\n",
              "    .colab-df-convert {\n",
              "      background-color: #E8F0FE;\n",
              "      border: none;\n",
              "      border-radius: 50%;\n",
              "      cursor: pointer;\n",
              "      display: none;\n",
              "      fill: #1967D2;\n",
              "      height: 32px;\n",
              "      padding: 0 0 0 0;\n",
              "      width: 32px;\n",
              "    }\n",
              "\n",
              "    .colab-df-convert:hover {\n",
              "      background-color: #E2EBFA;\n",
              "      box-shadow: 0px 1px 2px rgba(60, 64, 67, 0.3), 0px 1px 3px 1px rgba(60, 64, 67, 0.15);\n",
              "      fill: #174EA6;\n",
              "    }\n",
              "\n",
              "    [theme=dark] .colab-df-convert {\n",
              "      background-color: #3B4455;\n",
              "      fill: #D2E3FC;\n",
              "    }\n",
              "\n",
              "    [theme=dark] .colab-df-convert:hover {\n",
              "      background-color: #434B5C;\n",
              "      box-shadow: 0px 1px 3px 1px rgba(0, 0, 0, 0.15);\n",
              "      filter: drop-shadow(0px 1px 2px rgba(0, 0, 0, 0.3));\n",
              "      fill: #FFFFFF;\n",
              "    }\n",
              "  </style>\n",
              "\n",
              "      <script>\n",
              "        const buttonEl =\n",
              "          document.querySelector('#df-26eeaf5c-1e47-4404-9fe8-d3842f8005e7 button.colab-df-convert');\n",
              "        buttonEl.style.display =\n",
              "          google.colab.kernel.accessAllowed ? 'block' : 'none';\n",
              "\n",
              "        async function convertToInteractive(key) {\n",
              "          const element = document.querySelector('#df-26eeaf5c-1e47-4404-9fe8-d3842f8005e7');\n",
              "          const dataTable =\n",
              "            await google.colab.kernel.invokeFunction('convertToInteractive',\n",
              "                                                     [key], {});\n",
              "          if (!dataTable) return;\n",
              "\n",
              "          const docLinkHtml = 'Like what you see? Visit the ' +\n",
              "            '<a target=\"_blank\" href=https://colab.research.google.com/notebooks/data_table.ipynb>data table notebook</a>'\n",
              "            + ' to learn more about interactive tables.';\n",
              "          element.innerHTML = '';\n",
              "          dataTable['output_type'] = 'display_data';\n",
              "          await google.colab.output.renderOutput(dataTable, element);\n",
              "          const docLink = document.createElement('div');\n",
              "          docLink.innerHTML = docLinkHtml;\n",
              "          element.appendChild(docLink);\n",
              "        }\n",
              "      </script>\n",
              "    </div>\n",
              "  </div>\n",
              "  "
            ],
            "text/plain": [
              "          clientid        income          age          loan      default\n",
              "count  2000.000000   2000.000000  1997.000000   2000.000000  2000.000000\n",
              "mean   1000.500000  45331.600018    40.807559   4444.369695     0.141500\n",
              "std     577.494589  14326.327119    13.624469   3045.410024     0.348624\n",
              "min       1.000000  20014.489470   -52.423280      1.377630     0.000000\n",
              "25%     500.750000  32796.459717    28.990415   1939.708847     0.000000\n",
              "50%    1000.500000  45789.117313    41.317159   3974.719419     0.000000\n",
              "75%    1500.250000  57791.281668    52.587040   6432.410625     0.000000\n",
              "max    2000.000000  69995.685578    63.971796  13766.051239     1.000000"
            ]
          },
          "metadata": {},
          "execution_count": 12
        }
      ]
    },
    {
      "cell_type": "code",
      "metadata": {
        "colab": {
          "base_uri": "https://localhost:8080/",
          "height": 0
        },
        "id": "s_okeLjxPRcg",
        "outputId": "afe89686-2007-4101-8db8-1cdfe46f1022"
      },
      "source": [
        "base_credit[base_credit['income'] >= 69995] #exibição com filtro"
      ],
      "execution_count": 13,
      "outputs": [
        {
          "output_type": "execute_result",
          "data": {
            "text/html": [
              "\n",
              "  <div id=\"df-b464bb08-a8c1-430d-96f3-233ef0f68aa6\">\n",
              "    <div class=\"colab-df-container\">\n",
              "      <div>\n",
              "<style scoped>\n",
              "    .dataframe tbody tr th:only-of-type {\n",
              "        vertical-align: middle;\n",
              "    }\n",
              "\n",
              "    .dataframe tbody tr th {\n",
              "        vertical-align: top;\n",
              "    }\n",
              "\n",
              "    .dataframe thead th {\n",
              "        text-align: right;\n",
              "    }\n",
              "</style>\n",
              "<table border=\"1\" class=\"dataframe\">\n",
              "  <thead>\n",
              "    <tr style=\"text-align: right;\">\n",
              "      <th></th>\n",
              "      <th>clientid</th>\n",
              "      <th>income</th>\n",
              "      <th>age</th>\n",
              "      <th>loan</th>\n",
              "      <th>default</th>\n",
              "    </tr>\n",
              "  </thead>\n",
              "  <tbody>\n",
              "    <tr>\n",
              "      <th>422</th>\n",
              "      <td>423</td>\n",
              "      <td>69995.685578</td>\n",
              "      <td>52.719673</td>\n",
              "      <td>2084.370861</td>\n",
              "      <td>0</td>\n",
              "    </tr>\n",
              "  </tbody>\n",
              "</table>\n",
              "</div>\n",
              "      <button class=\"colab-df-convert\" onclick=\"convertToInteractive('df-b464bb08-a8c1-430d-96f3-233ef0f68aa6')\"\n",
              "              title=\"Convert this dataframe to an interactive table.\"\n",
              "              style=\"display:none;\">\n",
              "        \n",
              "  <svg xmlns=\"http://www.w3.org/2000/svg\" height=\"24px\"viewBox=\"0 0 24 24\"\n",
              "       width=\"24px\">\n",
              "    <path d=\"M0 0h24v24H0V0z\" fill=\"none\"/>\n",
              "    <path d=\"M18.56 5.44l.94 2.06.94-2.06 2.06-.94-2.06-.94-.94-2.06-.94 2.06-2.06.94zm-11 1L8.5 8.5l.94-2.06 2.06-.94-2.06-.94L8.5 2.5l-.94 2.06-2.06.94zm10 10l.94 2.06.94-2.06 2.06-.94-2.06-.94-.94-2.06-.94 2.06-2.06.94z\"/><path d=\"M17.41 7.96l-1.37-1.37c-.4-.4-.92-.59-1.43-.59-.52 0-1.04.2-1.43.59L10.3 9.45l-7.72 7.72c-.78.78-.78 2.05 0 2.83L4 21.41c.39.39.9.59 1.41.59.51 0 1.02-.2 1.41-.59l7.78-7.78 2.81-2.81c.8-.78.8-2.07 0-2.86zM5.41 20L4 18.59l7.72-7.72 1.47 1.35L5.41 20z\"/>\n",
              "  </svg>\n",
              "      </button>\n",
              "      \n",
              "  <style>\n",
              "    .colab-df-container {\n",
              "      display:flex;\n",
              "      flex-wrap:wrap;\n",
              "      gap: 12px;\n",
              "    }\n",
              "\n",
              "    .colab-df-convert {\n",
              "      background-color: #E8F0FE;\n",
              "      border: none;\n",
              "      border-radius: 50%;\n",
              "      cursor: pointer;\n",
              "      display: none;\n",
              "      fill: #1967D2;\n",
              "      height: 32px;\n",
              "      padding: 0 0 0 0;\n",
              "      width: 32px;\n",
              "    }\n",
              "\n",
              "    .colab-df-convert:hover {\n",
              "      background-color: #E2EBFA;\n",
              "      box-shadow: 0px 1px 2px rgba(60, 64, 67, 0.3), 0px 1px 3px 1px rgba(60, 64, 67, 0.15);\n",
              "      fill: #174EA6;\n",
              "    }\n",
              "\n",
              "    [theme=dark] .colab-df-convert {\n",
              "      background-color: #3B4455;\n",
              "      fill: #D2E3FC;\n",
              "    }\n",
              "\n",
              "    [theme=dark] .colab-df-convert:hover {\n",
              "      background-color: #434B5C;\n",
              "      box-shadow: 0px 1px 3px 1px rgba(0, 0, 0, 0.15);\n",
              "      filter: drop-shadow(0px 1px 2px rgba(0, 0, 0, 0.3));\n",
              "      fill: #FFFFFF;\n",
              "    }\n",
              "  </style>\n",
              "\n",
              "      <script>\n",
              "        const buttonEl =\n",
              "          document.querySelector('#df-b464bb08-a8c1-430d-96f3-233ef0f68aa6 button.colab-df-convert');\n",
              "        buttonEl.style.display =\n",
              "          google.colab.kernel.accessAllowed ? 'block' : 'none';\n",
              "\n",
              "        async function convertToInteractive(key) {\n",
              "          const element = document.querySelector('#df-b464bb08-a8c1-430d-96f3-233ef0f68aa6');\n",
              "          const dataTable =\n",
              "            await google.colab.kernel.invokeFunction('convertToInteractive',\n",
              "                                                     [key], {});\n",
              "          if (!dataTable) return;\n",
              "\n",
              "          const docLinkHtml = 'Like what you see? Visit the ' +\n",
              "            '<a target=\"_blank\" href=https://colab.research.google.com/notebooks/data_table.ipynb>data table notebook</a>'\n",
              "            + ' to learn more about interactive tables.';\n",
              "          element.innerHTML = '';\n",
              "          dataTable['output_type'] = 'display_data';\n",
              "          await google.colab.output.renderOutput(dataTable, element);\n",
              "          const docLink = document.createElement('div');\n",
              "          docLink.innerHTML = docLinkHtml;\n",
              "          element.appendChild(docLink);\n",
              "        }\n",
              "      </script>\n",
              "    </div>\n",
              "  </div>\n",
              "  "
            ],
            "text/plain": [
              "     clientid        income        age         loan  default\n",
              "422       423  69995.685578  52.719673  2084.370861        0"
            ]
          },
          "metadata": {},
          "execution_count": 13
        }
      ]
    },
    {
      "cell_type": "markdown",
      "metadata": {
        "id": "Xd25ergDL1Pd"
      },
      "source": [
        "### Visualização dos dados"
      ]
    },
    {
      "cell_type": "code",
      "metadata": {
        "colab": {
          "base_uri": "https://localhost:8080/",
          "height": 0
        },
        "id": "Vp8Vt06VL-HM",
        "outputId": "1739de8f-4de7-4653-f1e2-eda5723cc3bd"
      },
      "source": [
        "sns.countplot(x=base_credit['default']); #usa o método da biblioteca sns para plocar a contagem dos  valores de 'default'"
      ],
      "execution_count": 14,
      "outputs": [
        {
          "output_type": "display_data",
          "data": {
            "image/png": "[encoded data removed]",
            "text/plain": [
              "<Figure size 432x288 with 1 Axes>"
            ]
          },
          "metadata": {
            "needs_background": "light"
          }
        }
      ]
    },
    {
      "cell_type": "code",
      "metadata": {
        "colab": {
          "base_uri": "https://localhost:8080/",
          "height": 0
        },
        "id": "zOYfIpC5NHBF",
        "outputId": "5eaa10cc-c3b7-420c-c634-ca381ba62570"
      },
      "source": [
        "plt.hist(x = base_credit['age']); #usa o método da biblioteca plt para exibir o histograma das idades"
      ],
      "execution_count": 15,
      "outputs": [
        {
          "output_type": "display_data",
          "data": {
            "image/png": "[encoded data removed]",
            "text/plain": [
              "<Figure size 432x288 with 1 Axes>"
            ]
          },
          "metadata": {
            "needs_background": "light"
          }
        }
      ]
    },
    {
      "cell_type": "code",
      "metadata": {
        "colab": {
          "base_uri": "https://localhost:8080/",
          "height": 0
        },
        "id": "txr42Xj3Nbhk",
        "outputId": "5f5c23cd-c291-4966-90a4-9785b3068636"
      },
      "source": [
        "plt.hist(x = base_credit['income']);"
      ],
      "execution_count": 16,
      "outputs": [
        {
          "output_type": "display_data",
          "data": {
            "image/png": "[encoded data removed]",
            "text/plain": [
              "<Figure size 432x288 with 1 Axes>"
            ]
          },
          "metadata": {
            "needs_background": "light"
          }
        }
      ]
    },
    {
      "cell_type": "code",
      "metadata": {
        "colab": {
          "base_uri": "https://localhost:8080/",
          "height": 0
        },
        "id": "nUWepLkBNe7k",
        "outputId": "f3f4fc94-1d67-4750-8a8b-76c47dbc029c"
      },
      "source": [
        "plt.hist(x = base_credit['loan']);"
      ],
      "execution_count": 17,
      "outputs": [
        {
          "output_type": "display_data",
          "data": {
            "image/png": "[encoded data removed]",
            "text/plain": [
              "<Figure size 432x288 with 1 Axes>"
            ]
          },
          "metadata": {
            "needs_background": "light"
          }
        }
      ]
    },
    {
      "cell_type": "code",
      "metadata": {
        "colab": {
          "base_uri": "https://localhost:8080/",
          "height": 0
        },
        "id": "uloLKoYCNmRE",
        "outputId": "6d95f94c-3174-451c-bd83-630980ebef0e"
      },
      "source": [
        "grafico = px.scatter_matrix(base_credit, dimensions=['age', 'income', 'loan'], color='default') #biblioteca px para exibir grafico dinamico\n",
        "grafico.show()"
      ],
      "execution_count": 18,
      "outputs": [
        {
          "output_type": "display_data",
          "data": {
            "text/html": [
              "<html>\n",
              "<head><meta charset=\"utf-8\" /></head>\n",
              "<body>\n",
              "    <div>            <script src=\"https://cdnjs.cloudflare.com/ajax/libs/mathjax/2.7.5/MathJax.js?config=TeX-AMS-MML_SVG\"></script><script type=\"text/javascript\">if (window.MathJax) {MathJax.Hub.Config({SVG: {font: \"STIX-Web\"}});}</script>                <script type=\"text/javascript\">window.PlotlyConfig = {MathJaxConfig: 'local'};</script>\n",
              "        <script src=\"https://cdn.plot.ly/plotly-2.6.3.min.js\"></script>                <div id=\"3fd2c55b-99a5-4b4d-9ef4-72d575ef566d\" class=\"plotly-graph-div\" style=\"height:525px; width:100%;\"></div>            <script type=\"text/javascript\">                                    window.PLOTLYENV=window.PLOTLYENV || {};                                    if (document.getElementById(\"3fd2c55b-99a5-4b4d-9ef4-72d575ef566d\")) {                    Plotly.newPlot(                        \"3fd2c55b-99a5-4b4d-9ef4-72d575ef566d\",                        [{\"dimensions\":[{\"axis\":{\"matches\":true},\"label\":\"age\",\"values\":[59.017015066929204,48.117153104860286,63.10804949188599,45.751972352154596,18.5843359269202,57.4716071025468,26.809132419060894,32.8975483207032,55.496852539479704,39.7763780555688,25.679575353860894,60.4719358547591,26.3550438545644,61.576775823254096,39.2015528911725,-28.218361321371003,39.5745303500444,60.84831793932239,61.6905707078986,26.076093018055,31.761354170739693,-52.423279919661596,48.5769745339639,51.9706241027452,48.84092176985,27.031741308979697,-36.4969755136408,55.839921845123214,null,54.51094756368551,null,null,38.1319074640051,38.6615042379126,36.672020919621,20.666778734419502,58.185017302632296,50.2250059167854,18.840525757987105,32.6760442531668,32.8966930676252,62.641302851960106,49.0404332359321,25.252330708783106,47.3218990601599,18.130038363393396,47.25073103467,50.088671288918704,57.9287192984484,46.308240193408004,35.7086517671123,29.2460566032678,54.9592871875502,47.7150637004524,49.3663711971603,50.09815906733271,23.4436241723597,31.9685264034197,20.8376339208335,36.84780068183321,53.7450604746118,47.944121700245894,62.0238024718128,34.4748710067943,25.107524048071397,41.5271887867711,60.54107743361961,22.242097743786893,21.598676353692998,49.56597727723421,52.3838734384626,21.2164916703478,33.1831062319688,44.825715307612,28.6063759573735,51.0129371876828,60.28875682642679,56.851330957375495,61.22928542876621,50.074924274347715,43.8309230962768,53.83952000364661,43.0279434239492,24.038265345152503,33.656441235914805,19.777385845780397,25.5850369762629,19.2124481862411,27.561712404713006,25.063367417547894,61.440913001541006,59.3338370760903,56.494410405401105,63.3794076466002,55.366188046522396,28.839542468544106,63.16991394385701,63.735710240900495,20.240621272008894,24.179470323026198,36.6515586250462,47.976308161392794,49.922603716142504,25.7084823274054,45.6552049978636,44.2948713297956,29.9100334881805,34.7392676644959,44.3150380225852,35.5140173663385,19.5157164894044,53.0476547656581,20.991243356373197,29.2350565218367,38.6606185785495,47.4687409927137,59.6751149813645,26.585778484120997,38.587783391121796,29.9045216715895,35.341948841698496,23.8219211781397,29.325901472941,21.375033318065103,18.477425018791106,22.5358841912821,22.8269377253018,59.5229867356829,53.410862499848,46.7538959244266,45.0769692314789,24.3771287729032,29.4230185477063,53.3095358414575,32.4756210590713,48.3449929575436,53.582279865164296,24.7831077934243,38.1160166831687,21.2076896023937,22.569568357430395,37.3097529392689,26.1922096619383,50.2377849854529,39.048409874551,26.101500419899807,58.8569274861366,49.1538267019205,60.52500645350661,40.8329182346351,57.756243164651096,44.048516512848394,51.1677144751884,29.1121819927357,32.4718877156265,46.154191521462096,55.2345850714482,27.9096519639716,47.1057667518035,41.4163357610814,58.3484551762231,31.081884507089896,60.5296831950545,33.1156532461755,27.873486188706003,43.8394727888517,29.297398745548,21.108773565851198,42.8286152952351,28.9702452290803,53.898080206010505,60.4021064555272,49.3904022299685,50.5067522143945,43.725447806064,63.376233011949786,57.5810503219254,33.0152727491222,23.611053848173494,19.6300378022715,26.723162444774104,44.9388158493675,51.460875617805904,60.5169084747322,20.5836314358748,26.042092686519,54.0104153105058,56.72462562192229,55.59654947882521,45.5540205067955,29.0720967198722,52.5870399242267,44.2215166972019,53.868651077616995,44.774380587507,23.7774331844412,53.6956359203905,28.653283655177802,33.4312054850161,53.6699082404375,52.42442217422651,26.2068803249858,37.2764920084737,62.44209669111301,28.4456774769351,37.9454801897518,61.5248488285579,46.6789695257321,48.6236102138646,42.0493419757113,42.7752558849752,56.15141838463021,31.9281536792405,25.4631600710563,37.027752841822796,53.40508336713541,20.1618777224794,50.979134705849,61.260144198779,36.2151896632276,60.93758158152921,55.1925993468612,41.2619462260045,50.9284318452701,41.3531710146926,27.3018002295867,31.9096907987259,48.07852007215839,20.2281011762097,22.918212262913602,52.300504095852396,47.2954547600821,48.9632109752856,25.5143896490335,58.6383316046558,22.4861360387877,54.964873311575495,45.424993005115496,57.9306961889379,63.4214554904029,53.5338888033293,27.8029975118116,40.446167938876904,18.396969827823305,21.8976978017017,37.399069886189,50.4129322776571,44.7227962231264,26.310194327030306,60.6666585183702,24.7795283021405,58.4878998775966,51.29419703828171,39.7397662643343,45.01979642966759,53.6151803117245,43.5143038420938,55.2220663037151,29.9207484745421,36.6687041711994,60.104818883352,57.3796501425095,54.530172400642215,29.421412573196,47.0052601420321,62.02213807310911,53.082214448601,52.339376373216496,39.0091894618236,55.54762961110099,40.8445077631623,25.1596109354869,50.108486676123,23.238169600255798,56.6005673469044,25.6021726368926,45.1232806812041,19.8196311858483,30.4140330967493,49.0278497678228,57.6437090644613,33.2456503002904,55.587210861500395,61.9842032282613,40.4054552190937,50.0046984688379,41.9700667927973,46.4470364344306,48.120799149386606,45.1209932160564,40.80560310883449,43.5972086614929,53.362340441439294,37.778664294630296,19.716176087502397,22.6446692147292,47.704288747627295,21.495505332946802,51.69305562227961,21.0219965986907,55.171019956003896,32.553030352108195,57.9016834627837,55.3668996649794,50.3134648902342,27.080390626099,21.1448488398455,33.006359541323,20.3008601283655,62.0016749538481,53.576940739993,51.932268046774,37.2856837031431,47.969675232190596,52.4367397828028,54.6232338510454,46.5799600426108,25.8665337795392,20.0109276962467,58.5191334835254,34.2942604152486,21.282783722970606,43.1939415303059,61.9533737506717,62.049800970125894,30.5360198994167,45.51997723802921,33.8955782176927,39.415470788721,42.09009227762,20.105458715930602,48.9125574673526,49.75058566872029,50.2041390226223,26.563716534059505,44.872607807628796,62.428466856945285,59.436500572133795,58.84065674990421,52.4860697872937,54.6319151935168,47.191410086117706,27.8844150044024,26.6664690533653,56.9579610438086,30.2678123456426,52.967087706551,51.3580610542558,51.01624041982,19.9466844960116,60.7300558583811,52.3828332629055,32.4029204347171,18.8303362894803,28.155320470687,43.0130229773931,42.7513535995968,62.9096049447544,32.2862543463707,40.039270239416496,53.28803373547271,24.2041407017969,27.0641977209598,54.948061559814995,52.899213241878904,61.8106158780865,22.492923848331,50.52642975049089,28.6317861331627,53.03869686415422,37.737854486797,55.73920069914311,52.8386391988024,55.42913449741901,59.245984996668994,29.7744096326642,31.596858642529696,56.84083063574511,38.98900888860229,35.5919052129611,33.4840662707575,56.311668782029294,45.7314004921354,56.5173067129217,53.550199660006896,29.115531621500807,42.307918459176996,62.065251282881896,49.363881094846896,49.0651086377911,51.0198048097081,40.8477560305037,23.5107674831524,23.513042524457003,31.1392572042532,57.6342398361303,28.2175287632272,49.6584056043066,54.83645980479201,23.3115743244998,44.808841190300896,53.2058221558109,18.6630267929286,46.0507889031433,63.9249755814672,22.9843944823369,47.5405059303157,28.5899873124436,47.7617399827577,51.0563588943332,44.206686655525104,50.4029816468246,18.075335860718,63.0159466909245,30.249871416483106,27.0216773641296,37.7780147739686,53.7525228345767,36.5013708979823,43.9410412409343,40.9114946299233,28.188530517276398,52.719673210755,45.3058510269038,48.1095946743153,34.393706864211694,35.0154038900509,18.8429928976111,25.8393941298127,25.2598693897016,46.7659284593537,50.043820101302096,24.4183572856709,25.4163910276257,24.849960332736398,32.4554232852533,39.955194065813,44.409974959213294,44.9651258219965,56.62695133779199,28.818273770157198,60.058777673635596,47.0027460702695,57.442219358403214,20.1403118157759,47.151148673147,20.709892833139698,53.9356266343966,55.1507588205859,24.8449592967518,39.96390620013701,35.775600387714796,27.515368877910102,18.326122155413,30.888892731163697,47.839100137352894,52.3358155498281,33.2805235567503,26.382710393052502,63.800670907367,42.9319930765778,47.331397120375215,39.7047263034619,38.2274417518638,27.9331710166298,56.6321662031114,32.4135985886678,42.73457771632821,21.2967032683082,44.2378814583644,58.568876066710786,40.3611400881782,32.1632712800056,21.9063058434986,49.4130304073915,19.3715205355547,36.0744793792255,58.74748469516629,55.1259217481129,53.3427248103544,29.315767397638396,62.369888597168,30.6282073752955,18.5286279926077,60.7552497629076,20.0963994744234,28.758801679126897,55.2648774106055,32.5332560278475,28.7354316161945,28.62581917550411,46.9182215244509,21.274210639298,49.004692913033104,47.1836194796488,26.651837771758398,54.308926813304396,31.7322647487745,61.481522549875095,21.3731215777807,23.9513885802589,41.553842225112,40.9803287507966,34.6683487799019,42.3945969995111,36.563092165160896,47.30828613741321,41.8198233190924,61.6451227366924,60.5821975269355,36.9707166915759,27.3041244307533,27.6310877874494,49.7740637762472,55.9030230478384,47.178784891031704,33.0735146761872,25.517999139614396,57.5200941171497,26.766311223153,62.2943905089051,26.494169670157103,38.2525118570775,23.973829543218002,25.618240618147002,55.71713443286721,59.8524872446433,54.303912614472196,20.5874274233356,45.573993484024,54.181295569520394,45.890282799489796,51.944008814171,28.5319973430596,19.497102680616106,25.0643792431802,58.527180749457294,55.518926667049506,37.3942870064639,51.146827210206496,50.3192126206122,41.45419508824121,35.7711543226615,52.089202798902996,18.4162362311035,38.04052822338421,42.8901015482843,27.5303214336745,53.54481968609621,25.301877188030602,32.1782629601657,58.9949772898108,21.874746390152698,56.8378381496295,22.3484194725752,42.2750075273216,62.319164680317,59.362512473482596,47.0350984968245,49.7294325656258,27.9384801317938,38.457559687551104,53.543408808764106,54.1049066702835,59.6337369862013,43.8106586406939,45.928971621673604,32.5093102375977,62.8294148314744,33.6821509548463,28.155084246303897,47.068105542101,58.907327611930704,46.438223131466714,34.058644853998,55.542362715583295,27.4332205634564,63.4005892067216,60.9125613430515,53.403433673549394,19.8870530799031,21.6623410205357,34.0100260181352,19.304691826459,50.3030429887585,20.2576053403318,54.8174662012607,27.1962682502344,35.6521986378357,48.058599114418,33.945671624504,44.3560899454169,56.1940032062121,27.465280933305607,57.0969364880584,18.6478525786661,36.4082663068548,24.3935543466359,41.875001901295,47.2234288896434,39.281433168798706,41.9411697583273,61.3126543858089,51.1412676903419,32.2450079689734,62.130755460355395,62.9481293545105,53.674341003410504,31.7648890004493,23.986563928891,22.2630956131034,37.5427567730658,55.3610418764874,57.5421556280926,49.31063445238401,42.765559321735104,41.0849091280252,46.598513542208785,38.6837404002436,41.994010291062295,40.3030153843574,63.5151151381433,49.5150355361402,38.491628350224296,22.5428407723084,48.9172136238776,54.44842475513,34.4429727895185,23.076034987811,33.8505223579705,50.4237628807314,21.721358859445896,36.350075381808,53.9306910806336,55.8490920122713,49.3399269720539,30.9835570501164,32.5968318535015,19.329107891302602,53.63820349238811,50.8955430407077,62.6893636430614,51.647062854841394,47.2466262932867,25.529610356316,42.6711944923736,23.0814173929393,26.6271984525956,27.131530206184802,23.9729682495818,35.7160736531951,53.4286878337152,44.1091034938581,31.696455666329694,55.2125356951728,21.420160175766803,58.0816884133965,44.453362821601296,57.21959191840139,55.158467172645,62.2016585152596,60.544598072301596,42.404940330889104,23.181443628389395,53.367754463106394,48.977448035497204,35.0865972880274,26.3497418938205,52.5336985392496,48.6514598648064,51.388218862470204,38.92128903651611,27.8079414837994,41.7177590057254,29.421142429579,38.8767124265432,34.5964918844402,24.686733096838,44.6286484147422,33.929424236528604,48.3197407145053,28.818521979264894,62.770110633689896,63.6253054803237,41.4688852438703,43.88730905111879,43.905429022852296,51.4895268101245,41.8526130542159,59.4719182071276,57.705559293273794,53.37901060422879,61.388971141073895,36.9204115439206,21.2391576226801,22.983635846059798,25.925025629345303,18.3097456344403,34.2207668605261,42.624393875245,61.3719132794067,30.651823387481297,26.5513867693953,43.5236232024617,33.8001351165585,42.3772462992929,63.31227526022121,24.264855359215304,45.886541584041005,40.8733375482261,27.3703380203806,43.956171318423,29.7081892956048,35.2983984411694,24.3516025198624,46.5357845406979,54.6203531795181,35.8306517112069,48.185907284729204,59.003768304828604,53.4446602477692,56.9954393552616,57.278290571644895,37.217654004692996,40.296722322236704,59.6770221912302,32.3617921588011,25.302530789282198,41.8136523533612,46.3294121143408,59.1448074136861,25.5482243257575,45.6444349931553,40.5488618090749,42.0974981090985,26.561012302525306,44.41273214202371,56.0316035267897,32.3916598488577,55.5812039119191,25.5955243813805,39.7149895974435,48.2406478086486,40.2791402386501,25.856677569914602,44.4978791652247,41.6325453221798,29.0336793586612,47.0737268491648,29.2626339835115,22.168262908235196,60.6552104717121,44.5296706766821,22.300125380978,51.1797121162526,34.405086162034394,54.0833714376204,58.4260793160647,22.1093805856071,56.5669315373525,61.836844710167505,37.664198640268296,38.3059819466434,25.656281858217,30.752315645571798,43.20724464952949,47.7751709497534,45.4156241421588,31.125332410913,34.5148812653497,40.388842944987104,54.94011866487561,53.1073599536903,44.3926223418675,53.700273237656795,49.7139043789357,60.276389340404386,42.3012538384646,47.4181083911099,60.5793527024798,33.804503521882,49.674219635780894,35.0941635370255,52.640624420251704,22.344923628028496,39.0386727838777,34.7009895360097,31.6031620721333,41.2409060192294,19.9594523082487,25.3291227403097,40.5675955507904,29.636369307525506,59.486848228611095,30.280927554238602,45.829426520969704,59.6917192977853,32.2145080873743,56.4096822156571,51.9397291215137,25.9064452042803,40.774305584374794,32.4735058033839,53.2281321543269,46.479153247084504,47.1273699835874,35.8507148684002,36.0585051872768,59.70451917639,53.198278944473714,41.9440537178889,49.5572698125616,44.557108595036,60.5802186657675,58.79376695957029,28.948204752989106,30.676849837880606,57.5763008045033,55.8568540653214,31.000768078491106,45.038576235994704,20.118845096323604,46.169014772865886,52.24667844874779,47.4213283620775,41.2400346901268,33.403173910453894,62.136373864952496,47.7529402710497,56.7655671010725,22.9615335506387,57.486955132801114,58.7940956773236,29.1899978881702,42.1331095667556,54.66582085750999,48.09680230356749,34.7233597366139,20.560396471526502,29.5495097753592,25.1471019247547,32.072008041665,40.1948889852501,54.663929305970704,60.1660164748318,57.86806021630761,25.976458594203,54.910971514880714,34.3504997366108,23.125877250917306,35.979010198731,54.3924881364219,59.0226465594023,28.733358708676,42.9149115667678,47.149545804597395,58.1365677523427,32.4746129391715,61.9599347501062,24.7884375578724,18.695798727683695,24.3714581453241,30.485230318270602,28.616509240120607,47.7227678541094,54.142548226751394,35.4718469656073,35.2682511825114,41.1508777858689,21.699699527584,21.8542913463898,53.8968184147961,22.7386025083251,53.5978628238663,36.3746234392747,45.471049905289,48.2885851110332,42.7969214715995,22.146262606140198,46.8319495972246,26.3031469769776,40.6168506052345,60.97094455920161,42.782855549827204,48.285030242521294,20.5852316911332,29.3008653833531,22.484048533253397,34.4796788198873,22.7896366892383,36.5523909307085,44.9091980499215,39.94416068634021,32.3969839904457,63.487873623613304,36.6745834872127,46.012343159876785,20.9326715869829,63.3739421730861,41.5310972742736,52.08290527062489,19.1351382303983,18.621307099238,58.9409142830409,27.8009201702662,37.7403956875205,33.5597739792429,35.7043567909859,25.5863821250387,25.853856789879494,19.2075996422209,37.6196372602135,25.0547269559465,44.44565129932021,55.0097213611007,55.1564379627816,48.898758229799604,29.36146192858,55.2882977472618,45.0321259801276,60.3773854388855,51.3064918876626,29.3964444613084,51.37341726711021,62.6251084581017,38.952739545609795,46.47670398280021,42.88355929171671,63.189986590296,20.4049915121868,28.1087074321695,54.0686636208557,54.2647477448918,18.874357114546,63.885043743066504,42.8418413973413,52.0858715916984,19.0816236077808,35.3614920396358,36.298051288351395,50.241487954743214,60.807017668150394,63.930734686087796,49.6374590154737,28.9600249473006,36.3568546553142,18.6712893769145,27.291971609462102,55.4090137514286,35.5224991776049,27.993409112561498,34.9126990740187,31.054548121523105,39.1573059842922,28.3068615505472,31.390791157260495,62.3285863017663,33.6895613595843,23.282966454979,57.2635917728767,50.6512996880338,19.2277783197351,61.1649569645524,20.8043047981337,55.696529349777784,20.9909665295854,23.4877088945359,27.5284397248179,54.3172402922064,33.0913530015387,43.8954665251076,53.495394564233706,43.8804593579844,55.3661617422476,32.6511982483789,29.350288588088002,18.2999803973362,20.1268885387108,58.5713950437494,62.19707881892101,45.6872204705141,26.854012909811,20.039864229969695,26.6331468173303,30.3998898901045,35.602517284918605,24.707618969492607,22.9110705880448,21.603231470100603,24.2437830967829,44.0273743555881,58.1195471086539,48.3510828255676,45.7291535651311,27.2101574214175,51.548922783695204,35.538517334964105,39.7981913359836,21.402402616106,19.6025430983864,41.6018864475191,32.1452214065939,56.5100399320945,49.325769520830406,21.3804285540245,19.1324464869685,52.6268528900109,26.449336839839802,35.134836907498496,40.8246740507893,33.0311115211807,60.9422627035528,22.939635145478,32.812187960837,23.4413330657408,22.8642844832502,23.1808664123528,62.3589558079839,22.583609924186,45.0493739051744,31.549317500088396,29.9771178071387,48.3584494683892,51.04678128939121,51.029204678721705,24.2270476552658,63.384797013364704,53.6232994752936,40.368115155026295,49.45591010246429,56.6310642831959,42.5880697602406,30.999616120476304,25.568741328083,51.4329729834571,53.7629200383089,57.6864224728197,51.9394795414992,54.7213634261861,18.306216438300897,21.4227129220963,38.5789446192794,40.901724176947,23.5900381784886,52.17576008895411,47.6355769587681,30.330982693470997,54.6567751751281,34.669146894011604,36.3117125998251,48.05355677986521,39.6313519426621,56.385251584928504,49.499960873275995,38.24401685083279,54.62546357745301,59.9902563230135,51.39444844517861,56.909707329701604,49.296121936291506,32.8389940196648,60.064201827161,39.2296556243673,28.2461758642457,38.2803032551892,26.629377369768896,58.579258533194704,23.953435258474197,18.393829551525396,25.405445643235,42.608860772568704,48.6518424763344,58.0985400285572,49.192422698717614,25.3775038844906,61.0133191822097,19.0578916789964,31.013961953576693,50.611599714960896,28.5471422006376,38.6421196153387,19.6645014896058,18.8336203182116,39.8353766053915,43.7330526653677,19.7837881306186,24.4703706367873,22.364457368850694,33.357946901582196,50.015552088152596,21.1852940614335,38.9109068377875,34.5792021681555,20.6656169872731,39.1940755369142,48.3993084896356,46.3105889745057,33.359457094688004,34.9257164876908,51.5582860666327,59.1146443360485,18.9473467003554,32.5243454012088,34.645415822044,44.13723421283071,52.6403490179218,36.2273041848093,23.9998828670941,61.188782650511705,37.691731847357,38.82036029454321,34.260301864240304,46.9718112898991,35.716812186408795,24.4157260977663,54.2687055743299,62.906922337133395,40.495646783150704,28.0293198991567,53.31978979613629,35.918783873319605,40.7079118597321,34.2933534532785,62.7825701418333,62.232158921659,46.5175069789402,21.6304703606293,31.7951883119531,52.3746292958967,31.4007989270613,57.3202461791225,43.313461889512794,48.322055608499795,57.991085652262,19.0065262741409,42.1971366778016,34.7514377613552,30.132575557101497,52.20588011154899,30.9311519302428,42.1106091835536,40.0412224857137,53.798252495005705,52.9778436059132,22.0062600099482,54.55607190448789,57.833364835009,36.6181475799531,48.0214726761915,24.6534822979011,45.35669021774079,54.1529471762478,59.559924845583716,50.1174370483495,47.9328826097772,26.909398734569503,57.7825545510277,19.3611887819134,37.8746449518949,23.816679108887897,37.31044758204371,41.6010754276067,29.380949851125497,32.1142866155133,53.855563072953395,52.2326373639517,42.6429535117932,57.5066961911507,41.92236195551229,49.692794545088,52.8210372370668,38.684920226223795,37.802182244136894,52.401542617473794,20.6262163859792,44.6922360216267,49.4034802741371,36.1928164209239,57.5202533886768,36.5730408038944,47.893444801215104,56.673720970284215,25.971044015605006,38.251363176386796,24.9149514483288,32.0903953830712,28.990415092092,40.3313677939586,62.327230100054294,27.050294155255,54.15061886236071,45.861661574337596,57.1412841030397,56.0537720862776,52.88850155426189,31.8024259502999,45.416229172609704,36.33953380445021,62.0411404804327,34.4963862220757,33.0618317760527,18.8531892849132,19.4274257733487,32.270279629621704,49.428864156361705,24.0740541960113,54.7285039871931,44.211523932404795,47.952311197761404,53.85620698146521,33.471181642264106,27.346331781707697,46.79353807307779,59.798669480253,32.622299618087695,59.7523865732364,49.93586833216251,18.813098603393897,47.79338271869351,34.3825240558945,55.2906857491471,58.8616898772307,60.759744698647395,32.516422502230895,44.126585404854296,31.8068806584924,20.1184142031707,41.7040518331341,49.324420366436215,47.3888703114353,20.287295401561998,34.8313612546772,32.1432149559259,36.99394877487789,56.2570123546757,28.1551284473389,27.9032980892807,20.9865613454022,60.3747715908103,34.567089017480605,45.1165599925444,35.7456523925066,29.665795951150397,27.075747632421603,27.441609795671,43.81722831539809,51.5822805562057,34.851817262359,33.2614089385606,37.8379998626187,35.7657792968675,27.147057728841897,20.254605967551502,43.8322064899839,53.0562619292177,33.6267267125659,59.8920270679519,63.2171484744176,60.4551652302034,29.3425137042068,60.4467903710902,26.9233536557294,61.6792429047637,22.656479598488694,52.7144841141999,23.350987263955197,38.290174844674794,34.6964232595637,30.9688468878157,41.0516049601138,55.0915878899395,19.613058435730604,59.1216496378183,61.739379307255106,37.1631140722893,55.6415401669219,54.7489202921279,51.1416294490919,23.498164993710798,57.83494209544729,22.5268648453057,23.7231658161618,20.609764122404197,23.2542530363426,47.7453528800979,35.0276599256322,61.0521709173918,29.7553181806579,31.2778618824668,53.762358619831495,27.866907121148,39.236582591663996,26.7145613217726,19.534981993027,42.63495588768271,57.120660287793704,28.4618167453445,53.76303351297971,26.159438316244607,63.1713196481578,41.9223259263672,29.5288083860651,22.851220672950106,47.4598436788656,31.493049539625602,22.334487610496602,49.6160042271949,43.3650562143885,56.940966158174,21.989767443854397,19.9765913961455,26.92821499845011,37.070500629954,48.450839356519296,41.0178787028417,29.550940380897398,31.0870394702069,21.085867640562398,60.9443494593725,57.666153101250494,61.1350629273802,33.7045991150662,20.826679904013893,61.6142461770214,23.7205218081363,18.446023380383803,62.64878625748681,27.313371989876,19.2439025938511,63.054397157393396,21.2805633465759,45.190938007086494,29.2741105407476,45.6285682567395,45.544928309973294,41.936381030827796,56.167668717913294,47.4495290615596,31.5454680258408,35.4157032864168,43.1167432819493,42.0474876314402,43.7008667183109,55.1945837023668,59.0291022560559,63.5581642580219,30.036760843824602,45.5363250342198,53.111927493941,52.73927400819961,63.2386250044219,31.077654027845696,48.414803271181896,50.0691045392305,22.2880102167837,28.1742570637725,35.8519781911746,57.0178458099253,41.85424767853689,31.6172848115675,18.812804243993,34.511520112399,34.4063696628436,44.88061703089622,43.6035659527406,29.732926420401807,51.806886471808006,34.6052206088789,60.277962766587706,19.8465041620657,51.349799466319396,21.042197778355305,34.5598100377247,34.9966813726351,53.5404433552176,25.4830486518331,39.8577877297066,55.6376212476753,44.5436822762713,22.6563397445716,27.9972893036902,50.7146625304595,56.6356326374225,19.2896285057068,24.4328114953823,50.2829601247795,21.014208402019,41.6103968122043,37.2548939283006,53.690633235033594,57.08784007141371,53.2772130607627,60.2912226915359,54.62814034800979,35.6298775435425,63.330431796610405,23.3420981327072,59.318140267860095,21.210909305606002,24.278338806237997,55.8614724469371,47.7825802192092,49.40990043431521,47.984505509491996,61.671458660159296,50.418526894878596,55.7820571959019,60.2551426086575,58.1846541729756,35.1387838018127,22.291961919982,19.8195440261625,62.8707484649494,61.5062966248952,34.4421687847935,26.917833163868604,45.4752244236879,55.6615202557296,44.1412975378335,62.5851672696881,63.079507361631784,43.120141460094615,35.5881441300735,59.206105916760905,62.72826527711,56.771530738566106,52.075268419925095,63.2965331692249,57.385184686165296,32.6733948793262,48.5161607107148,54.3271856321953,60.6873638918623,41.48682721192021,36.157751087564996,29.545486581511803,58.890320238191606,18.2502651894465,54.0021256082691,24.597573836334,21.5834590201266,35.9191078357399,52.530102157965295,23.915705407038303,50.132754800841205,62.8858099970967,52.905079930555104,36.4609444406815,56.7899114075117,38.4789186194539,22.399109780788397,38.93593926448371,43.2022035038099,27.291530027519894,48.0852702674456,43.6187472892925,47.886393541935796,43.287673139944715,42.954194752033786,28.9432969815098,43.6860980782658,56.490556250792,36.2045733071864,33.7556324498728,30.142012033611497,21.8403608766384,37.47767832642421,63.2944037974812,33.5187431662343,51.051450930070104,25.546307830139998,27.8468346674927,35.65403369301929,36.7371304794215,32.816768867429296,59.26477079000321,24.174516219180106,59.429795145522796,37.2917711720802,29.209119285922494,23.1489815721288,54.8293015290983,41.2806041608565,44.1414116015658,42.6630315240473,61.0876121469773,41.834137139376296,21.4743404272012,48.972523716744,29.3780835419893,63.113496308215,43.6411619479768,33.628850525710696,37.5065867779776,42.756973792798796,24.6631496008486,30.1014204891399,27.294051585719,49.1308748191223,62.585855379235,43.6283751251176,47.7818413753994,43.93942570220679,49.124152299016714,60.8484243666753,54.6984751406126,26.0328495185822,39.174613640178,21.8256042641588,42.0537312338129,21.355885541066502,49.840941323898704,33.8635710026138,32.0986736253835,28.410776470322197,62.2347470652312,18.605122473090894,43.372344576288,39.39309718227009,43.4194350652397,46.099209739361,53.2545798174106,18.713332561776,36.1980030969717,32.4015455972403,24.640143856406198,45.146788359619705,41.412175883539,19.009670652449106,19.0216423212551,44.363808075897396,52.1849490096793,23.876815125811802,32.3065359489992,31.3281223042868,34.7410444347188,38.037175831385,40.6219201330096,49.6576160262339,35.260340718086795,29.13702617678789,49.911707181017796,54.5151493181475,56.2984954169951,39.961768785025896,36.4170332560316,21.054199264384803,28.0218697916716,28.476944413036104,41.1717944289558,49.055773179978104,30.5151092219166,22.1605025473982,28.4226720966399,30.8335623210296,54.7025232999586,26.4306427794509,46.0273932213895,36.286159678362296,35.76410817215221,27.480954650323802,27.398472916334896,45.19554598908871,18.9570020614192,36.9153439118527,51.7472122898325,22.540735562797604,39.1758576631546,32.704374910332305,43.277520182542496,56.325616270303705,25.805651593022,28.379293691366897,19.2805354306474,30.1578542543575,39.30174824083221,62.6558653847314,31.8223280687816,39.9287241469137,38.4758883691393,21.0349717177451,54.548703772947206,58.612272090278594,25.6901291194372,26.7274004640058,31.9483236707747,45.782717915251894,23.6371360039338,60.9173057088628,24.6220297645777,24.5644754115492,51.73379038367421,46.755072151776396,23.7183924899437,45.697216598317006,36.3704711874016,58.3921971502714,50.963954247534296,35.8824849808589,59.0371277481318,51.528140125330495,30.0824641142972,34.5552007704973,34.9015168333426,18.229629389476,59.4368922766298,56.4190945834853,26.991351277101803,20.1755322436802,26.7719294563867,26.4244834128767,27.9570272588171,24.8086569984443,42.7518386649899,36.609622445888796,25.9131900230423,34.3344714795239,41.515260858461296,58.0628085201606,42.343177925795295,51.1457220236771,24.6941230664961,18.413736339658502,26.851987544912802,37.185845421161495,33.5510297357105,48.610681030899286,29.823620389681306,34.2960922359489,39.227083160542,18.1760434475727,51.912932369858,22.6691616862081,18.4508251422085,20.1080088275485,29.5248576789163,57.21906913165,18.4288676595315,23.974000670947103,41.153689483646296,30.076033597346395,43.91195050161329,62.43771619396279,32.8272838406265,53.4156972491182,19.297853528987602,48.1487081670202,27.4822348952293,41.2967821788043,19.5239827041514,51.6550989500247,25.9961206219159,32.893709717318394,38.979567678179606,58.7095565763302,61.0508843427524,52.96198772965001,61.6453948724084,43.912746462971,56.8136033872142,52.168664039578296,58.440507242921704,35.4146975870244,53.1107936897315,44.1555712055415,21.953589855227605,47.432411029934904,22.7890518046916,60.939410349819795,48.36229289136829,37.44105071621021,19.877511996775894,39.0771388872527,19.3824147786945,62.2749227751046,22.194990343414197,19.179906499572105,47.8461147677153,55.5069526312873,44.276950193103396,40.7064615902491,45.188193826470496,33.9493660898879,18.055874488782106,52.1840196205303,57.2866714606062,20.4952215258963,56.838900666683905,56.4301745630801,51.522295596077996,27.1762848948129,46.99845732748511,52.15906047308821,58.932584867347,32.102719482034395,46.0562726054341,28.354908418376002,25.669949863571702,54.6583339176141,45.3162111518905,36.690029055345796,60.15632703388111,53.260111544281216,26.7789781559259,33.6592989233322,19.673241277690998,22.403576805721997,44.3261667871848,23.4349054512568,52.4298810074106,50.17342698248101,50.065782949794105,49.176189694553614,57.9326121918857,58.363808711525095,40.2325591379777,19.372464833315497,37.9000043827109,37.459188552573295,41.9621296385303,25.0234321518801,47.195193981751785,23.456651375163304,53.3503221618012,50.649407097604104,27.3684103004634,33.8957485635765,30.230243618600106,27.471521140541896,51.1302135973237,47.6798677346669,28.797041818499604,21.4095960748382,29.910983558744196,23.47849796433,48.869063177611714,38.40550486650321,58.6236949465238,22.0975798517466,32.3002068898641,34.3790548262186,19.617209166754,61.7265654839575,27.838848117739,35.9414662765339,55.127708339597994,19.084409590344894,57.6264127613977,62.2650460018776,37.871756194159396,56.3502777488902,36.4777576490305,18.055188510566897,56.6535365092568,27.828579597175107,30.749477461446094,46.0343616371974,36.70069066202271,41.936056522186796,40.5589190921746,26.6529626757838,34.2069418113679,34.4308087760583,49.9913307242095,41.75835441658271,55.1760833254084,19.5034356811084,59.7626620447263,35.5975403040648,57.6274173790589,24.597318194340897,63.2516524642706,56.7387455981225,32.5319016040303,30.5573441837914,54.6462766956538,60.248191382735996,36.327199691440896,42.8456656918861,63.4341880124994,22.8258572579361,55.812752560246714,28.8766067125835,62.779426620341795,46.5050383456983,43.06626362213861,50.0954817184247,62.2207088721916,19.8994022835977,61.5984211568721,18.7455757549033,61.1675705555826,29.8748918231577,58.003529137931785,31.792708855588003,54.7452039136551,31.5268535530195,53.411577749066105,34.1997820041142,41.304637453518794,44.7433101194911,49.0379870776087,43.3228068151511,55.05304128862921,51.7988581843674,61.84653541492301,23.430980812758197,34.795262857340305,63.64065152918921,21.127010439522603,57.9731614631601,35.8244426706806,61.8922501667403,48.7978129191324,20.321645560674398,36.827119524124996,25.2988648773171,46.47308182204139,50.070416539907505,41.571390764322096,43.91861469391729,45.583265012595795,35.1091779656708,59.7079242304899,27.9200100218877,39.0781830362976,40.6872983798385,35.9713375223801,62.121249806601604,27.3626951933838,44.9191522900946,45.5444554327987,37.5969303091988,54.700845524203,19.487914884463,28.5721331895329,60.8050912762992,63.8639845149592,31.6079666293226,61.3012934881262,25.8950840602629,36.7296103164554,32.718134177383,30.544511467684107,55.048935229890006,42.5163445896469,22.926914404612003,57.8824586365372,30.763360913377294,30.5854479665868,46.452797038480604,63.887140834238394,58.0165700819343,45.8798310379498,59.506367242895095,29.0203788527288,23.788303747307506,18.746455994900305,43.0559086166322,40.7735017831437,26.9590053195134,33.0920195085928,45.883906444069005,33.932393310125896,25.212564835790506,50.2212005364709,27.404480647761396,22.223386954050497,42.3725129328668,62.1931477542967,50.788111852016286,59.9558734656312,18.5080935861915,41.5761699704453,29.417216334492,62.840849126223496,24.1914257979952,60.1881995359436,52.0275973733515,54.224563381169006,28.0602953033522,37.9053184995428,25.684226048179003,26.940717251040002,24.314280502498107,45.85982714034621,48.8180328309536,39.6707891300321,61.6792393168435,63.2186164692976,52.15536584705111,36.42561073089021,23.3653235542588,20.6223270054907,43.041728856042006,39.4359148116782,53.9390205498785,33.6877787308767,56.889189159963294,46.5478702839464,39.6432714527473,52.05179370753471,62.202313144691296,21.3656869572587,43.6701637604274,61.1583992317319,41.003400320187204,55.8271972807124,24.9919104841538,59.2044248851016,44.3864208948798,27.4762682910077,36.9184383805841,41.771231430117,32.1715747234412,28.241796202491997,35.7616833699867,54.8654459267855,56.6414742642082,58.10209089145061,59.858434816822395,52.390862160828,52.241514124907596,27.217440214008107,33.306685289368,45.157120659481706,60.261359328404104,56.032364883460104,24.9290873506106,36.2786843804643,19.9825388290919,41.2224626955576,32.3261754103005,38.099812350235894,51.893820225726785,59.917643554508714,28.845958323217893,28.4463765965775,36.0016917237081,55.5330095859244,18.6590213244781,44.7719354680739,45.5427551227622,24.187499135267,41.0729347174056,27.1292334017344,51.077324590180105,36.9842769200914,33.0994235407561,43.7188643151894,60.7262946041301,40.1050568986684,41.3171591130085,18.701733683235897,42.9807849037461,61.304800246376494,48.5166189149022,52.314565026667005,28.5496045635082,56.355426607187795,57.40525788953529,37.165156937670005,40.74341282015671,23.694589723832895,28.198256640695,39.230477804318106,34.915516287554105,38.6710497550666,51.757359795738,43.20699110673739,47.694519858341714,30.3081837417558,54.9693128112704,47.466485101264,31.344047871883998,54.2359153465368,47.6044022589922,31.1926267999224,40.5189625560306,48.148403590079404,52.5807728450745,43.9994611074217,45.9931990671903,33.3271440174431,60.8869659984484,39.14222532371061,38.622259384486796,20.542408631648893,24.2706115185283,25.252609259914603,34.1016539284028,45.53938521957021,23.250084119383203,26.8219283991493,37.751622236333795,48.5181794138625,23.162104470655304,28.0171668957919,63.97179584112021,56.1526170284487]},{\"axis\":{\"matches\":true},\"label\":\"income\",\"values\":[66155.9250950813,34415.1539658196,57317.1700630337,42709.534200839706,66952.68884534019,24904.064140282597,48430.3596126847,24500.1419843175,40654.8925372772,25075.872770976293,64131.4153722487,59436.847122851796,61050.3460792825,27267.9954580963,63061.960174236396,50501.7266888171,43548.6547113396,43378.1751943752,20542.365072760702,58887.3575488105,23000.7840017788,32197.6207010448,23329.3194137514,27845.8008938469,65301.9840293564,47451.6301229596,63287.038907874405,45727.4598698132,59417.805406265,58842.8913080133,48528.8527957164,23526.3025551103,67252.9006074183,58886.8512935005,57584.9737902172,26289.9723066948,25952.3814707063,32464.091880247,60921.0631041788,26578.5366925411,66260.1215578616,58787.455239798895,62545.7087112591,24381.9534475915,67852.1058685146,41725.6128555164,41896.9715991989,44379.7296541743,28416.899375151803,68427.163111046,35975.7949295454,57596.3540980592,29681.8830934353,51656.938674859695,24912.8426820971,47761.8240681477,22248.1792024337,29724.4768752716,52143.8236744143,56577.7228609659,37660.770716611296,37403.7953955121,31652.6937345043,32727.700732648398,69078.6048118025,40622.194872703396,37521.0171728395,30735.808499157403,24857.6948815025,33180.2015937865,66628.2600886188,38564.932129811496,33704.5084964484,57018.484831787595,40526.9027850591,50827.9805234633,40775.8115953766,55467.15141274031,38789.0293891542,58074.8401279561,57814.1063381918,45190.72918221349,36801.9071803428,68811.7794157006,30483.2955286838,44930.39417313409,43671.4565544389,27612.9148015752,53607.326925266505,33036.6831202991,64275.834888685495,30673.8375034183,58793.6143088154,21053.4906177782,42095.4222022556,50360.6787929311,41970.7244774327,51663.41017931701,53601.81243624541,43439.98872675,51461.0531670041,41285.1723073982,62895.7497701049,57296.1608227342,60844.092494808094,47634.5495483838,23998.3236929402,63391.6159672663,21534.5512190834,28255.6525128894,36496.1339323781,41631.6662961617,68762.4166649766,30075.264924671494,41302.6741752401,39703.759427648,63161.0920350067,63062.1420964599,34507.5279055163,27954.7077650204,37369.3820601329,43912.062740419104,22766.7745016515,21603.3057007007,61952.906688675306,36116.3650918752,26157.7772721648,26458.3832048811,69156.3037736341,39441.4447643794,60119.0658099949,55613.4854606353,37049.3862358853,23122.0649252646,48790.1324336417,59132.6851560734,55305.5748273619,26037.4636435881,64899.8050298542,27089.124317280897,45341.4746373892,24865.7980747521,28239.5432051271,52730.0805016421,28982.0581488311,36221.2660070509,33551.1243715882,43891.3559704088,45148.885720409504,58481.012161355495,69579.9292111769,52743.3085651137,65635.6615293771,34559.907035436496,60218.531526625186,51689.54853899781,47541.614335495986,62905.793024692684,65632.6045794412,31847.8537187912,27947.440282441694,62246.7272495851,40154.6885655262,58627.5548837148,33441.0510654561,55603.7867954001,31046.3789664209,44708.099872805185,23340.2706962079,24830.181971192404,31422.7473852225,60477.233845740586,26039.0214901417,36186.8480732664,39772.1187258139,34730.1640710793,23118.4833147563,50072.8476257063,67465.06238589059,38625.6320099346,45227.482826449006,64901.897734962404,40543.9135432243,27793.2667220011,61167.774819769,64619.6646196768,37593.7578664161,35032.6495990157,58364.4649758935,56945.8104134537,27204.8485511914,21648.261025548,31077.8568894602,42522.9224073701,31769.247718621,35556.779911276004,52908.824237529196,35045.1314053498,44488.1644845009,41679.9371177331,54619.9471969157,38053.6231258884,64718.661776278204,43159.0849696659,29445.510501973306,25817.389884032295,66356.8567414768,56676.157999318086,61000.0427742489,58906.2516856939,49589.1537214629,40141.6035415605,31659.7282118164,62658.221628516905,39264.4834984094,46643.1264812127,30515.372117515697,65077.322027646,60871.869004331515,25011.103895958506,68407.1855084039,43727.439343929305,45788.747100159504,65705.0108234398,32434.7025062889,58121.66857533161,62498.5072459094,26090.725876856603,64780.93853686,65588.4034163319,65743.7036675401,37164.521582890295,65176.5297795646,34615.542173851296,59079.4650535099,56267.1716371551,34862.8212860785,60521.3641002774,42276.7829080112,38451.1777129956,45985.10865354911,51000.4224418662,31523.1077652425,28648.676751181494,27514.427963178598,27441.0003842786,67709.2415909283,38600.7071868517,30950.295405928,27083.822868298706,21512.7452672459,34796.0035596043,27089.3928408623,25259.4016306102,47007.3135849088,20358.665024396,67900.2265259624,54418.470994569405,51288.5546940379,28199.601632077203,22199.615142308197,50514.4696263596,34414.2403383739,37633.087432477594,55235.5040726252,45587.5518429093,52757.7949385159,41174.8081259429,25685.535201337203,28145.302999764703,52094.218372367315,33552.3859760724,37400.9337672032,21605.7250904851,57562.891736160986,62288.539605215185,22767.264202702798,20943.0433274247,20622.860097792,48436.664631590196,27574.634184129503,62889.362142887,37683.2004915923,54974.455495830596,56326.0866724886,65670.8834390156,50730.7333918288,64184.9157912657,66179.3241091073,24969.5268040523,54925.518266390995,67879.2480193079,67787.526762113,31657.619301695402,36559.1350290924,57787.565658800304,42521.726007107594,51935.1806305349,45677.8761278838,51363.5958125815,27218.561030458706,43677.6292207651,21533.595507498798,28010.190934874103,51589.2827464268,50480.952688958496,43957.35058235,61878.346551675306,60153.3369673416,33388.5833434761,41310.4017777368,25576.9539321773,51455.0984534435,48134.1569265351,51348.5273043625,20532.8237311915,33297.2140214406,55858.5492358543,43777.5184796192,27789.519056677796,36132.423875387794,20145.9885970689,63108.7073870003,26581.6145273857,62040.889628697194,69958.7055412121,38082.5195158832,45183.054176159196,36242.447961121805,44527.2589032538,40496.2558229454,24698.669305071202,60560.3055260144,48018.211456947,30216.2519586273,61742.239950690404,47288.4266683832,24658.8993165642,64644.3481021561,57517.7241396159,52945.5477884039,36366.9904111885,62113.7295663357,62279.5195016079,61799.0849586204,50139.7400093265,69566.6843489744,44897.4883696064,22572.3027647473,37123.0796375312,68744.788649492,21081.1941814609,58828.2921165228,46706.4588610083,32312.8533829004,60778.7650241517,30948.0415470898,60122.011571656905,43321.6811204329,47904.3412418105,58597.3832453601,66091.9059114531,47316.7013772763,40872.6397715509,35154.4934837148,32222.8188090958,40447.67296174541,48463.2045542821,42843.0991293862,50310.422438196794,57565.1999609545,55066.1829696037,46065.948209725306,38309.585656970696,54472.144756000496,58695.0943968259,54748.9123116247,46328.171917702995,49633.327468764,66339.78387573731,62650.719662196905,27646.780053619303,21437.6157545485,50648.1984443963,29670.6718439236,20258.538662456,34475.2179738134,28926.432463340498,20660.6689537875,24987.934092059702,29672.5608105771,23241.5998866782,24217.2287590802,65574.0933422931,55994.4587922655,67369.3321226165,23305.7714928873,35195.4663451761,27135.072618257294,24037.1651411988,51625.3132303245,50705.7662634179,58079.1569012217,62192.4670692533,62553.6684109829,68147.9573179968,27619.6614070795,65330.1928355359,26680.1458364353,46104.5989114791,44904.59764376281,52934.5944337547,43509.7577562556,22118.3573291637,56275.4100235179,48630.9795337729,64272.6999986917,24349.002952221803,34332.3152558878,64940.241088625,30595.7480147481,53422.2162491642,69995.6855783239,48270.796244032696,27028.155587613597,23519.866091664902,37302.0833986811,55601.2718519196,62678.6454510875,41602.4339781143,27533.001329284198,30594.1765592434,47846.9459037296,55273.2750005089,23086.2554092892,29621.2748787366,47533.92094746231,62519.184178672695,50878.959037363486,58580.9595114551,69445.64944598821,60929.172351025,35496.6654954478,33572.423497680604,55306.9143486209,34141.9276362285,40453.8909485564,69088.7774154544,30885.6922015548,58683.2263204269,60675.8121564053,68460.68002516401,63653.8399080746,42522.5757574663,54140.429133549296,47548.362617380895,24114.012257196002,20686.2390902825,21412.3086119071,69391.1465979181,32319.262220989902,52862.94713616369,48383.2761459053,36430.5384038016,44268.8940139487,63806.3292531297,46195.7771726884,23743.1607721373,22089.8374845274,54707.2885138914,23203.647187911,25342.250678222597,31645.632819272596,32306.8084008992,61262.816323433086,26388.7272961438,53009.4254342839,58163.540675304816,38665.033928118595,25289.047223050096,66049.9340319075,56282.982525881394,35778.6152325571,29174.240310676407,55934.432561043606,32256.8615246564,68052.8069194406,26957.053870428397,48685.042017605185,38288.0710810423,42468.0208251812,55377.7730255388,54231.7027854733,53283.258706796914,52534.78547558191,47847.515628673085,59998.253271915,58684.5130124129,49114.787932485306,57179.40200585871,69395.1164768077,43963.7380116619,66326.4724705368,35886.7268357426,35578.2341142185,48689.0004295856,56510.8353551477,50275.8999634534,56665.4940880835,42912.090539466604,22169.7292220779,35919.8073204607,61987.6852654852,30044.6835160255,61528.2724192366,31196.4917741716,66003.95999150349,56960.673844441786,41315.1078904048,64913.343840744295,32804.904486984,25789.2097975127,31908.354307524904,56050.3025818616,66505.7756868191,57504.07174229621,44619.111488573304,21158.935285639,22765.1909156702,25052.820255514198,61006.107302382596,62321.242473553895,49604.544211179,48433.3734889515,57590.283283498095,62691.7013712227,51121.6568690725,22516.5403494611,60857.2350512259,62908.35747960951,49665.633838158086,65322.8010679595,20598.9265628159,55476.6569798812,26218.4948474169,40794.8702271096,53719.6511100046,20715.535634663,57163.8523996808,33751.205313019505,44832.564720418304,51035.6334550306,53493.4860118665,58205.67999500781,47439.9407557212,47586.2277136184,26100.8512624539,45326.4036728069,24391.7562346905,53741.371019277685,40053.7222670391,53033.864130265996,25176.502012182,31210.8470173553,23532.276302576094,63776.77078591661,52278.765004593886,56015.8132156357,56110.9399353154,57856.8082349375,30187.0918646455,30786.8719263934,22279.2997653596,42476.2655328959,58147.7998569608,36266.2118673325,39045.4971627332,64467.803684528895,36594.8066744022,58797.762861940995,66653.2709309831,48271.4983797632,30991.4319240488,45446.5183359571,37142.738890834196,58320.808892604015,24825.540678575602,20511.4294355735,48326.3208926655,55441.358794923886,60496.907918714,25296.1542271078,50414.3203189597,67984.0403771959,50382.399773225196,49413.2985407487,61464.8206438869,53784.0495747514,35993.2879265398,63402.004684321604,40484.9713249132,26168.0122744292,60044.2815152928,23984.5509454608,40359.7011859529,33583.8910820894,68038.7920164503,45652.0592723973,34399.2097815499,57628.438917454296,24294.6768924594,52218.88251136991,50061.7677392438,49352.274222765096,21087.3555438593,23812.252683565,49395.1664934866,33338.9439899474,29668.320720084,45936.5972015075,55948.0677172542,53239.5007135347,43694.0344446339,24078.0724957585,50258.5530211218,41816.6568316519,36892.7162187174,23886.5676149726,48757.7650509775,34601.6826620325,52986.004545819014,50740.9510249272,53096.9913979061,38500.000645872205,41004.2623570189,63585.364590399004,31823.6810551025,26242.6336226054,63531.2459943816,64751.1465405114,31091.276304796294,66871.2673638947,25098.6528280191,33720.5892242491,28182.5232948177,27334.5697135665,68694.8431818746,46195.62166510151,34488.2098538801,57827.6631003246,20346.4690526016,60480.9757950716,51915.6797835603,54625.506983138606,48305.4270897992,28577.964513097002,53400.8270059712,43414.4878922962,47526.23412525281,46082.072162535,32195.5925249495,49067.0912945643,21293.4771250002,52100.917387288086,48334.3877759762,58507.623551413395,27521.040341816803,63914.2253715545,28598.8326463848,23298.466745764,35697.5541380234,40376.1635813862,56534.96684273701,36088.938608299904,34158.6339683272,29732.057619839903,41736.20153917,42236.4560933784,28796.850836370097,55097.38848079,40916.564145591095,20908.335100393702,57999.772385228396,57746.5815865435,55116.23451486231,57765.521160326905,45200.992799364,42435.1894925348,46365.573517978206,57187.7008932643,66539.9275999516,25244.726699311293,54780.345612671204,59253.1214631163,48540.3415444307,30415.105079300698,48768.6992436647,52299.2180823348,42242.489119526,28218.9652719535,40208.1318595447,61419.6728379466,51282.5052416883,36017.9027472623,57575.0097911805,53330.767136067196,39834.519841242596,62469.428374897696,40334.6167341806,47542.8027031012,55883.622861001604,29163.015882950298,47786.14106355231,29736.3105043769,50831.427534576505,62030.0459954888,54049.0127447993,34336.0175890848,31895.7153055817,51894.5400998928,37616.7108584195,22076.948003377798,56252.95370584349,26316.758494358506,23120.8796077408,39033.032713923596,32420.818151440497,68827.24432973191,58092.2048934735,43538.856115192204,64040.484179277,34395.2292157337,57405.5149266496,22581.133972853397,27952.945982106,54022.9128370993,63546.1647575721,60713.4303008206,44519.329471513614,40997.798989992596,63661.38332989071,34429.1467382573,29181.8614280783,52510.4382354766,37536.3472430035,35683.7449525483,45622.2907104529,67385.40317630401,69411.7925292812,48322.5140650757,40836.588810197994,38035.9513266012,42696.9713694416,24181.69478653,33194.4026448764,32541.461526416202,38381.4130607061,25921.9125309028,58810.971728526114,63025.7440777496,29954.0045135655,40641.523017547996,43940.91070164,65166.972873266786,58820.3820562921,50719.7630754672,46766.595919616506,67520.759596955,28386.2535539083,68276.0307611898,30731.7262794822,30012.251092121,38075.3187742084,55932.3965734802,27966.2444535643,53825.5367358215,65451.49651821701,39473.995862063,42344.8087112047,36112.8744133748,32720.504798926402,27973.826560191803,21306.0331228189,36029.301576782,48457.963548135,46038.510655052996,34247.1590195782,64247.6149997674,62109.7670914605,21481.8037860096,20762.4744670466,33756.5272278152,54325.807273853614,33197.807804681404,56846.4742321521,26542.9310896434,53200.5481468514,38073.4068970196,43937.219043728,49284.81941344219,22869.3234547973,60113.3425417356,23613.255685195298,68755.0944206305,26449.3282930925,42855.4161149077,25686.778936069502,67125.64924266191,27427.7894455008,37145.5730567686,41702.600771095604,20710.7759593055,39124.164362438,32834.6467390656,26267.2214000486,41254.2281951755,38268.6966028996,37087.268759496495,38458.1330395304,40185.7756706886,65481.9455510005,57426.680477801696,47903.314249124414,34222.1877467819,28481.265604496002,43069.6521466598,33093.9618567936,61363.856056705095,68100.73561966419,50551.4803389087,54421.054006088496,32152.4597401731,40230.9757121839,53483.3740023896,65137.937762774505,29496.5941272676,45181.9337136112,24994.7781953961,54820.9740128368,62955.6082934141,52956.246077083095,40366.2032377906,60005.0101336092,37598.3850844204,61323.0009027757,21243.9323007129,62111.4344149828,56524.8788148165,51718.136963900186,43205.6317501701,26934.197444934398,68966.82256367059,31527.3472038098,46839.061093050994,32151.296855881803,40831.801916938304,30868.8048203476,62988.8264276087,65496.7674799263,63032.6262721792,27287.0745440014,44299.3717431091,44091.3492278196,26617.0303151011,21856.2335288152,28072.604355402294,35950.4884504713,28982.1123634465,51790.726445615306,65000.8196174167,29761.046012863506,23081.4507394098,60016.7409912683,54619.1553631797,66274.2081028409,49380.658629816,46283.0674648285,25554.698524065298,36680.1819228567,30383.6763300933,67730.44369649139,36446.7241382226,33648.7389914691,53852.799539454296,61298.218665178894,69465.7469564117,39102.041714359104,29366.582334041603,67949.73806710911,29468.859178014103,56839.401896577314,38277.9368711635,49664.270719513304,49972.0108276233,27356.800953857597,36840.603656601204,51438.814068678796,40614.7220451385,56738.63732256,68004.6862154268,44458.6372864433,66801.197505556,48991.853678599015,69430.936621502,27989.111100323506,67675.80477055161,47985.7224668376,43388.209473341696,63182.455666828886,20568.891305010802,25833.7172260508,23087.3014009558,36124.717833008595,57330.619408749,47240.2531234547,55730.6292280555,61660.40131822231,49746.8874370679,23973.6875914969,28085.479598957998,33585.4747379199,44179.3851018883,56025.41972650219,49369.7041459382,26889.3647403456,30873.217636253707,30608.943237457403,54878.0896514654,32423.8068470731,46608.3690221421,65689.1897018068,49054.860270116515,20310.5775569566,66423.3993319795,45783.154752571114,62887.76266621429,51088.2107820362,66217.9448455572,62799.7506107204,45789.4875248894,59727.4059941992,35513.5895474814,29178.977587726,67501.69224571441,66255.02952840179,63558.8640859351,63441.7123557068,64983.1542442553,56946.64593786,52349.8724610545,31473.458784166694,59267.339196521796,66809.1732473113,48083.311545196906,20629.3472950347,25363.331059925298,28873.674168717094,41430.8552560396,53612.1312342584,51555.7402558625,46564.3788967282,61200.4274781793,29307.3207652196,67687.1830760501,52565.065741073304,52920.148014091,34981.3678348437,65210.837095510185,60016.079612541915,23066.964680328998,52603.878644295,20111.3632577471,32759.7002778202,30578.020161483397,21211.5893885493,53746.3265750557,45214.109220542,58465.0496998802,54422.9734851979,62842.0643904246,53005.132293328614,40749.028178397595,49804.4108320028,37277.2461199202,46883.2065397874,31763.3691988885,61013.1815820932,41285.358897876,39133.891863748395,62171.8025580049,53638.6459530331,49264.584893826395,63114.49698871,58165.506219957,43029.8032634892,21593.6226584017,49104.7682403587,65776.2324134819,36192.1494523995,62165.8611856401,50793.35571965201,62422.2037894651,63166.99495539071,23717.567853163906,66797.6646730676,30272.203618660602,55741.1956880242,30742.5797148608,20491.564325057,35620.4186263494,50206.13371627409,67935.45387219639,59223.3966034837,32657.2686829604,55931.6545771435,23694.7788670659,44324.28636820991,34735.4917484336,67064.3447362818,42761.492675636,49517.7223277278,54372.1826560795,29941.9683683664,68414.1207765788,23891.244565602403,47187.571546528496,39819.920940790296,50632.2792428546,39970.2112469822,55176.139604300304,50533.571948763,52983.874459750994,31187.6699258573,34909.9822272547,53810.847660060994,55478.9673699997,60394.094865769104,36845.7386782393,60264.9406460114,52981.50859773161,50222.7624226362,59256.555959582314,43203.414224553904,46288.7564138509,58176.154927350595,25631.4347311854,58977.9976452701,25048.015993088506,33436.4890051074,23787.3670458794,69456.5677712671,65447.6116108708,68743.3531787246,36052.5775980204,24820.7924701273,26046.384165529198,60850.8024411276,69929.01099612941,53298.496145289406,48818.3823227882,38042.0841556042,42119.8227140121,62247.879737988085,62252.088163513705,36973.0856898241,54217.2367847525,44218.7663214281,33274.0502711385,54656.5490355715,67593.5170776211,39472.7072492242,30572.446859441694,50447.699630167306,49198.6526572146,53768.2282086462,52809.54628717151,38011.7266485468,58910.2917746641,57914.7310741246,39494.766916614,45918.875250499696,55649.055882822686,27136.6288000718,62724.6361155994,32921.8485788442,28482.6495498419,44170.221737586,60664.3716036342,64501.930428668886,28237.5173922628,67420.59544660151,55642.9933919571,56086.0580927692,57676.739180460594,62535.6328487396,60686.7685727775,25032.300937455097,22228.3452912234,41435.1537520997,43955.4094034247,60063.693094998605,34635.7447491027,63944.3237264641,35403.427334968,53654.079365078396,23508.2307294942,61869.466030038886,20674.897083081298,22127.9241074808,27408.729614689903,60720.7960961387,34760.0193158723,23057.3639203794,42380.995063576804,37887.5493933447,39988.740736153,25026.505643036202,43588.0814259872,20897.4266937003,24904.6246684156,66068.6350357719,36126.231092493996,23626.726788934302,30200.243256986094,65569.7852419689,20617.261009756498,25817.4546225928,21448.8279935904,69370.17763732,34145.7995516248,52651.25686302781,40069.3383812904,39246.544886846095,56233.7895436212,49264.268325641795,30451.6361607239,28726.996299810697,20113.2534933276,43434.7754274495,59208.716084249296,69310.9572678804,60567.4244393595,22048.8950423896,66733.7102512829,22209.0095095336,49032.6624060981,26558.361055795096,49255.457967519804,30218.1512280367,56317.082820460186,53825.43057668951,34927.9936100356,53287.385024596,32032.5567433611,48405.726805795,46132.9140514135,29049.071487970697,68550.6878583692,47474.81960104781,50021.65540819991,64089.1319070943,28451.7055656761,58132.4712652713,30961.166140623398,64162.649614736394,67470.11702274901,68263.7662440538,42889.3341613002,20155.792362056698,58178.614573553205,45735.4556932114,30037.203133106206,64392.5122148357,26291.375798173198,36008.3809983917,54953.9796588942,28753.325487487004,41993.9843169414,56696.458596270495,51906.0461595654,30939.3933787942,38520.7239701413,33489.0398592688,52836.0064304434,51733.287509996386,41273.771498818,68223.6843090504,28222.8789106011,21921.3610794395,38852.933018933996,59621.3676431216,41377.745596692,54405.624971259414,60103.0115666799,67528.6542088725,61156.937379855706,42955.6945967488,46923.0467732996,24951.257491484303,26267.5294233486,64603.9208793081,34667.0204005204,66008.3970683627,45840.2076200582,32188.016239088,50289.664748124815,36837.5308508985,28852.0338060334,68127.1668104455,41349.1225149482,69132.4625792913,38477.3255954497,68291.1536470056,58074.6065406129,26867.1082612127,32348.450149875098,31044.3917568773,29279.7497869469,35145.100187510296,44405.280663631915,42059.6369006671,28612.203062512002,46546.7045479454,22832.3239297606,21565.921539440802,26078.2135813497,60503.547852858894,31233.307758811894,34505.800930783196,35485.1182713173,45986.3534010947,43308.1789803691,53284.1196795925,68398.2874779031,64743.7070659362,68412.6098453999,59695.1071452349,32406.5707321279,33184.1959781013,47688.2505742833,42591.5952352807,34051.5280421823,61800.0343837775,45360.716274008206,20252.123456448302,30134.7096031532,56217.326496262096,31722.7309499867,60178.4461922944,51144.2430480383,22449.077391065697,44932.875111699104,40929.4839412905,31092.2677209601,44743.551632855095,60770.229022018604,43528.4843132831,25008.9495256543,47433.4154208191,50064.346373546905,60348.413563333495,67471.1271002889,30492.875671479902,25640.0788831525,55040.758165996514,34476.7063786276,23345.8664547652,24426.029871683597,65849.8896681704,60454.5256518759,22680.318430066094,44471.873731818094,46572.320004925095,24369.8412482627,56830.2728631534,46942.9965177551,42521.7907107435,63188.328528776794,29410.1775204763,46668.628468178205,62693.26957874,65307.1274794638,59589.0642888844,41019.5487947203,48058.871382381796,50208.5300209001,62526.88792767,48192.185610532804,30884.0567292646,36965.7424790785,43536.0389109701,69181.6640598699,64233.040697872595,52593.5150613077,32282.251752913,54077.843278646505,51595.3574841842,23097.376483492597,27407.056202646294,64395.29806841161,60432.2166577913,42990.9828281961,41581.8899217993,53289.0652935021,22372.5052364171,57119.7396889329,31112.059419974703,68936.32135353981,20436.3312851638,20583.6121737957,58988.305802922696,45311.831838917,60856.830985285305,45818.2832505554,20904.5554790646,49908.2918674685,55988.295276183606,62125.258105807,48822.7209588513,29976.8290994689,41944.268187508,36970.3604420647,39992.7191133611,42450.5430436693,42146.93762362,52841.5164374746,66418.9563062973,44047.666555270596,24821.214126422998,35583.6185440421,25289.6072389558,39770.128664095,59511.1387013458,51211.6540386342,56530.4972743616,42604.4629816897,66642.0077485964,35527.8344871476,66896.7653112486,51980.359542649196,40081.4205571078,50167.67174704,39545.9595881402,43372.3976067267,33084.1698497534,53187.9796460271,48290.880459826396,66078.76935042441,51547.166663222,39393.140578176804,69592.0108282007,54588.5011949576,44964.0105990693,46081.6455469467,45564.015354029805,62657.60254347701,67921.63211386651,59514.012378640495,48422.5361072458,22001.3174507767,52529.6987663023,24061.463160906,23450.872132089,32866.578239481896,30958.9079627767,27550.8952722885,36024.9378881417,46801.27428611741,27082.718983292598,65435.0353800692,59295.7410775125,45435.2672374807,61742.6095809788,31396.8660123646,35916.7041536421,43969.6041564457,60624.8153652996,69939.3296777271,69755.3201625124,69478.3987640403,34192.1605216339,57457.85794453701,63910.3346550837,26643.808993976603,23985.075419768706,63660.648807417594,44102.330091409414,29409.8058994859,49294.65931374581,39553.6473765969,68583.0410500057,31060.6062575243,29190.324624069,63437.70014820621,35243.0632268079,36475.3535296768,63271.6088253073,45540.325522888495,68565.3855022974,20063.0995840766,44222.2622036934,67839.2444550991,54009.6922824159,52234.0753511526,28423.1314714998,52623.4375941567,25636.3335694186,60842.941158916794,36727.745998650804,63830.7474367321,43108.414560556404,25285.261129029102,57646.2429063395,51027.5676078163,37389.7723783739,65017.5934936851,20595.934584271203,56445.473914500304,60864.3217524514,51231.01042583581,41103.1369166449,56267.0508213341,20774.8458185233,46424.2212288082,29909.554000478198,62808.5050662048,41243.8051356003,46089.14788579569,69191.2333760411,60846.6650056653,66558.9343686588,27428.281870670602,60912.798955105194,28127.5094533339,64029.5434789732,61836.7356178351,37005.0718472339,56003.57340183111,58038.926245644696,29237.2562037781,33265.7905458473,66236.9271554053,41978.7125010043,63453.223130200095,24985.590663272906,53593.113196548096,54179.721865802996,20126.4137681574,51180.839706212304,36455.7015057653,39188.9452864416,47852.92690387,20014.4894700497,28630.009507760402,66688.91312321651,53226.194407325194,35609.4783451408,64065.682857763,54935.65837852661,67800.5813318305,46893.336710054406,54648.9669755101,31410.5072920211,36989.5895407535,33198.1282844208,47704.38082516191,30569.5727048442,61398.687066975996,67750.8259937167,47637.8620299511,38357.5175236911,43156.3052744605,41101.5429464169,59475.4971843213,40708.9194096625,30391.473304480296,46024.1445619613,66529.4852154329,68115.9803341143,38423.0842860416,33227.2801827639,61674.4572343305,26931.0682476498,60040.9938418306,26181.242410093506,61552.2175142542,29705.074725206894,53934.8122710362,23007.3878820986,48552.843409124805,66370.88875751941,49140.2698610909,39684.9817992188,32025.4044537432,55568.1794579141,45898.513523861795,39217.909919098,34070.603996515296,66768.361213617,31400.8584292606,49335.7572634704,51774.0525119007,43064.6473472007,41226.1346750893,43044.5177759975,33546.2920414284,69209.3308712356,32291.5445477702,66274.0728980862,34102.7912031859,21144.5628711954,41049.9745910056,36351.2777304277,63144.4592075422,32086.9135367684,28873.167319688906,65359.296153765186,49064.2884676345,23763.0605627783,51845.9425587207,67035.32642452049,49240.762500558,36132.3275882751,67006.8064867519,39453.6456139758,52205.607055220804,46319.416798651204,29398.7274216488,31135.607713367797,65603.8167583756,41362.5083677471,60302.558999974295,54468.27920852231,47683.715778403,38160.1164978929,22925.8120805025,64087.85881241781,65824.5156565681,53451.931539457306,36455.4847055115,39573.3414380811,41052.365784999,37895.1817331836,44827.233771793486,28341.086772270497,56887.2027960606,25146.5956843458,54739.16451912369,30497.204505372796,25358.897941187002,29993.5633013956,64675.779482349804,56256.038874853395,31702.3342987522,34113.113284111,44666.0128468648,39421.366835012996,21683.1937246025,65697.592839133,68657.7893025242,66981.4129988663,45971.133494749694,42965.9927543253,50895.8103414625,46175.0319390558,44984.89911668,66941.86486303809,31022.1448470838,46583.1995988265,56201.841430738605,31587.0648645796,40716.1908852868,64966.0656391643,68503.2058903016,33867.5022637472,54195.015172008396,50565.3370916843,57216.1010163836,29849.967143964,29072.15179177,29775.1422203146,46672.7131442167,66393.71115481481,29338.256448973,67289.5856830291,45980.3343447857,34163.6256477796,52216.815801803,62313.2776282728,49205.6370992213,65688.7315027416,43489.8284543306,40966.6745271534,37261.4471171983,58775.4038907588,39395.8304123953,21144.162146374598,33126.1327187531,30931.5060195513,31936.9420106523,38157.029675785496,21032.8186908737,50238.5324728675,67346.6624622233,33261.6460206918,53113.03609516469,42749.9903179705,42108.1999246962,61344.5322075859,54738.6822919361,69695.1504494064,62507.3547754437,61922.7746431716,58023.7237666734,27010.8837680891,21194.6161743253,68338.0974037573,67772.7936813608,67131.8026888184,33159.2172780074,66087.0884708129,60362.344274762996,54609.46518462151,63637.281830888205,40918.5702959076,51486.1303195357,44896.2564859539,24877.6844050735,52263.355504255705,42775.5255065858,67064.0136743896,50307.944677770094,37432.680958882,30084.15883407,61427.4146431126,54718.852792866506,47923.5755093396,22880.727604497202,46118.5501003638,35082.3856936768,38387.322279159,57413.572240620895,28198.0973365717,50117.8570371121,34876.332925632596,64126.4916793443,41916.692680679305,50052.292929031,39158.9175141416,62219.037539325705,67151.3186115772,46166.16312880071,23881.7865075544,48445.1131243259,32441.6520120576,33820.186513476096,61812.90135020389,25347.5726628676,33965.5237086117,23641.702677123198,50660.9042454511,44037.2439846396,51657.1239614859,46573.244377505,26922.462221700698,48414.2515389249,43974.840529263,65913.8320060447,64715.9989736974,25481.9879122078,54170.5326107331,51653.7047387101,66054.5062320307,60019.447135273396,31523.9528589882,65660.9485438094,61893.4836401604,49230.0982051529,38337.8294692375,64016.4333907887,46308.64515667781,66209.1442663223,47770.711423363486,29856.486320495602,21451.4972921461,59673.17044734951,47481.4296397381,36219.7729106992,59458.704343996906,67010.8409761451,58693.419424817,43041.0413932987,31920.412722975,32771.1254055612,55487.147129606514,68406.8071702495,37277.1230572835,39762.5265805982,41674.2431395687,25789.742025081094,24575.0598888844,58082.360103726394,67881.8804956973,50115.054897032685,40443.2036262006,65824.83738195151,51199.8698394746,67032.2894630954,42205.6829021312,37730.3621079773,47398.3110440895,48933.209693059296,53078.8558349013,53236.992999445596,58121.954689268,57261.15139434111,52102.5909041055,45165.9259549342,58809.2924724333,36598.340473137796,62096.28261160111,68114.0709831379,67978.4668539651,26615.5242966488,51254.370009992315,34428.9726391435,60974.58714386449,63330.7345490903,58168.474065605595,59579.6092110686,52219.89549929281,28700.872585177403,27193.743053357997,67417.5709998235,57341.4327739738,64056.536117568605,66370.6935057417,45045.431649777995,58609.131483826786,53289.0679710545,60309.3288303353,45139.4863938913,22815.640612971,45215.0146872737,40568.075182382,43721.2518113665,38129.754869733,22547.961636446402,57468.0594424717,25534.6735171042,26325.503392145,65913.8308418915,67119.1359567456,62020.468134432995,37965.8493376337,62114.856024272696,36871.061758138196,65030.909345950895,23193.6045968905,59568.6243195087,50527.5841732509,60776.110207662,61632.2827106342,45930.4526494816,25857.7655931003,55093.92122505231,42301.3344802894,51903.5342545249,64398.146157618605,41089.5108291879,36727.5508982129,38163.394543808,35949.8964087106,44979.802186135195,48211.5818350576,28267.0899457298,33816.223340109,33078.995980322405,36019.8171972297,34238.5302926414,62064.5206817426,44867.61524342,37162.8882177174,65680.9480208904,58772.8574802168,32435.2481099777,58028.2131955028,60595.275326632,36565.8038924448,20742.6969707012,46666.6380106471,32203.56693957,36535.315394867204,28163.2950692438,39019.357743673,24709.083249326803,43052.968562115,25003.916111309103,46696.8926647678,50112.4621997587,43265.9003231674,67802.6944561861,55408.705950249,67048.8930004649,40262.597640976295,46427.499181590996,46911.197102163,57359.552434645586,34569.3046390079,52797.4010375328,56630.395264364815,45245.7397524267,20803.6145358346,57717.606790829406,20647.887645755,59046.457153745,62662.2588303871,33614.4946096465,48765.128867235,57240.7569433562,49973.6664630473,41255.9396866709,61129.7231563367,48938.583435956396,68648.2413951308,41250.828541815295,22415.654761716694,24112.4993935227,41692.60517694061,23516.727697569902,53812.2264831327,29750.294801779102,22633.676922414503,28713.8305185363,63321.909266524,35276.5879873186,35914.6093064919,31568.144324701294,39934.0674909763,48614.8496787064,29838.1248069927,57745.3588764183,44447.529297322,51768.0053412914,34891.1404423416,45382.8078974038,40719.4903166965,55145.78500762581,48752.4240789935,55763.4274172597,36431.1614120379,40522.8282837197,42465.6697479077,38561.9440395385,54957.449673675,24822.069837246094,25252.4877362885,25671.742581762403,60672.1455859952,60729.9492391758,40240.7275559381,57513.8174626045,64287.3976309784,48428.033646196105,55313.832247629805,27045.3995722346,58216.0719833337,34722.9648311622,58503.7710075267,55299.7872396372,49501.905920915306,61765.7090350986,48430.993668735,66366.9574237429,55320.7800071687,48774.2881570011,61679.9531551078,61485.179599840194,24402.4401693605,21258.9027755894,48763.6805442162,24406.89381212,61693.5863089748,22748.033043462798,21479.9467171542,51286.6564025171,27153.6639239639,36370.493976865,32400.5449586548,60434.1644258238,57303.479760885195,42994.6822393686,68339.807940647,49292.3031374812,57802.429695148,50779.3807936832,35993.9897595905,21771.129341796,61414.8012641817,35784.6634858288,24791.186703369,49048.7573598512,69852.0587221719,21217.7474563941,48031.067410484015,64072.3132225685,56689.4638980739,45769.2595245317,35020.4887730069,56751.9285064191,27363.631797488797,48455.7174076326,21424.0913325921,69992.33271228151,68110.2399528027,48015.554742887594,23102.2177892737,46134.8541360348,48547.961381264,26095.0269107707,64057.84478876741,24454.1906216182,40506.944006774596,43421.0457419977,55881.5417974256,45917.6006889902,52901.9095399417,41183.8246555999,25379.9154818989,27514.0884728171,44241.283000446914,29076.3377142139,60536.9128682651,47881.9559956901,49144.371056463606,33707.801036071,46442.28278659281,25602.957250084703,61236.396075692,48187.347878702,29933.2019337453,41027.9073566198,49990.6601081602,59792.5085853785,35879.519993905,29102.221718057997,30047.8194071911,59299.162721727,64484.0147974901,36352.4222909473,66034.75430049,51650.2713714726,31898.159910924704,58780.233496800094,67754.1046682745,48500.2681543119,55704.7981582582,50458.9582025073,48263.00342567269,38755.1627052017,68131.66429521519,28991.423936095096,35108.5579534993,28858.5988734849,22800.796774681694,29572.9758962989,21982.0173736662,45576.8383620307,55068.6689373106,56441.016243770704,68047.9253106751,36275.735863018795,52389.366847928606,23678.3761112019,37707.6429477893,57753.5689622164,30529.963287990497,44022.268736735,58533.884682692595,33702.531834133,40236.8720667437,62619.1559876315,50738.362192641915,64466.76013758409,64636.4021860063,22371.522190515,67994.9884698726,49640.004702378086,42067.246446386,43662.0926880278,34237.5754192472,26300.4465540871,30803.806164767597,54421.4101554826,24254.7007906251,59221.0448742844,69516.1275728606,44311.44926231349,43756.0566049069,69436.57955154781]},{\"axis\":{\"matches\":true},\"label\":\"loan\",\"values\":[8106.53213128514,6564.745017677379,8020.9532963864685,6103.642260140699,8770.09923520439,15.498598437827196,5722.58198121271,2971.00330971188,4755.8252798016,1409.23037111453,4351.0289707232505,9254.24453803174,5893.26465933928,4759.7875810455,1850.36937703064,3977.2874324738395,3935.5444533423492,3277.7375531263,3157.442289970661,4965.51606626419,1148.11805715996,4244.057136123401,222.622298697307,4959.92122589578,5465.26788565462,5361.28271628474,9595.28628892989,6376.82294883561,2082.62593812344,10871.1867897838,6155.78467025544,2862.0101387461,4221.30315714475,7271.5520324705785,1728.4237547148,341.146965986397,2109.2007717368697,4326.70507344396,968.836382674606,3489.84313638823,7035.58910734261,4167.78672391926,4362.90581198044,4227.0189863608,5730.588251384711,1185.2146998461901,4892.209733649001,1814.33508159906,1788.97373591901,1658.0702332123599,6610.36617887751,3344.38440143163,1745.87167418898,7158.13906028943,267.696298601759,5549.799127875761,4364.9752805952,3075.34572793243,2393.0996785886,5947.42172129888,2129.59716481131,2044.04704534067,5151.07044539045,1087.91936375134,4076.58391416475,4949.90233344449,8.01207624713557,5946.822296779958,2692.1634585589,4621.99774242203,5992.885092439251,5604.16999048292,5898.0008931423,3507.25216607221,2119.98491147902,1765.98333716344,1922.6100223272501,9226.90204089804,7650.65520988095,7388.02443997422,7252.120003970849,7893.55988850644,5406.34492649729,4211.30261071966,4514.0097801128495,7708.31562497011,8066.69786524019,1513.62419967009,2378.7661730363297,958.9798221228019,7520.032053087841,383.107569352407,4391.981053651471,754.601882142809,1183.70456825763,4217.166823074771,1622.3173923260401,4147.8885848744,9601.375482171099,6879.30600704276,7292.264176862579,2313.8250047973997,2001.28151391029,10601.082782855601,12072.255757971201,141.703817946414,3928.3039085182704,190.889274816911,228.33538696889,2109.2427976728,165.506090118747,106.09074717934999,2796.75230312401,2628.57792284269,1379.91312425834,2403.4782156904503,804.092441476811,56.16616438732,1793.75025542512,1627.0414050731,3783.6011509907507,7757.136788699259,1429.4017623047,178.333870986952,3635.6005890215,1494.9845683242902,2295.81165641849,552.398166405428,7364.735577645109,1034.7588383330901,1810.9604596641598,4255.2521372008505,6056.81721377313,4263.49303076889,5519.09603957038,4575.52763542752,8176.70716548325,3293.25087871026,4654.249217083549,5029.48878154619,6525.21842259918,4439.11615420807,4189.83256804479,5706.32532253577,2898.7618238762293,5094.6700842702,4333.360862430611,5792.906333268112,6455.3917717800905,5380.56059607515,10868.2414720072,2684.70067065167,12701.603475,3317.52987409072,3157.9610817063103,9881.97600620667,1611.21659719418,11423.936295348798,12498.040454376298,2913.7699313302696,5514.11742142548,406.720769305791,6013.15287400369,1215.65255980478,5282.728560308379,1411.13008049743,4907.67408446776,2390.8505965863,2707.7609389629897,2046.6850503447895,1686.83590183974,10711.700895547,2056.75238228244,1130.7352653068401,5492.89368937988,818.5084418876918,1746.93655902557,8088.568018568091,1802.61699404161,5836.56338145928,5521.5074051112,9589.83352507197,6507.8501914892895,382.24890411041497,10396.6181477631,9704.7824094498,7274.32562822359,135.931684494729,5809.8990004484995,6388.369826233511,3827.8939146126,3558.52726155765,4452.330679191939,6790.85026335851,1148.22143592675,6361.97343810153,9841.080552709609,2382.46677216556,2751.08884293104,395.000775087053,10780.2718821749,6110.57279243647,1485.07993541129,4350.01989674202,1758.88186466259,4115.4847193336,10725.484727782801,2278.55434854177,2160.78490802133,9290.575344923873,2627.4054884209,845.3663712741251,858.511387999185,3343.36716094004,5255.78828313976,6440.8614342257715,415.240434973958,11061.8118946308,4844.1722236386995,3834.0427822766997,597.9440655279531,1170.55633399312,5894.04131672805,1969.7941341928895,2738.44049607766,7531.10124850389,3312.8776215380394,4255.62639181993,8402.415585756991,7879.738136012421,7724.57141377445,1445.80218914379,2365.28749039987,6476.760852061379,10326.0897733222,7329.243163822592,6040.77206183173,8035.88317278016,8055.305084123921,3441.26141621257,7382.056426137521,778.732695554933,5174.57056869183,1870.9252528540694,3400.91074388565,1455.0476020381195,5136.81930751016,2749.08019063432,5043.14863656084,3286.2128815586602,2453.3761214986803,443.66653811321197,1851.31156299008,4341.00808194247,4069.40264613646,1064.68691788658,7902.74296522359,5630.741220984261,6536.96636294544,3871.688901934071,1498.39091851883,2003.65357036953,617.538752197269,868.1624732744141,4910.54765823574,8366.61426770219,2321.20631423091,2888.4447099632202,490.742921135624,4805.97154908401,495.021199154345,6054.24412635839,1693.13737803293,2828.30861825601,8508.83539912434,10657.1061233567,1205.78601273801,4098.11578954984,3518.4526294613,5851.4097886154,1017.39615953411,6525.15179253791,7414.5528532260305,8922.19971681344,4816.77607411979,3950.870172149721,1879.05966237435,1854.23961318048,3646.9378597936798,3595.50194172919,554.4883448103379,10433.4743453989,9607.49884661811,1448.07198358459,3030.26724082269,6339.85084448677,2661.61251596017,5649.452468489761,2966.246125205,761.422404184785,4145.00358705858,6739.85859849279,1971.554219965,3971.1554788077397,56.9909740698165,8831.18436544789,5416.3577980789005,567.6687734239409,6472.34700724504,4551.8768886076705,4481.162212528449,1922.6566258695495,9447.117157424407,2075.59611242181,1507.89134084423,1897.78082087204,3674.741340143471,5630.44497235335,3601.29968528693,186.828073932876,99.4495914003405,839.8390632084552,5757.84899502697,5090.39277440685,7643.631046107171,8755.6919767255,4213.46525948758,5953.45352370895,5688.994849119102,4588.472285879389,4834.60379766491,2427.65078779499,1994.6211339084696,6120.090021073979,2116.53731014055,8068.3197035124085,4004.9888524873695,590.598081194187,9848.171448939893,4536.85720940257,6262.00794529651,371.040895011703,11928.5098562393,6801.405892503281,5619.21760364769,7758.79982277807,9875.03718259757,5732.39903226614,724.193188479234,5659.509277874139,5207.88311679924,2395.1653496083604,5947.64546828592,7084.263509070559,228.330803623653,10021.0492234587,3995.80729495872,7189.3507350953405,743.86714101317,6183.514146370021,2588.49026590007,8743.509701223791,1940.67404392486,5312.49170624282,4037.719603747871,934.477133128546,1072.1926587434698,8120.25808991233,839.8690240153252,8361.7191002815,5353.56165390711,9332.70266633384,4947.308727595901,3545.72397128405,10836.3830881501,1826.51630229436,5438.09369329612,7879.67620843062,7915.31344330937,2350.89150808837,6425.36536372003,3132.1486918114397,2563.96087298893,7110.755833314191,2928.98408763734,2767.8372998142,3162.133837351271,750.0671069984869,1756.0376249661401,3946.89824562224,607.909484188127,457.19661720842697,2104.38432287864,3031.24632606192,680.619696071219,2299.4181716088,4521.00431151248,2836.98817845671,1387.2488010579998,2469.36442601101,4592.245550450871,1096.96707536899,11540.045811650703,1863.89100271298,4641.7047845223715,12307.5623225278,2774.8327811003196,4030.80369209214,1671.18492391845,2342.47292088101,4953.77359939866,3248.62771841795,7363.03763852006,3928.1218464785497,2224.8841598973604,5862.83302915672,4929.87881849349,3890.4710496590997,1225.72022331307,8196.93072552584,3495.0698810157105,7441.75961676144,2084.37086090284,6232.28039861045,331.364308695631,2368.3812306499804,2366.17424012737,10533.4551622879,333.441398145797,7005.0792919714,1551.4202880312,118.34214214338499,3713.26268829211,10282.9974457346,1256.4011595099698,5575.2536907666,6637.770870559039,2324.5477054729,3257.0126292117493,4317.71547822747,10643.404179056999,11146.0744599728,168.054785283069,3369.37702306496,5272.53501398802,3371.6643103609003,890.93953525642,11246.488154757,5216.354091171161,271.734468486729,11617.7489093447,949.9566246969208,8866.527185298779,5036.25528047363,7896.2237660972805,6153.93656383383,3900.82960084791,3052.576690614569,2639.7101263171,2550.26514748866,2733.42055865967,9754.15223893674,2763.26395484522,5855.18559413532,6043.14310633161,114.49996740621799,927.0675938508432,3254.74895032068,2584.02203777874,10255.1901115656,749.145368410122,871.530091132259,5193.83819663771,3603.3640781354297,5564.163603137889,1191.33213785363,3589.25350629665,2237.92776424099,6152.00483311834,3701.53760172254,13172.6812981319,8215.55838399949,5544.654683502529,665.577000121256,5643.1798993289685,2809.32218484219,1415.71826260479,4172.98823810663,9698.582169129,1723.3993728988098,1902.26561035478,6882.87341589713,10156.1423121761,4065.2187953051507,3810.1318418453498,8494.01643069754,4659.53597585937,5415.81741673557,6388.85036020661,2991.96735071436,11047.684335060701,4481.43686080601,5602.16002178427,843.74909202058,3640.8488855601204,3859.471822981629,9255.43964893025,5541.821255211639,11159.7931652015,4550.12285317107,947.19963838056,1227.10948383375,2618.2430369954,1428.43962505335,10897.9054797653,987.261536638484,11207.4952297971,4856.48345389872,1378.90905711849,9781.3267216691,4961.25568000026,2410.2774142149,1857.4615780455701,6870.83901013046,6571.19702062939,8107.26764489386,2474.97715917028,3562.30829594435,540.617724673382,3367.7019234673803,5850.77069132097,10649.0720502131,7045.91920223369,789.63336134554,7676.310662575241,8244.74889955889,6471.62820239922,4267.45190233138,10486.7443460306,3213.8981455284397,2713.88507461967,2739.71998955614,3872.40246823472,4733.50582969986,3343.81635769923,6519.437059856079,1670.73789259357,369.527739366732,577.530782393529,6494.184335662641,1256.25353818891,2889.8801946867493,5030.82879986161,10035.603020993001,7896.356942317059,3343.05627581805,960.1372513581019,5142.11083711624,2198.1448889683497,6513.1501245071495,44.5272460985999,10427.4705030759,3064.718487716289,3853.08804154651,1077.8404003017,6697.971583270711,4269.13603478981,2275.76342522213,9351.00613114576,8824.16474742706,4462.82325767409,3563.31978870471,3141.3385363147,8334.18200780114,3951.18974682111,3206.927665383431,1165.49215757251,521.5757013705901,3492.3340219336305,8892.963302602671,5180.71186017515,6077.680286835239,4589.26726538164,8474.98246363903,161.237551122297,10033.491680429,3650.19635167761,931.790074364881,7168.70700152735,10768.747838508101,1115.15458691793,1320.46244258164,2468.17199888535,1642.96947053086,9183.84229457753,2554.0443515729003,5099.08745959981,2761.8513804366607,901.9277106596428,7530.76763344307,1093.67920279022,3040.9813501286408,6823.434442500439,4622.27519842492,1783.69732612708,1251.8673663810198,10108.7958488382,5408.21212921339,6019.83442285853,5021.63968348642,4360.05300945404,9792.09153131215,6145.131816878149,3362.77448557159,3353.6935708995093,2716.6558194475,5927.57467616725,2929.85142379499,2042.43646281071,8525.231909003141,8569.220572619399,4606.156805288821,5049.635508890789,3276.13994797231,1086.2461646268598,4534.57597308744,6463.64775060681,4440.41961655389,1833.58105081134,2430.10161848915,4928.60703383372,784.5773121318381,2663.05260942853,7571.68231798672,1016.1410075047,1594.9726819505,2290.43034182208,1801.2281947163299,6917.50843520967,2289.85125057492,4071.08303444266,3614.26818549068,2611.8480917835,1365.95220859435,2285.95653758834,2963.7944322157,12731.894637403,2888.6337275749293,2156.314406342,10816.7590093935,656.03318788707,3216.094541183369,2282.91102164954,8619.74517744195,4833.47746990896,1639.22563884266,10418.192976328299,7170.946724121321,8957.33054393952,2921.2353791526807,4980.01358501464,7258.968491635759,1368.69192225734,4767.277191893541,2234.44313665993,694.1351678029422,2699.85134586163,139.31457194860002,524.201092096584,1741.1839190889002,2907.95827229594,3901.93798361853,2161.08375159161,6222.41527252187,2911.40806707675,3485.01802587388,7602.61305507845,4749.06867530672,706.2289942236,9342.47942698609,5219.80402778761,3133.6244473393394,859.589294215437,727.194664952067,10284.606786439499,5445.22266010925,7335.96256840597,2766.28091438528,5443.27630749977,9390.67226092499,12129.0822259617,1278.99950423557,8134.220407851591,7327.28357684415,1012.9349929059199,4362.083152375421,500.59910564675596,7880.68580712225,2070.3793805860896,1305.08243308288,459.034688796151,9921.67238715704,8445.38534278682,1526.3924759160502,9857.229949587008,2343.49755586202,699.9557764042171,7286.550390859979,6808.86995498301,9448.20972109913,974.563067419013,1469.12970417187,7181.47855257926,657.0484089194509,9572.58688405588,7572.567589234591,4569.64791088147,3441.64452422469,3423.34617207901,6579.534006664228,5732.2401076494,3948.14334405049,7327.0702821016785,923.028441324114,1417.8465220016599,5757.89047926275,1494.21297427116,1049.1754772678098,5277.740419709729,8523.90111590581,5408.72776719187,2089.73250000687,6914.75153975136,34.2851058172658,3965.25197444964,10641.4514434212,6170.23911645177,396.233677598603,1446.46810321108,7908.3318430222,6095.308748994189,2240.2774038697,2529.6129690448497,1858.30823957284,2634.3585848472,4337.82555851561,528.181250121176,6747.232379118979,12176.782438093798,7732.69639567081,6994.48780081424,4298.705027677411,222.19643863902402,1529.0188684850198,6615.38785751688,780.832856751006,322.724155555729,5104.74678854711,9099.72433792209,2956.97774567302,5774.07427035938,5042.326368067929,2855.3791874510607,8859.08746877633,530.657824121697,4770.937668011939,2383.40775653766,13041.7794518553,1718.9437817568698,4842.077960288339,1129.5624120295,3972.151405211429,6928.943621162839,4876.366908841,4445.20317812007,5272.80479170349,8129.0489314653405,6034.153227563571,6800.2468059227795,3737.2121871986296,4367.26495019919,403.4021353701329,3791.02352838761,2928.1004386496197,8108.172683405841,6868.98780501089,6458.79058513878,4513.20369417302,2816.4301578897107,1137.65789054619,2385.2248369160293,1169.8359246657699,6978.52505744359,3993.146866004861,5268.22747487761,4233.08958563064,3090.47311929628,2284.00567663756,3213.5419628300897,493.589997017378,527.551568398424,8253.38456880542,2469.23458468339,10990.5337530187,2952.12315164984,4923.81484576435,3728.39703071966,7482.06736878698,719.946664588216,1510.73550672394,6105.7279291327,3960.71087317317,401.32673340017,4184.57820320039,1136.11727060881,6993.0494414817795,2522.05718465992,6391.153194203222,3644.30607009879,1002.3405737625301,10614.2484928222,2461.97440578532,4283.2269736806,3582.151363963449,5302.17994342883,4091.56129167425,3852.9924436463507,9636.80473053473,8124.598979910799,5262.6160879974705,6229.8360190473595,3550.58488878171,745.19474910364,1459.66859888829,10352.181768904,2216.9753341908604,2243.15399221322,51.640260239487,10070.9490549973,207.543817763712,959.097214811603,7410.792024329541,10677.6680182666,3641.8084108437,8699.94668231535,3438.97927728268,499.208578202042,5296.94027257637,1036.61680359844,4835.27465661614,4113.299166910279,6690.63533769203,2062.7191576926803,1498.20031600578,4601.94008647427,6429.59368808933,4618.39218432669,6924.90156914655,11805.55576878,390.33586086627196,4509.88142162832,5154.909842680399,1664.10492654064,2727.24168062816,1500.6537452812195,1.37762959325451,2664.92567484772,1440.49916760651,1281.0357291798,1114.91482428033,3748.25812413245,257.661201491859,1522.64676811391,901.277776817105,10257.918392293499,5425.280945064939,2166.1230995161,4229.9143530557785,4849.33378471958,2153.60772508337,8881.58363601412,2927.67544441237,1498.1612553260998,2089.9094635253896,9399.50460218589,7983.705373244459,4200.697505155999,4049.2538652253706,1790.3486165291395,3703.95304740702,9004.80171434867,7405.8032096322595,5571.456364476229,763.9541158786079,2983.58332216516,6557.94033087167,6898.78371916522,2649.69535606017,3210.80704797276,2698.04778142586,1456.23494449525,288.64676925315604,7453.26426764463,2648.22045208716,1770.81827895977,4396.0768773955,8801.61012677399,7007.1542526718,3493.22456741209,2257.06478222562,3716.2546852118,423.418399504824,6485.05748033896,1058.0392021630498,4286.3456144126785,9286.357544938199,1684.52656398846,7354.129522959979,95.46072237503591,4431.280471397489,3933.88301194765,5888.3757812673,4341.62669876515,109.379622752269,675.712031078049,4076.8767501185,2632.5518109756,1504.4734617798401,2961.95236821591,1521.8684050770999,255.07265595806598,1102.24036140034,1279.11309760756,1066.21460111103,7492.90982010653,6849.48422314614,9097.112036065173,745.076094530662,6752.58607130953,4545.15745895782,5203.32518145625,6983.36074103902,1664.3860619101804,7589.759990371129,7475.21228234162,9282.92773534658,3119.4126781587292,9109.774341958058,11175.8410699241,5181.84850071794,797.34597206237,5085.311918671478,1316.1871277160499,9193.09526352272,3310.41011772524,3946.001447086121,2224.46976521287,5719.278115975721,5976.89656826076,9217.6886691734,599.8303239514552,406.85186115617205,481.842697119885,10506.3280331645,372.974253343653,9521.769942117133,5502.73603087282,12607.951664106298,2857.0074135476398,1933.35356770978,2043.08955289918,1745.3719220870996,5211.32562979067,3010.3502403137395,931.781052200198,9534.660206225592,1779.72773531897,11417.0600895208,444.613776925989,107.597231536379,2539.33674893338,6207.18616502598,7235.19471689825,6289.25607587104,6342.56790924236,3489.40412162135,1791.54296221375,532.100255807783,433.458417926463,1035.46249645863,109.478853603893,3051.57426672854,11890.7571906353,4155.72376708707,6894.16538143413,458.093724368234,9452.2179473418,2805.8637447174797,7236.173930254241,4739.94895405831,421.640379591623,2841.63342276648,4058.78953380435,1530.09024242426,11921.199536959099,1440.07254888392,3181.78051934063,5685.65364147975,1579.1682486472598,3611.29590336632,5826.46289826698,8267.32605257876,3901.40208532883,1796.27050255779,4053.51993761002,764.297190003271,2672.69202602406,1402.21785398327,1091.6248164287802,610.65784710333,7337.95043106519,839.1250811884869,3170.045653648689,6154.052456547579,3475.9054232585304,7933.4694490862,3577.44768965771,1262.35606612176,7867.616835630941,7822.936090935409,117.712586947864,5567.941087462329,593.1247798263598,2852.37179495901,9154.47701536417,6227.54177432686,8293.576747493142,1790.01356619936,2241.3881435993108,3759.93723425993,8734.74061739229,9812.97871741119,7730.72757527023,6053.79158149127,9852.1411102884,4778.7005428479715,9442.011609849642,2341.36785790557,5473.98555060076,3041.5529081567797,13190.3658861707,3269.5343268133893,2290.20428885451,2830.17986246731,51.949242778070094,4669.45735259152,7206.852592751371,12427.8357034718,2106.70979061764,2312.4217766474,3495.85630614459,1930.56653214215,1870.71508930953,1699.6809718387399,4144.44814361402,8836.775689365999,1693.92017886189,2244.8831092985997,9911.134962918291,9864.07802710305,596.481179541814,1847.09424972443,2443.76891476886,483.6201677208849,3696.95324417008,6276.8307367033385,4625.19337762744,3671.9230944370597,6715.85790769023,3544.156039399161,1910.32953084278,7660.34617051509,2253.19025276782,9255.13775534296,2553.21277794851,329.450042227758,2168.75173497275,5873.410979425699,12147.3142194935,2728.1899444629503,3668.9947836488,2841.69798234271,3990.8507597519397,10504.6681673838,9490.26419041115,10614.130949683,680.9047821836081,2187.21333714559,3702.171427783379,7833.47776141374,6766.29418079942,4859.2352866332,12213.949339898401,2929.3597040424293,6587.77555584342,4622.84106541178,1040.4936732261099,299.825137750899,1777.82855129135,2591.02894660536,3278.1797272838207,28.8825344418559,2487.16518212314,6832.68481654159,5061.77783089573,357.088124203472,3845.74184934565,6453.05797893021,2940.4239697461103,3376.90746524937,5626.86933989185,3805.8027214255,2173.7676901031896,4871.67757618979,12494.2672598523,2224.06813417899,3682.861931412271,1989.18297633362,4605.91877302795,4074.9525911100404,6529.019522377729,3646.05161791101,919.1146400240359,9642.09253829297,801.779606017874,475.4205917356549,3675.83341454456,2507.64970973955,3672.10982821562,11479.4378054928,1590.32580358526,571.9329349300431,4199.0243561842,5366.64079316339,4096.783714405129,1777.9531313067498,22.327933177844,4951.91577108814,5914.5166623350415,8045.44095322367,431.45016120131004,1957.0579294027696,4432.66544443383,4582.93827444975,3766.6144347919103,3216.4912546542305,2562.69555387066,3879.6726518436094,5083.72827173068,1054.26808471871,6272.78844958014,1042.8503755962402,5491.03560172096,162.79559613813998,6938.012519684549,12715.2947207366,4124.33040419948,6340.708854775439,3489.95714756947,10948.4994895604,2944.5373541645,1247.01279101851,4513.24371213783,1094.17752939053,3709.3044307035298,365.646185165774,4990.3690908292,6644.34421410885,9686.63030666495,10235.2726101919,6115.82233293271,4176.9499552691605,3581.6550468118603,5671.64432790405,7906.14117885321,3299.88507211045,7364.001944720329,613.240620104445,1901.14392165499,7513.18286435755,7014.62270759084,5324.04818485217,6253.20667662182,2632.26561303191,7877.415131351679,3250.00608359258,2962.825186247949,3107.8837824180296,2544.35600305062,59.469163350624704,11264.6911597501,2827.28940194175,9189.61151437781,5299.2397193039005,4659.9533251724,6127.38168790854,1598.18356896296,5705.98616300577,12099.9702958367,8083.23220068418,7621.410218952421,289.57658198580503,9577.95514323174,8551.25989324198,1730.1519065694001,3229.82006262472,4465.872768882849,2291.9881185651802,510.739968904777,3917.876098203879,5310.271528649289,4948.488069855121,254.843578632033,3318.4077865437102,4136.76112621072,3665.88089899456,6766.53302048682,1662.4536164880801,2151.6965921599804,2482.0422504401604,7112.926157135659,6777.19824623253,849.545184282307,8106.859292919659,4304.92910889776,551.84308108532,8889.92840808923,3394.65824024028,4580.097830766021,1377.01840698314,4602.24584082719,6224.15288632328,9143.611708737571,4569.99498661641,3360.0594135198908,958.998081921469,2866.5858997554997,2877.7561038956,3203.61543829573,3411.65642431526,1187.4269503018,622.912810540852,2352.28711613826,5617.993125845799,2574.70775577185,2242.8257603424104,2264.72515178074,2941.0281549276397,9139.14371046925,417.6331058416769,3037.9681472571,4448.41232274551,4834.73864381419,3105.4430213977307,8352.061533316,898.133906760723,4548.11028864043,823.8351619830188,5051.30238814197,7875.070925940841,1743.7746848123404,5883.6605578909985,721.3416051022009,1366.53602502689,10462.740449564399,2187.0654844887,6745.81770760811,3960.8556473890703,812.3235343063901,1833.48584968453,5321.71255785555,1906.7955301891895,4191.7158557146,3005.82686432775,6527.99022211544,729.6044302940428,5835.54239114684,5026.47455722886,4099.90204534619,6333.39158836421,6427.726092600339,1173.7409424047,12104.534207988501,811.907862473912,3345.9419579997602,7149.066896488222,385.40336251160005,4517.5798007499,2949.93167350781,10054.634638852,6300.8689387081395,4665.58102065705,7895.112865175709,8047.14075406577,1118.92606413711,10211.7219327373,424.352131596398,11073.1585048799,2356.18197012062,53.1862073427052,4728.25954236021,3103.8122277069,10238.4962972866,8137.1644030735,2606.0237760494,2903.03612840759,7745.75480897024,5700.45719520566,599.347887026431,3796.03274043959,1203.70052925741,1268.5063826011901,4999.2020148962,6210.280586951011,7367.25824696371,5957.3863235362915,9340.54446223252,2096.9175014220605,874.324255506621,27.252482247280398,2130.79353472588,280.878547416661,2520.51445210598,4093.360006036261,5957.993317069289,7942.16814459979,4958.067775507941,325.119591532296,387.394420295952,6243.04502975119,770.7775495685298,5592.65180728153,5787.6580446965,474.525326666737,5762.46995805143,4879.84613933048,4902.97522079205,3664.621451502751,6563.41157975832,5415.05466726812,13025.0565706657,2847.8191727088,693.2147137703862,1487.7860414097595,715.836604414868,5771.08825374589,1399.8754718255402,2504.7226488011997,3520.565900944529,2155.8121729811,9808.190939503142,3980.57878313095,1419.80552276132,6037.007732557621,1558.9307648094,3944.2193177008803,4155.44929016665,5315.97382040511,4990.55712316988,12727.9975513072,493.714429947331,2143.38697161442,326.98956762450297,3719.23013486841,6401.18948620131,7455.92015661369,6740.71613617934,2225.2245333151,13766.051239333701,10229.4078769501,5233.66322803221,3608.80520160367,8986.718948176229,1413.7832242580896,2284.20912920209,7832.57241133557,842.569077270774,3388.56092327455,4574.85478041434,7063.8980358062,2922.2886852381,3729.9746499427,5239.59477294428,11963.364215854399,748.9407178924,413.311163077388,11298.172191103702,1490.47025130926,1231.5373682641,2495.13299137587,7443.48670694591,5609.326602439561,884.735504669608,9255.842933769847,5282.8491817832,1156.31970334277,1239.6882584746902,6608.96879522724,7287.540764449741,5271.62698185449,647.879378621526,1027.57779209235,1452.4933777984195,3313.3004103866497,7365.93891557773,1017.16654456031,1330.0676379117501,6875.57968295662,3704.032126276261,813.0279886810208,3644.301903482829,8238.11502092605,1347.33161169418,4087.1807070511104,4495.27875332798,6465.750589588941,4161.57314849677,1618.21835749227,6270.5740351263,8974.49202107934,3090.99245474831,1287.6320807617,3870.33389343645,3279.55782415037,1644.33917692447,10971.9746358776,1068.8873978829902,3639.90003844081,538.230522684501,23.916427866718895,5968.4420381087,2756.97230030986,1603.92486156568,10668.3635123802,2017.13994839746,1428.18921413846,10028.0158575977,1432.3558619028302,2875.44522980166,3437.0768952533504,3545.1622485755493,3295.3200609455102,2426.30622270591,4406.99505612761,9690.30879814676,5686.64311580018,2574.09343236607,771.71749424679,7921.83050973712,5035.13937788411,9131.86441883589,10674.7702051663,5797.292398100711,556.55594070128,4285.38691174949,2717.0794847261104,4752.5575717228,9008.154521284408,6855.986311283559,6708.67359111538,2548.41391592928,2413.01190680546,5240.114373477421,2628.2621240183803,5532.3438431879,2072.63406602468,4318.37772179352,6337.6749385873,7458.559482000691,3676.56835427872,6470.410380719821,4054.551771062321,3668.6467729337,2659.69454058204,2618.9734974882103,4042.53973374386,1912.20509104439,2085.81763906667,2296.79532725441,5650.88968761866,5176.36116095836,8832.65170692964,2590.92817525105,217.48852796721002,6114.867545566911,5617.1786453455115,864.624052947255,1401.6850611281195,4255.36763560122,4464.40426807541,2549.62047351317,1508.76177567629,787.047189746112,2155.66005854711,1661.71345972499,5347.29550689902,6284.83357255315,277.387568479942,11576.542236597901,1269.25457474922,703.363922990578,5890.11364359475,6619.83268303124,812.572549581062,6362.39035410808,992.5777176640448,7707.240563210759,5636.353440223261,2950.31486311935,8750.83208800708,11276.6225405751,8004.35984024104,3009.39733978784,3692.1691720194,436.935246909842,1135.1522255492,1523.07205829741,4673.766197510329,2457.9136896619,11775.3545787462,607.9656119507911,6509.698608005079,68.6254562680885,4752.28787681676,3429.9015786975897,2547.27974185242,722.519589232964,2643.10643205609,10529.7234876203,2464.16232121798,5785.88427485782,4652.95174811759,6071.34020471132,2639.91684550513,2248.24291357626,10969.5966863322,2890.65279259851,7218.968224057918,4573.59408976341,2220.22559978896,2749.5856968328803,4628.60300266554,5452.24453174869,3587.7223890690298,6360.15489740922,7548.44437291303,6111.9610170922315,339.592268926788,5644.653158554979,2427.94988726108,6678.56280037054,4776.49048616368,8109.05140901618,5556.83987007072,1064.0818754243699,4584.611815906,12380.624706792,6144.939435945948,6241.27050834808,8346.32092177162,2677.8257134135,2389.7007594319502,11495.731101963702,3580.46367722387,5714.026373679871,6649.801458944879,693.196416870457,3554.3893651037897,3678.89967602364,1589.43843220617,3327.23623483166,1408.49771708358,9540.41662588762,5120.40679717739,13376.7977060636,5929.09802983651,6617.40017195646,6803.33339273416,925.795592135596,3393.85658908614,3673.8704148985707,6501.041225662329,2393.52414875071,2075.5198219004,5673.599822075799,7557.8733378587,987.7941458290892,4169.992872455129,1074.78790405487,4087.995047695369,5628.01200410865,4024.0893667788896,2567.61515437351,6752.12245843297,586.6510961630651,10080.5243838632,4626.53863737325,1020.97816418314,7172.65433235279,6210.728279474511,8418.25315995041,6590.777229734052,1933.08292037314,2785.7795625491303,2373.17525529916,1102.84809429723,12840.6967096981,5037.9338614917,2271.4045367837107,2135.5321373166007,11039.288718792099,10306.705364572199,5618.20456988315,9955.225361701909,3813.6992679593104,3955.11335056197,3787.63914107534,1546.42288551626,10161.9466747561,6145.98775686718,8945.28946874109,7207.9411733377,4445.5023854010215,737.253724397632,2163.31248732975,2883.28410681555,6931.716435305071,1909.21513932129,2728.31148575531,2918.47772058734,6453.507839377479,9421.29841256448,4370.79361949515,3599.0688208868105,3102.34705911763,4956.94156453161,6106.10958603407,5589.328271244829,6887.738420899979,5831.52142854804,3941.69867338911,901.7531176543961,1190.63010538961,8733.44221481746,840.714206590161,4342.17811096838,3124.31240923735,2188.50308566908,3123.89873794984,4203.50355956808,7511.0034944948,5269.518402890621,609.350885818378,5533.29218872027,3950.0007899560496,2105.7095047383104,8371.493105428,12972.418362774399,11173.808451968203,4005.81614803106,1048.93237153118,1853.41915551256,10321.0987007481,6978.34712803046,5697.0214691969295,93.1526418784096,6038.16266197042,8375.729867077429,5691.09348958924,10048.3942099748,6815.48514146401,7134.65611853662,5366.868792741489,4731.81686363074,1719.03804390983,7533.679838739879,9402.87611781971,4280.79419881294,1513.3276370025305,11646.910605904099,4033.15351918701,2245.50527811304,217.18796207658002,1853.68197037988,178.692471563294,2491.46086135764,4242.64064753559,3809.3471551494613,3203.2046561695597,4442.3317798669705,1667.7487671760098,9175.66731776003,10503.5712534477,3447.00215249966,1857.25232688308,154.945616250235,4064.8180932401892,5487.8202658108285,2444.73719560844,5273.55935226625,9041.87883545742,5071.3718912882205,10566.3538692233,703.602197848316,5161.1074086113595,2527.7559225466603,8799.819841916751,5534.5507976726,5470.58784591839,6849.2948103027,8034.74777409028,4325.09926791081,7382.502551328309,3458.19361435323,8747.20862916447,6016.61509078929,6165.65881962793,5170.89985156585,2935.36765668552,2319.36285651329,6560.469542035439,5090.31049085575,4518.8583509090395,6478.40253245573,784.894856825166,5982.80503901825,5906.034308674261,8489.40598539328,4270.5329956158,7395.513416308141,2343.07383332144,1743.69146395254,2749.0798436118102,383.8501673264991,5990.3186079527695,5923.392464496321,3964.7292778685996,2957.295712230089,8452.955623884442,1084.96694239575,3336.13147168388,11738.9157053453,2725.2403131963197,114.20988809934299,299.054705855901,12115.892310922,792.71105443821,2231.97616645921,548.596116253349,7685.3267435919,5639.24568873359,10382.439679089,3028.5913283043797,7765.25282732809,1810.23233886952,6485.3015902704,1480.61489018621,8807.867970998092,1674.90563293026,997.184168539689,794.5568182373869,454.30767679965993,3680.17702845819,6045.0894869837,2606.12469797143,965.3732272185181,5265.743252438289,6278.31627900097,2987.96212327688,6002.935110435239,2972.38102277662,366.101104406139,3110.53114737451,8838.23130454766,7048.0053433926705,5685.405228108671,5753.89502717095,4534.490221631359,1888.3347360569894,2295.81809350674,7677.82385557827,838.0214411221622,271.725187722127,2121.1519558446303,3196.559768872349,1915.3855935111897,488.93727346723296,2183.71342628562,4732.4981439056,5067.03292510384,6194.072050483471,13443.4731764345,10300.28124769,10839.9137599877,6535.851950033779,5671.45055982651,4263.85358792053,10011.410682346,6254.52761697167,1080.42349008036,8442.89137257217,1974.0099040035504,758.43484908373,3153.22282858557,725.456868595806,8237.046828605171,1965.9213566813894,4837.78751067317,5183.859126382,313.627941832336,363.89991696954,5296.90777315783,11302.7676868696,3028.83461924592,9425.70730928511,7651.577271506509,4371.71544106113,3285.4999476636103,1708.71250339329,559.905322890733,3245.0416673940003,3627.98707739863,553.520858639322,1936.81325684877,8092.982779946221,6820.315403719871,520.996033494828,5067.4100131801,184.74430235095198,5984.95078361862,5913.64955570739,5540.4640473639,2714.4031075508897,6632.036202597321,6152.31449154773,2742.45497541323,6415.0862444378,8968.67887727982,8934.78576079228,7913.83773387785,6783.361362639921,7720.7804890635,7314.97632170726,4831.11117052535,6976.4632747324,2361.1668022374397,434.86745161344703,2272.14762045204,6279.6870072868005,5006.850087456421,7498.630446855849,6921.4910285276,6301.594778224128,7718.4797951852015,9733.11318882571,2503.7883995275,9581.83330584003,4073.41190141951,7050.43252621121,8052.38128314598,2226.81958036494,3649.6431030705103,6069.64909380359,465.011565756224,5990.716973188271,3728.48334170117,3060.03016771304,3211.6702808546397,101.218538140203,706.619738681604,8172.05250385158,1733.40311054441,1568.8636891672,108.62991134456199,1098.0733647218801,1134.23438387685,3177.5173724981896,2855.2160995866907,3591.797505348621,2474.24811229965,10491.6321514839,4453.824616990561,2505.86839812077,967.134588168133,6796.59093473349,6859.836595599039,93.89580488374209,350.4455483951191,9743.60925907749,110.202890548355,4844.68098269435,6363.11366818686,9246.26505750173,2690.76813397945,7826.32590939549,2426.0086222937603,5740.591697530911,8236.47651886542,6832.803041888821,7877.33004149761,3215.26309296887,1780.5073342770602,1795.2239577898395,52.872190279850905,11029.667709698899,54.0082423765092,1779.5745284350799,8716.61125941204,1940.87069929917,5143.49041556889,5774.281958129572,864.9687379108342,5961.53181600807,4705.75708282464,8383.07416484486,8253.273858040659,729.3773771563091,7606.993238559659,4693.11169707689,192.144610510401,8733.179295151309,286.264434196967,3132.55183069445,5575.63564838086,1633.03577963806,321.578931158535,1484.56154845106,2214.92249276823,6562.9038372817295,2003.41184966425,5953.52187129338,4369.21887593705,1896.75499382091,660.241452576494,5335.40349911225,1890.4474777119,5768.742734990649,4944.05626409444,1391.6018015385198,6239.24752554114,3913.782123938161,3743.00343686135,2015.18296932815,5029.70763593419,2989.95099658697,7054.60614935761,5594.332971007148,9852.889427216229,7798.793462982109,4244.49803308998,7813.23982954838,1249.34756391816,4002.99127617087,3764.8151742023297,3740.9009356876704,5006.25382336323,4265.17370408717,4952.65334579666,4852.7665976795,9043.75604444505,4023.06476529586,644.384194795452,10398.8205918487,1779.8145966117602,268.29097076779595,5067.44996385047,6046.84084474272,1707.6728696492498,7832.44332069255,922.036589731527,4354.3144119439785,3959.6117718741402,9719.56279821605,8537.36966588191,2583.1064251157,2291.85642755991,7289.014109090092,5760.858733716,4601.60618266029,7269.59689733384,2658.0906316048604,2317.39367782209,623.024152762279,3273.63182294932,2225.28464348945,1926.7293969037696,3503.1761563262603,5522.7866932551415,1622.72259832146,7378.833598730591]}],\"hovertemplate\":\"%{xaxis.title.text}=%{x}<br>%{yaxis.title.text}=%{y}<br>default=%{marker.color}<extra></extra>\",\"legendgroup\":\"\",\"marker\":{\"color\":[0,0,0,0,1,0,0,1,0,0,0,0,0,0,0,0,0,0,0,0,0,0,0,0,0,0,0,0,0,0,0,0,0,0,0,0,0,0,0,1,0,0,0,1,0,0,0,0,0,0,0,0,0,0,0,0,1,0,0,0,0,0,0,0,0,0,0,1,0,0,0,1,1,0,0,0,0,0,0,0,0,0,0,0,1,1,1,0,0,0,0,0,0,0,0,0,0,0,1,1,0,0,0,1,0,0,1,0,0,0,0,0,0,0,0,0,0,0,0,0,0,1,0,0,0,0,0,0,0,0,0,0,1,0,0,0,0,1,0,1,1,0,1,0,0,1,0,0,0,0,0,0,0,0,0,0,0,1,0,0,0,0,0,0,1,0,1,0,0,0,0,0,0,0,0,0,0,1,0,1,1,0,0,0,1,1,0,0,0,0,1,0,0,0,0,1,0,0,0,0,0,1,0,0,0,0,0,0,0,0,0,0,0,0,0,0,0,0,0,0,0,0,0,0,0,1,0,0,1,1,0,0,0,1,0,1,0,0,0,0,0,0,0,0,1,0,0,0,1,0,0,0,0,0,0,0,0,0,1,0,0,0,0,0,0,0,0,0,0,0,0,1,0,1,0,1,0,1,1,0,0,0,0,0,0,0,0,0,0,0,0,0,0,0,0,0,0,0,0,0,0,1,0,0,0,1,1,0,0,0,0,0,0,0,0,0,0,0,0,0,0,0,0,0,0,1,0,1,0,0,0,0,0,0,0,0,0,0,0,0,0,0,1,0,0,1,0,0,0,1,0,0,0,1,0,0,0,0,0,0,0,1,0,0,0,0,0,0,0,0,0,0,0,0,0,0,0,0,0,0,0,0,0,0,0,1,0,0,0,0,0,0,0,0,0,0,1,0,0,0,0,0,1,0,0,1,0,0,0,0,0,0,1,0,0,1,0,0,0,0,0,1,0,0,0,0,0,1,0,1,0,0,0,1,0,1,0,0,0,0,1,0,0,0,0,0,0,0,0,0,0,0,1,0,1,0,0,1,1,0,0,0,0,0,1,0,0,0,0,0,0,0,1,0,0,0,0,0,0,0,1,0,1,0,0,0,0,0,1,0,0,0,1,0,0,1,0,0,0,0,1,0,0,0,0,0,0,0,0,0,0,0,0,0,0,0,1,0,0,1,0,0,0,1,0,0,0,0,0,0,0,0,0,0,1,1,0,0,0,0,0,0,0,0,1,0,0,0,0,1,0,0,0,0,1,0,0,0,0,0,0,0,0,0,0,0,0,0,0,1,1,0,0,0,0,0,0,0,0,0,0,1,1,1,0,1,0,0,0,0,0,0,0,0,0,0,0,0,0,0,0,0,0,0,0,0,0,0,1,0,1,0,0,0,0,0,0,0,0,0,0,0,0,0,0,0,0,1,0,0,0,0,0,0,0,0,0,0,0,0,0,0,0,0,0,0,1,0,0,1,0,0,0,1,0,0,0,0,0,0,0,0,0,0,0,0,0,0,0,0,0,0,0,0,0,0,1,0,0,1,0,1,0,0,0,0,0,0,0,0,0,0,0,0,0,1,0,1,0,0,0,1,1,0,1,0,0,0,0,0,0,0,1,0,1,0,0,0,0,0,0,0,0,0,0,0,0,0,0,0,0,0,0,0,0,1,0,0,0,0,0,0,0,0,0,0,0,0,0,1,1,0,0,0,0,0,0,0,1,0,0,0,0,1,0,0,0,0,0,0,0,0,0,0,0,0,0,0,0,0,1,0,0,0,1,0,1,0,0,0,0,0,1,0,0,0,0,0,0,0,0,0,0,0,0,0,0,0,0,0,0,0,0,0,0,1,0,0,0,0,0,0,0,0,0,0,0,0,0,0,0,0,0,0,0,0,0,0,1,0,0,1,0,0,0,0,0,0,0,0,0,0,0,0,0,0,0,0,0,0,1,0,0,0,0,0,0,0,0,0,1,0,0,0,0,0,0,0,1,0,1,0,0,0,0,0,0,1,0,1,0,0,0,0,0,0,0,0,0,0,0,0,1,0,0,0,1,0,0,0,1,0,1,0,0,0,0,1,0,0,0,0,0,0,0,0,0,0,0,0,0,0,0,0,0,0,0,0,0,0,0,0,0,0,0,0,0,1,0,0,0,0,0,0,1,1,0,1,0,0,0,0,0,1,0,1,1,1,0,0,0,0,0,0,0,1,0,1,0,0,0,1,1,1,1,0,0,0,0,0,0,0,0,0,1,0,0,0,1,0,0,0,0,0,1,0,0,1,0,0,0,0,0,0,0,0,0,0,0,0,1,0,0,0,0,1,0,0,0,0,0,0,0,0,0,0,0,0,0,0,1,0,0,1,0,0,1,0,1,0,0,0,0,0,0,0,0,0,0,0,0,0,0,0,0,1,0,0,1,1,0,0,0,0,0,0,1,0,0,0,0,1,0,0,0,0,0,0,1,0,0,0,0,1,0,0,0,0,0,0,0,1,1,0,0,0,0,0,0,0,0,0,0,0,1,0,0,0,1,0,0,0,0,0,0,0,1,0,0,0,0,0,0,0,0,0,1,1,0,1,0,0,0,0,1,0,0,0,0,1,0,0,0,0,0,0,0,0,0,0,0,0,0,0,0,0,0,0,0,0,0,0,0,0,0,0,0,0,0,0,0,0,0,0,1,0,0,0,0,1,0,0,0,0,0,0,0,0,0,0,1,0,1,0,0,1,0,0,0,0,0,0,0,0,0,0,0,0,0,0,0,0,0,1,0,1,0,0,0,0,1,1,0,0,0,0,1,0,0,0,0,0,1,0,1,0,0,0,0,0,0,0,0,0,0,0,0,0,0,0,0,0,0,1,0,0,0,0,0,0,0,1,0,0,0,0,0,0,0,0,0,0,0,0,0,0,0,0,1,0,1,0,1,0,0,0,0,0,0,0,0,0,1,0,0,1,0,0,0,0,0,0,0,0,0,0,1,0,0,0,0,0,1,0,1,0,0,0,0,0,0,0,0,0,0,0,0,0,0,0,0,0,0,0,0,0,0,0,0,0,0,0,0,0,0,0,0,0,0,0,1,1,0,0,0,1,0,0,0,1,0,0,0,0,0,1,0,0,0,1,1,0,0,0,0,0,0,0,0,0,0,0,0,0,0,0,1,0,0,1,0,0,0,0,0,0,0,0,0,0,0,0,0,0,1,0,0,0,0,0,0,0,0,0,0,0,0,0,0,1,0,0,0,0,0,1,0,0,0,0,1,0,0,1,0,0,0,0,0,0,0,0,0,1,0,0,0,0,0,0,0,0,0,0,1,0,0,0,0,0,0,0,0,0,1,0,0,0,0,0,1,0,0,0,0,0,0,0,0,0,0,0,0,0,0,1,0,0,0,0,0,0,0,0,0,0,0,0,1,0,0,0,1,0,1,0,0,0,0,0,0,0,0,0,0,0,0,0,0,1,0,0,0,0,0,0,0,0,0,0,1,0,0,0,0,0,0,1,1,0,0,0,0,0,1,0,1,0,0,0,0,0,0,0,0,0,1,0,1,0,0,0,1,0,1,0,0,0,0,0,0,0,0,1,1,1,0,1,0,0,0,0,0,0,0,0,0,0,0,0,0,1,0,0,0,0,0,0,0,0,1,0,0,0,0,0,1,0,0,0,0,1,0,1,0,0,0,0,1,0,1,0,0,0,0,0,0,0,0,0,1,0,0,0,0,0,0,0,0,0,0,0,0,0,0,0,0,0,0,0,0,0,0,0,0,0,0,1,0,0,0,0,0,0,0,0,0,0,0,0,0,0,0,1,0,0,1,0,0,0,0,0,0,0,0,0,0,0,0,0,0,0,0,0,0,0,0,0,0,0,0,0,0,0,0,0,1,0,0,0,1,0,0,0,0,1,0,0,0,0,0,1,1,0,0,0,0,0,0,1,0,0,0,0,0,0,0,0,0,0,0,0,0,0,0,1,0,0,0,0,0,1,0,0,0,0,0,0,0,0,0,0,0,1,0,0,0,0,0,0,0,0,0,0,0,0,0,0,0,0,1,0,0,0,0,0,0,0,0,0,0,0,0,0,0,0,0,1,0,0,0,0,0,0,0,0,0,0,0,0,0,0,0,0,1,0,0,0,0,0,0,0,0,0,1,1,0,0,0,0,1,0,0,1,0,0,1,0,1,1,0,0,0,0,0,0,0,0,0,0,1,1,0,1,1,0,1,0,0,0,0,0,1,0,0,0,0,0,0,0,1,0,0,0,0,0,0,0,0,0,0,0,0,0,0,0,0,0,0,0,0,0,0,1,0,0,0,0,1,0,0,0,0,0,1,0,0,0,0,0,0,0,0,0,1,0,0,0,1,0,1,0,0,0,0,0,0,0,0,0,1,0,0,0,0,0,0,0,0,0,0,0,0,0,0,0,0,0,1,0,0,0,0,1,1,0,1,0,0,0,0,0,0,0,0,0,0,0,0,0,0,0,0,1,0,0,0,0,0,1,0,0,0,0,0,0,0,1,0,0],\"coloraxis\":\"coloraxis\",\"symbol\":\"circle\"},\"name\":\"\",\"showlegend\":false,\"type\":\"splom\"}],                        {\"template\":{\"data\":{\"bar\":[{\"error_x\":{\"color\":\"#2a3f5f\"},\"error_y\":{\"color\":\"#2a3f5f\"},\"marker\":{\"line\":{\"color\":\"#E5ECF6\",\"width\":0.5},\"pattern\":{\"fillmode\":\"overlay\",\"size\":10,\"solidity\":0.2}},\"type\":\"bar\"}],\"barpolar\":[{\"marker\":{\"line\":{\"color\":\"#E5ECF6\",\"width\":0.5},\"pattern\":{\"fillmode\":\"overlay\",\"size\":10,\"solidity\":0.2}},\"type\":\"barpolar\"}],\"carpet\":[{\"aaxis\":{\"endlinecolor\":\"#2a3f5f\",\"gridcolor\":\"white\",\"linecolor\":\"white\",\"minorgridcolor\":\"white\",\"startlinecolor\":\"#2a3f5f\"},\"baxis\":{\"endlinecolor\":\"#2a3f5f\",\"gridcolor\":\"white\",\"linecolor\":\"white\",\"minorgridcolor\":\"white\",\"startlinecolor\":\"#2a3f5f\"},\"type\":\"carpet\"}],\"choropleth\":[{\"colorbar\":{\"outlinewidth\":0,\"ticks\":\"\"},\"type\":\"choropleth\"}],\"contour\":[{\"colorbar\":{\"outlinewidth\":0,\"ticks\":\"\"},\"colorscale\":[[0.0,\"#0d0887\"],[0.1111111111111111,\"#46039f\"],[0.2222222222222222,\"#7201a8\"],[0.3333333333333333,\"#9c179e\"],[0.4444444444444444,\"#bd3786\"],[0.5555555555555556,\"#d8576b\"],[0.6666666666666666,\"#ed7953\"],[0.7777777777777778,\"#fb9f3a\"],[0.8888888888888888,\"#fdca26\"],[1.0,\"#f0f921\"]],\"type\":\"contour\"}],\"contourcarpet\":[{\"colorbar\":{\"outlinewidth\":0,\"ticks\":\"\"},\"type\":\"contourcarpet\"}],\"heatmap\":[{\"colorbar\":{\"outlinewidth\":0,\"ticks\":\"\"},\"colorscale\":[[0.0,\"#0d0887\"],[0.1111111111111111,\"#46039f\"],[0.2222222222222222,\"#7201a8\"],[0.3333333333333333,\"#9c179e\"],[0.4444444444444444,\"#bd3786\"],[0.5555555555555556,\"#d8576b\"],[0.6666666666666666,\"#ed7953\"],[0.7777777777777778,\"#fb9f3a\"],[0.8888888888888888,\"#fdca26\"],[1.0,\"#f0f921\"]],\"type\":\"heatmap\"}],\"heatmapgl\":[{\"colorbar\":{\"outlinewidth\":0,\"ticks\":\"\"},\"colorscale\":[[0.0,\"#0d0887\"],[0.1111111111111111,\"#46039f\"],[0.2222222222222222,\"#7201a8\"],[0.3333333333333333,\"#9c179e\"],[0.4444444444444444,\"#bd3786\"],[0.5555555555555556,\"#d8576b\"],[0.6666666666666666,\"#ed7953\"],[0.7777777777777778,\"#fb9f3a\"],[0.8888888888888888,\"#fdca26\"],[1.0,\"#f0f921\"]],\"type\":\"heatmapgl\"}],\"histogram\":[{\"marker\":{\"pattern\":{\"fillmode\":\"overlay\",\"size\":10,\"solidity\":0.2}},\"type\":\"histogram\"}],\"histogram2d\":[{\"colorbar\":{\"outlinewidth\":0,\"ticks\":\"\"},\"colorscale\":[[0.0,\"#0d0887\"],[0.1111111111111111,\"#46039f\"],[0.2222222222222222,\"#7201a8\"],[0.3333333333333333,\"#9c179e\"],[0.4444444444444444,\"#bd3786\"],[0.5555555555555556,\"#d8576b\"],[0.6666666666666666,\"#ed7953\"],[0.7777777777777778,\"#fb9f3a\"],[0.8888888888888888,\"#fdca26\"],[1.0,\"#f0f921\"]],\"type\":\"histogram2d\"}],\"histogram2dcontour\":[{\"colorbar\":{\"outlinewidth\":0,\"ticks\":\"\"},\"colorscale\":[[0.0,\"#0d0887\"],[0.1111111111111111,\"#46039f\"],[0.2222222222222222,\"#7201a8\"],[0.3333333333333333,\"#9c179e\"],[0.4444444444444444,\"#bd3786\"],[0.5555555555555556,\"#d8576b\"],[0.6666666666666666,\"#ed7953\"],[0.7777777777777778,\"#fb9f3a\"],[0.8888888888888888,\"#fdca26\"],[1.0,\"#f0f921\"]],\"type\":\"histogram2dcontour\"}],\"mesh3d\":[{\"colorbar\":{\"outlinewidth\":0,\"ticks\":\"\"},\"type\":\"mesh3d\"}],\"parcoords\":[{\"line\":{\"colorbar\":{\"outlinewidth\":0,\"ticks\":\"\"}},\"type\":\"parcoords\"}],\"pie\":[{\"automargin\":true,\"type\":\"pie\"}],\"scatter\":[{\"marker\":{\"colorbar\":{\"outlinewidth\":0,\"ticks\":\"\"}},\"type\":\"scatter\"}],\"scatter3d\":[{\"line\":{\"colorbar\":{\"outlinewidth\":0,\"ticks\":\"\"}},\"marker\":{\"colorbar\":{\"outlinewidth\":0,\"ticks\":\"\"}},\"type\":\"scatter3d\"}],\"scattercarpet\":[{\"marker\":{\"colorbar\":{\"outlinewidth\":0,\"ticks\":\"\"}},\"type\":\"scattercarpet\"}],\"scattergeo\":[{\"marker\":{\"colorbar\":{\"outlinewidth\":0,\"ticks\":\"\"}},\"type\":\"scattergeo\"}],\"scattergl\":[{\"marker\":{\"colorbar\":{\"outlinewidth\":0,\"ticks\":\"\"}},\"type\":\"scattergl\"}],\"scattermapbox\":[{\"marker\":{\"colorbar\":{\"outlinewidth\":0,\"ticks\":\"\"}},\"type\":\"scattermapbox\"}],\"scatterpolar\":[{\"marker\":{\"colorbar\":{\"outlinewidth\":0,\"ticks\":\"\"}},\"type\":\"scatterpolar\"}],\"scatterpolargl\":[{\"marker\":{\"colorbar\":{\"outlinewidth\":0,\"ticks\":\"\"}},\"type\":\"scatterpolargl\"}],\"scatterternary\":[{\"marker\":{\"colorbar\":{\"outlinewidth\":0,\"ticks\":\"\"}},\"type\":\"scatterternary\"}],\"surface\":[{\"colorbar\":{\"outlinewidth\":0,\"ticks\":\"\"},\"colorscale\":[[0.0,\"#0d0887\"],[0.1111111111111111,\"#46039f\"],[0.2222222222222222,\"#7201a8\"],[0.3333333333333333,\"#9c179e\"],[0.4444444444444444,\"#bd3786\"],[0.5555555555555556,\"#d8576b\"],[0.6666666666666666,\"#ed7953\"],[0.7777777777777778,\"#fb9f3a\"],[0.8888888888888888,\"#fdca26\"],[1.0,\"#f0f921\"]],\"type\":\"surface\"}],\"table\":[{\"cells\":{\"fill\":{\"color\":\"#EBF0F8\"},\"line\":{\"color\":\"white\"}},\"header\":{\"fill\":{\"color\":\"#C8D4E3\"},\"line\":{\"color\":\"white\"}},\"type\":\"table\"}]},\"layout\":{\"annotationdefaults\":{\"arrowcolor\":\"#2a3f5f\",\"arrowhead\":0,\"arrowwidth\":1},\"autotypenumbers\":\"strict\",\"coloraxis\":{\"colorbar\":{\"outlinewidth\":0,\"ticks\":\"\"}},\"colorscale\":{\"diverging\":[[0,\"#8e0152\"],[0.1,\"#c51b7d\"],[0.2,\"#de77ae\"],[0.3,\"#f1b6da\"],[0.4,\"#fde0ef\"],[0.5,\"#f7f7f7\"],[0.6,\"#e6f5d0\"],[0.7,\"#b8e186\"],[0.8,\"#7fbc41\"],[0.9,\"#4d9221\"],[1,\"#276419\"]],\"sequential\":[[0.0,\"#0d0887\"],[0.1111111111111111,\"#46039f\"],[0.2222222222222222,\"#7201a8\"],[0.3333333333333333,\"#9c179e\"],[0.4444444444444444,\"#bd3786\"],[0.5555555555555556,\"#d8576b\"],[0.6666666666666666,\"#ed7953\"],[0.7777777777777778,\"#fb9f3a\"],[0.8888888888888888,\"#fdca26\"],[1.0,\"#f0f921\"]],\"sequentialminus\":[[0.0,\"#0d0887\"],[0.1111111111111111,\"#46039f\"],[0.2222222222222222,\"#7201a8\"],[0.3333333333333333,\"#9c179e\"],[0.4444444444444444,\"#bd3786\"],[0.5555555555555556,\"#d8576b\"],[0.6666666666666666,\"#ed7953\"],[0.7777777777777778,\"#fb9f3a\"],[0.8888888888888888,\"#fdca26\"],[1.0,\"#f0f921\"]]},\"colorway\":[\"#636efa\",\"#EF553B\",\"#00cc96\",\"#ab63fa\",\"#FFA15A\",\"#19d3f3\",\"#FF6692\",\"#B6E880\",\"#FF97FF\",\"#FECB52\"],\"font\":{\"color\":\"#2a3f5f\"},\"geo\":{\"bgcolor\":\"white\",\"lakecolor\":\"white\",\"landcolor\":\"#E5ECF6\",\"showlakes\":true,\"showland\":true,\"subunitcolor\":\"white\"},\"hoverlabel\":{\"align\":\"left\"},\"hovermode\":\"closest\",\"mapbox\":{\"style\":\"light\"},\"paper_bgcolor\":\"white\",\"plot_bgcolor\":\"#E5ECF6\",\"polar\":{\"angularaxis\":{\"gridcolor\":\"white\",\"linecolor\":\"white\",\"ticks\":\"\"},\"bgcolor\":\"#E5ECF6\",\"radialaxis\":{\"gridcolor\":\"white\",\"linecolor\":\"white\",\"ticks\":\"\"}},\"scene\":{\"xaxis\":{\"backgroundcolor\":\"#E5ECF6\",\"gridcolor\":\"white\",\"gridwidth\":2,\"linecolor\":\"white\",\"showbackground\":true,\"ticks\":\"\",\"zerolinecolor\":\"white\"},\"yaxis\":{\"backgroundcolor\":\"#E5ECF6\",\"gridcolor\":\"white\",\"gridwidth\":2,\"linecolor\":\"white\",\"showbackground\":true,\"ticks\":\"\",\"zerolinecolor\":\"white\"},\"zaxis\":{\"backgroundcolor\":\"#E5ECF6\",\"gridcolor\":\"white\",\"gridwidth\":2,\"linecolor\":\"white\",\"showbackground\":true,\"ticks\":\"\",\"zerolinecolor\":\"white\"}},\"shapedefaults\":{\"line\":{\"color\":\"#2a3f5f\"}},\"ternary\":{\"aaxis\":{\"gridcolor\":\"white\",\"linecolor\":\"white\",\"ticks\":\"\"},\"baxis\":{\"gridcolor\":\"white\",\"linecolor\":\"white\",\"ticks\":\"\"},\"bgcolor\":\"#E5ECF6\",\"caxis\":{\"gridcolor\":\"white\",\"linecolor\":\"white\",\"ticks\":\"\"}},\"title\":{\"x\":0.05},\"xaxis\":{\"automargin\":true,\"gridcolor\":\"white\",\"linecolor\":\"white\",\"ticks\":\"\",\"title\":{\"standoff\":15},\"zerolinecolor\":\"white\",\"zerolinewidth\":2},\"yaxis\":{\"automargin\":true,\"gridcolor\":\"white\",\"linecolor\":\"white\",\"ticks\":\"\",\"title\":{\"standoff\":15},\"zerolinecolor\":\"white\",\"zerolinewidth\":2}}},\"coloraxis\":{\"colorbar\":{\"title\":{\"text\":\"default\"}},\"colorscale\":[[0.0,\"#0d0887\"],[0.1111111111111111,\"#46039f\"],[0.2222222222222222,\"#7201a8\"],[0.3333333333333333,\"#9c179e\"],[0.4444444444444444,\"#bd3786\"],[0.5555555555555556,\"#d8576b\"],[0.6666666666666666,\"#ed7953\"],[0.7777777777777778,\"#fb9f3a\"],[0.8888888888888888,\"#fdca26\"],[1.0,\"#f0f921\"]]},\"legend\":{\"tracegroupgap\":0},\"margin\":{\"t\":60},\"dragmode\":\"select\"},                        {\"responsive\": true}                    ).then(function(){\n",
              "                            \n",
              "var gd = document.getElementById('3fd2c55b-99a5-4b4d-9ef4-72d575ef566d');\n",
              "var x = new MutationObserver(function (mutations, observer) {{\n",
              "        var display = window.getComputedStyle(gd).display;\n",
              "        if (!display || display === 'none') {{\n",
              "            console.log([gd, 'removed!']);\n",
              "            Plotly.purge(gd);\n",
              "            observer.disconnect();\n",
              "        }}\n",
              "}});\n",
              "\n",
              "// Listen for the removal of the full notebook cells\n",
              "var notebookContainer = gd.closest('#notebook-container');\n",
              "if (notebookContainer) {{\n",
              "    x.observe(notebookContainer, {childList: true});\n",
              "}}\n",
              "\n",
              "// Listen for the clearing of the current output cell\n",
              "var outputEl = gd.closest('.output');\n",
              "if (outputEl) {{\n",
              "    x.observe(outputEl, {childList: true});\n",
              "}}\n",
              "\n",
              "                        })                };                            </script>        </div>\n",
              "</body>\n",
              "</html>"
            ]
          },
          "metadata": {}
        }
      ]
    },
    {
      "cell_type": "markdown",
      "metadata": {
        "id": "C4LYrWSwFefj"
      },
      "source": [
        "![image.png](data:image/png;base64,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)"
      ]
    },
    {
      "cell_type": "markdown",
      "metadata": {
        "id": "rxdynFCxQH4M"
      },
      "source": [
        "### Tratamento de valores inconsistentes"
      ]
    },
    {
      "cell_type": "code",
      "metadata": {
        "colab": {
          "base_uri": "https://localhost:8080/",
          "height": 0
        },
        "id": "2RlpoyYIQkW0",
        "outputId": "dc104fba-c87c-4abe-a092-2668c9abefa4"
      },
      "source": [
        "base_credit.loc[base_credit['age']<0] #localiza os registros com idade menor que zero"
      ],
      "execution_count": 19,
      "outputs": [
        {
          "output_type": "execute_result",
          "data": {
            "text/html": [
              "\n",
              "  <div id=\"df-6a0b9eae-2a05-4c78-83e8-2842d300db4d\">\n",
              "    <div class=\"colab-df-container\">\n",
              "      <div>\n",
              "<style scoped>\n",
              "    .dataframe tbody tr th:only-of-type {\n",
              "        vertical-align: middle;\n",
              "    }\n",
              "\n",
              "    .dataframe tbody tr th {\n",
              "        vertical-align: top;\n",
              "    }\n",
              "\n",
              "    .dataframe thead th {\n",
              "        text-align: right;\n",
              "    }\n",
              "</style>\n",
              "<table border=\"1\" class=\"dataframe\">\n",
              "  <thead>\n",
              "    <tr style=\"text-align: right;\">\n",
              "      <th></th>\n",
              "      <th>clientid</th>\n",
              "      <th>income</th>\n",
              "      <th>age</th>\n",
              "      <th>loan</th>\n",
              "      <th>default</th>\n",
              "    </tr>\n",
              "  </thead>\n",
              "  <tbody>\n",
              "    <tr>\n",
              "      <th>15</th>\n",
              "      <td>16</td>\n",
              "      <td>50501.726689</td>\n",
              "      <td>-28.218361</td>\n",
              "      <td>3977.287432</td>\n",
              "      <td>0</td>\n",
              "    </tr>\n",
              "    <tr>\n",
              "      <th>21</th>\n",
              "      <td>22</td>\n",
              "      <td>32197.620701</td>\n",
              "      <td>-52.423280</td>\n",
              "      <td>4244.057136</td>\n",
              "      <td>0</td>\n",
              "    </tr>\n",
              "    <tr>\n",
              "      <th>26</th>\n",
              "      <td>27</td>\n",
              "      <td>63287.038908</td>\n",
              "      <td>-36.496976</td>\n",
              "      <td>9595.286289</td>\n",
              "      <td>0</td>\n",
              "    </tr>\n",
              "  </tbody>\n",
              "</table>\n",
              "</div>\n",
              "      <button class=\"colab-df-convert\" onclick=\"convertToInteractive('df-6a0b9eae-2a05-4c78-83e8-2842d300db4d')\"\n",
              "              title=\"Convert this dataframe to an interactive table.\"\n",
              "              style=\"display:none;\">\n",
              "        \n",
              "  <svg xmlns=\"http://www.w3.org/2000/svg\" height=\"24px\"viewBox=\"0 0 24 24\"\n",
              "       width=\"24px\">\n",
              "    <path d=\"M0 0h24v24H0V0z\" fill=\"none\"/>\n",
              "    <path d=\"M18.56 5.44l.94 2.06.94-2.06 2.06-.94-2.06-.94-.94-2.06-.94 2.06-2.06.94zm-11 1L8.5 8.5l.94-2.06 2.06-.94-2.06-.94L8.5 2.5l-.94 2.06-2.06.94zm10 10l.94 2.06.94-2.06 2.06-.94-2.06-.94-.94-2.06-.94 2.06-2.06.94z\"/><path d=\"M17.41 7.96l-1.37-1.37c-.4-.4-.92-.59-1.43-.59-.52 0-1.04.2-1.43.59L10.3 9.45l-7.72 7.72c-.78.78-.78 2.05 0 2.83L4 21.41c.39.39.9.59 1.41.59.51 0 1.02-.2 1.41-.59l7.78-7.78 2.81-2.81c.8-.78.8-2.07 0-2.86zM5.41 20L4 18.59l7.72-7.72 1.47 1.35L5.41 20z\"/>\n",
              "  </svg>\n",
              "      </button>\n",
              "      \n",
              "  <style>\n",
              "    .colab-df-container {\n",
              "      display:flex;\n",
              "      flex-wrap:wrap;\n",
              "      gap: 12px;\n",
              "    }\n",
              "\n",
              "    .colab-df-convert {\n",
              "      background-color: #E8F0FE;\n",
              "      border: none;\n",
              "      border-radius: 50%;\n",
              "      cursor: pointer;\n",
              "      display: none;\n",
              "      fill: #1967D2;\n",
              "      height: 32px;\n",
              "      padding: 0 0 0 0;\n",
              "      width: 32px;\n",
              "    }\n",
              "\n",
              "    .colab-df-convert:hover {\n",
              "      background-color: #E2EBFA;\n",
              "      box-shadow: 0px 1px 2px rgba(60, 64, 67, 0.3), 0px 1px 3px 1px rgba(60, 64, 67, 0.15);\n",
              "      fill: #174EA6;\n",
              "    }\n",
              "\n",
              "    [theme=dark] .colab-df-convert {\n",
              "      background-color: #3B4455;\n",
              "      fill: #D2E3FC;\n",
              "    }\n",
              "\n",
              "    [theme=dark] .colab-df-convert:hover {\n",
              "      background-color: #434B5C;\n",
              "      box-shadow: 0px 1px 3px 1px rgba(0, 0, 0, 0.15);\n",
              "      filter: drop-shadow(0px 1px 2px rgba(0, 0, 0, 0.3));\n",
              "      fill: #FFFFFF;\n",
              "    }\n",
              "  </style>\n",
              "\n",
              "      <script>\n",
              "        const buttonEl =\n",
              "          document.querySelector('#df-6a0b9eae-2a05-4c78-83e8-2842d300db4d button.colab-df-convert');\n",
              "        buttonEl.style.display =\n",
              "          google.colab.kernel.accessAllowed ? 'block' : 'none';\n",
              "\n",
              "        async function convertToInteractive(key) {\n",
              "          const element = document.querySelector('#df-6a0b9eae-2a05-4c78-83e8-2842d300db4d');\n",
              "          const dataTable =\n",
              "            await google.colab.kernel.invokeFunction('convertToInteractive',\n",
              "                                                     [key], {});\n",
              "          if (!dataTable) return;\n",
              "\n",
              "          const docLinkHtml = 'Like what you see? Visit the ' +\n",
              "            '<a target=\"_blank\" href=https://colab.research.google.com/notebooks/data_table.ipynb>data table notebook</a>'\n",
              "            + ' to learn more about interactive tables.';\n",
              "          element.innerHTML = '';\n",
              "          dataTable['output_type'] = 'display_data';\n",
              "          await google.colab.output.renderOutput(dataTable, element);\n",
              "          const docLink = document.createElement('div');\n",
              "          docLink.innerHTML = docLinkHtml;\n",
              "          element.appendChild(docLink);\n",
              "        }\n",
              "      </script>\n",
              "    </div>\n",
              "  </div>\n",
              "  "
            ],
            "text/plain": [
              "    clientid        income        age         loan  default\n",
              "15        16  50501.726689 -28.218361  3977.287432        0\n",
              "21        22  32197.620701 -52.423280  4244.057136        0\n",
              "26        27  63287.038908 -36.496976  9595.286289        0"
            ]
          },
          "metadata": {},
          "execution_count": 19
        }
      ]
    },
    {
      "cell_type": "code",
      "metadata": {
        "colab": {
          "base_uri": "https://localhost:8080/",
          "height": 0
        },
        "id": "SuRqet8HRJ-s",
        "outputId": "74408d57-d663-47de-b169-bcc081db0d43"
      },
      "source": [
        "#apagar a coluna das idades\n",
        "base_credit2 = base_credit.drop('age', axis=1)\n",
        "base_credit2"
      ],
      "execution_count": 20,
      "outputs": [
        {
          "output_type": "execute_result",
          "data": {
            "text/html": [
              "\n",
              "  <div id=\"df-f6553c3c-298c-4b3e-be3c-1ec2b31405b8\">\n",
              "    <div class=\"colab-df-container\">\n",
              "      <div>\n",
              "<style scoped>\n",
              "    .dataframe tbody tr th:only-of-type {\n",
              "        vertical-align: middle;\n",
              "    }\n",
              "\n",
              "    .dataframe tbody tr th {\n",
              "        vertical-align: top;\n",
              "    }\n",
              "\n",
              "    .dataframe thead th {\n",
              "        text-align: right;\n",
              "    }\n",
              "</style>\n",
              "<table border=\"1\" class=\"dataframe\">\n",
              "  <thead>\n",
              "    <tr style=\"text-align: right;\">\n",
              "      <th></th>\n",
              "      <th>clientid</th>\n",
              "      <th>income</th>\n",
              "      <th>loan</th>\n",
              "      <th>default</th>\n",
              "    </tr>\n",
              "  </thead>\n",
              "  <tbody>\n",
              "    <tr>\n",
              "      <th>0</th>\n",
              "      <td>1</td>\n",
              "      <td>66155.925095</td>\n",
              "      <td>8106.532131</td>\n",
              "      <td>0</td>\n",
              "    </tr>\n",
              "    <tr>\n",
              "      <th>1</th>\n",
              "      <td>2</td>\n",
              "      <td>34415.153966</td>\n",
              "      <td>6564.745018</td>\n",
              "      <td>0</td>\n",
              "    </tr>\n",
              "    <tr>\n",
              "      <th>2</th>\n",
              "      <td>3</td>\n",
              "      <td>57317.170063</td>\n",
              "      <td>8020.953296</td>\n",
              "      <td>0</td>\n",
              "    </tr>\n",
              "    <tr>\n",
              "      <th>3</th>\n",
              "      <td>4</td>\n",
              "      <td>42709.534201</td>\n",
              "      <td>6103.642260</td>\n",
              "      <td>0</td>\n",
              "    </tr>\n",
              "    <tr>\n",
              "      <th>4</th>\n",
              "      <td>5</td>\n",
              "      <td>66952.688845</td>\n",
              "      <td>8770.099235</td>\n",
              "      <td>1</td>\n",
              "    </tr>\n",
              "    <tr>\n",
              "      <th>...</th>\n",
              "      <td>...</td>\n",
              "      <td>...</td>\n",
              "      <td>...</td>\n",
              "      <td>...</td>\n",
              "    </tr>\n",
              "    <tr>\n",
              "      <th>1995</th>\n",
              "      <td>1996</td>\n",
              "      <td>59221.044874</td>\n",
              "      <td>1926.729397</td>\n",
              "      <td>0</td>\n",
              "    </tr>\n",
              "    <tr>\n",
              "      <th>1996</th>\n",
              "      <td>1997</td>\n",
              "      <td>69516.127573</td>\n",
              "      <td>3503.176156</td>\n",
              "      <td>0</td>\n",
              "    </tr>\n",
              "    <tr>\n",
              "      <th>1997</th>\n",
              "      <td>1998</td>\n",
              "      <td>44311.449262</td>\n",
              "      <td>5522.786693</td>\n",
              "      <td>1</td>\n",
              "    </tr>\n",
              "    <tr>\n",
              "      <th>1998</th>\n",
              "      <td>1999</td>\n",
              "      <td>43756.056605</td>\n",
              "      <td>1622.722598</td>\n",
              "      <td>0</td>\n",
              "    </tr>\n",
              "    <tr>\n",
              "      <th>1999</th>\n",
              "      <td>2000</td>\n",
              "      <td>69436.579552</td>\n",
              "      <td>7378.833599</td>\n",
              "      <td>0</td>\n",
              "    </tr>\n",
              "  </tbody>\n",
              "</table>\n",
              "<p>2000 rows × 4 columns</p>\n",
              "</div>\n",
              "      <button class=\"colab-df-convert\" onclick=\"convertToInteractive('df-f6553c3c-298c-4b3e-be3c-1ec2b31405b8')\"\n",
              "              title=\"Convert this dataframe to an interactive table.\"\n",
              "              style=\"display:none;\">\n",
              "        \n",
              "  <svg xmlns=\"http://www.w3.org/2000/svg\" height=\"24px\"viewBox=\"0 0 24 24\"\n",
              "       width=\"24px\">\n",
              "    <path d=\"M0 0h24v24H0V0z\" fill=\"none\"/>\n",
              "    <path d=\"M18.56 5.44l.94 2.06.94-2.06 2.06-.94-2.06-.94-.94-2.06-.94 2.06-2.06.94zm-11 1L8.5 8.5l.94-2.06 2.06-.94-2.06-.94L8.5 2.5l-.94 2.06-2.06.94zm10 10l.94 2.06.94-2.06 2.06-.94-2.06-.94-.94-2.06-.94 2.06-2.06.94z\"/><path d=\"M17.41 7.96l-1.37-1.37c-.4-.4-.92-.59-1.43-.59-.52 0-1.04.2-1.43.59L10.3 9.45l-7.72 7.72c-.78.78-.78 2.05 0 2.83L4 21.41c.39.39.9.59 1.41.59.51 0 1.02-.2 1.41-.59l7.78-7.78 2.81-2.81c.8-.78.8-2.07 0-2.86zM5.41 20L4 18.59l7.72-7.72 1.47 1.35L5.41 20z\"/>\n",
              "  </svg>\n",
              "      </button>\n",
              "      \n",
              "  <style>\n",
              "    .colab-df-container {\n",
              "      display:flex;\n",
              "      flex-wrap:wrap;\n",
              "      gap: 12px;\n",
              "    }\n",
              "\n",
              "    .colab-df-convert {\n",
              "      background-color: #E8F0FE;\n",
              "      border: none;\n",
              "      border-radius: 50%;\n",
              "      cursor: pointer;\n",
              "      display: none;\n",
              "      fill: #1967D2;\n",
              "      height: 32px;\n",
              "      padding: 0 0 0 0;\n",
              "      width: 32px;\n",
              "    }\n",
              "\n",
              "    .colab-df-convert:hover {\n",
              "      background-color: #E2EBFA;\n",
              "      box-shadow: 0px 1px 2px rgba(60, 64, 67, 0.3), 0px 1px 3px 1px rgba(60, 64, 67, 0.15);\n",
              "      fill: #174EA6;\n",
              "    }\n",
              "\n",
              "    [theme=dark] .colab-df-convert {\n",
              "      background-color: #3B4455;\n",
              "      fill: #D2E3FC;\n",
              "    }\n",
              "\n",
              "    [theme=dark] .colab-df-convert:hover {\n",
              "      background-color: #434B5C;\n",
              "      box-shadow: 0px 1px 3px 1px rgba(0, 0, 0, 0.15);\n",
              "      filter: drop-shadow(0px 1px 2px rgba(0, 0, 0, 0.3));\n",
              "      fill: #FFFFFF;\n",
              "    }\n",
              "  </style>\n",
              "\n",
              "      <script>\n",
              "        const buttonEl =\n",
              "          document.querySelector('#df-f6553c3c-298c-4b3e-be3c-1ec2b31405b8 button.colab-df-convert');\n",
              "        buttonEl.style.display =\n",
              "          google.colab.kernel.accessAllowed ? 'block' : 'none';\n",
              "\n",
              "        async function convertToInteractive(key) {\n",
              "          const element = document.querySelector('#df-f6553c3c-298c-4b3e-be3c-1ec2b31405b8');\n",
              "          const dataTable =\n",
              "            await google.colab.kernel.invokeFunction('convertToInteractive',\n",
              "                                                     [key], {});\n",
              "          if (!dataTable) return;\n",
              "\n",
              "          const docLinkHtml = 'Like what you see? Visit the ' +\n",
              "            '<a target=\"_blank\" href=https://colab.research.google.com/notebooks/data_table.ipynb>data table notebook</a>'\n",
              "            + ' to learn more about interactive tables.';\n",
              "          element.innerHTML = '';\n",
              "          dataTable['output_type'] = 'display_data';\n",
              "          await google.colab.output.renderOutput(dataTable, element);\n",
              "          const docLink = document.createElement('div');\n",
              "          docLink.innerHTML = docLinkHtml;\n",
              "          element.appendChild(docLink);\n",
              "        }\n",
              "      </script>\n",
              "    </div>\n",
              "  </div>\n",
              "  "
            ],
            "text/plain": [
              "      clientid        income         loan  default\n",
              "0            1  66155.925095  8106.532131        0\n",
              "1            2  34415.153966  6564.745018        0\n",
              "2            3  57317.170063  8020.953296        0\n",
              "3            4  42709.534201  6103.642260        0\n",
              "4            5  66952.688845  8770.099235        1\n",
              "...        ...           ...          ...      ...\n",
              "1995      1996  59221.044874  1926.729397        0\n",
              "1996      1997  69516.127573  3503.176156        0\n",
              "1997      1998  44311.449262  5522.786693        1\n",
              "1998      1999  43756.056605  1622.722598        0\n",
              "1999      2000  69436.579552  7378.833599        0\n",
              "\n",
              "[2000 rows x 4 columns]"
            ]
          },
          "metadata": {},
          "execution_count": 20
        }
      ]
    },
    {
      "cell_type": "code",
      "metadata": {
        "colab": {
          "base_uri": "https://localhost:8080/",
          "height": 0
        },
        "id": "TBt-XpzgRrJj",
        "outputId": "a0355126-4bd4-44d8-813e-cc64f8e4e4ba"
      },
      "source": [
        "# Apagar somente os registros com valores inconsistentes\n",
        "base_credit3 = base_credit.drop(base_credit[base_credit['age'] < 0].index)\n",
        "base_credit3"
      ],
      "execution_count": 21,
      "outputs": [
        {
          "output_type": "execute_result",
          "data": {
            "text/html": [
              "\n",
              "  <div id=\"df-807958df-c71c-4c5f-b466-d5bbb7ed05f5\">\n",
              "    <div class=\"colab-df-container\">\n",
              "      <div>\n",
              "<style scoped>\n",
              "    .dataframe tbody tr th:only-of-type {\n",
              "        vertical-align: middle;\n",
              "    }\n",
              "\n",
              "    .dataframe tbody tr th {\n",
              "        vertical-align: top;\n",
              "    }\n",
              "\n",
              "    .dataframe thead th {\n",
              "        text-align: right;\n",
              "    }\n",
              "</style>\n",
              "<table border=\"1\" class=\"dataframe\">\n",
              "  <thead>\n",
              "    <tr style=\"text-align: right;\">\n",
              "      <th></th>\n",
              "      <th>clientid</th>\n",
              "      <th>income</th>\n",
              "      <th>age</th>\n",
              "      <th>loan</th>\n",
              "      <th>default</th>\n",
              "    </tr>\n",
              "  </thead>\n",
              "  <tbody>\n",
              "    <tr>\n",
              "      <th>0</th>\n",
              "      <td>1</td>\n",
              "      <td>66155.925095</td>\n",
              "      <td>59.017015</td>\n",
              "      <td>8106.532131</td>\n",
              "      <td>0</td>\n",
              "    </tr>\n",
              "    <tr>\n",
              "      <th>1</th>\n",
              "      <td>2</td>\n",
              "      <td>34415.153966</td>\n",
              "      <td>48.117153</td>\n",
              "      <td>6564.745018</td>\n",
              "      <td>0</td>\n",
              "    </tr>\n",
              "    <tr>\n",
              "      <th>2</th>\n",
              "      <td>3</td>\n",
              "      <td>57317.170063</td>\n",
              "      <td>63.108049</td>\n",
              "      <td>8020.953296</td>\n",
              "      <td>0</td>\n",
              "    </tr>\n",
              "    <tr>\n",
              "      <th>3</th>\n",
              "      <td>4</td>\n",
              "      <td>42709.534201</td>\n",
              "      <td>45.751972</td>\n",
              "      <td>6103.642260</td>\n",
              "      <td>0</td>\n",
              "    </tr>\n",
              "    <tr>\n",
              "      <th>4</th>\n",
              "      <td>5</td>\n",
              "      <td>66952.688845</td>\n",
              "      <td>18.584336</td>\n",
              "      <td>8770.099235</td>\n",
              "      <td>1</td>\n",
              "    </tr>\n",
              "    <tr>\n",
              "      <th>...</th>\n",
              "      <td>...</td>\n",
              "      <td>...</td>\n",
              "      <td>...</td>\n",
              "      <td>...</td>\n",
              "      <td>...</td>\n",
              "    </tr>\n",
              "    <tr>\n",
              "      <th>1995</th>\n",
              "      <td>1996</td>\n",
              "      <td>59221.044874</td>\n",
              "      <td>48.518179</td>\n",
              "      <td>1926.729397</td>\n",
              "      <td>0</td>\n",
              "    </tr>\n",
              "    <tr>\n",
              "      <th>1996</th>\n",
              "      <td>1997</td>\n",
              "      <td>69516.127573</td>\n",
              "      <td>23.162104</td>\n",
              "      <td>3503.176156</td>\n",
              "      <td>0</td>\n",
              "    </tr>\n",
              "    <tr>\n",
              "      <th>1997</th>\n",
              "      <td>1998</td>\n",
              "      <td>44311.449262</td>\n",
              "      <td>28.017167</td>\n",
              "      <td>5522.786693</td>\n",
              "      <td>1</td>\n",
              "    </tr>\n",
              "    <tr>\n",
              "      <th>1998</th>\n",
              "      <td>1999</td>\n",
              "      <td>43756.056605</td>\n",
              "      <td>63.971796</td>\n",
              "      <td>1622.722598</td>\n",
              "      <td>0</td>\n",
              "    </tr>\n",
              "    <tr>\n",
              "      <th>1999</th>\n",
              "      <td>2000</td>\n",
              "      <td>69436.579552</td>\n",
              "      <td>56.152617</td>\n",
              "      <td>7378.833599</td>\n",
              "      <td>0</td>\n",
              "    </tr>\n",
              "  </tbody>\n",
              "</table>\n",
              "<p>1997 rows × 5 columns</p>\n",
              "</div>\n",
              "      <button class=\"colab-df-convert\" onclick=\"convertToInteractive('df-807958df-c71c-4c5f-b466-d5bbb7ed05f5')\"\n",
              "              title=\"Convert this dataframe to an interactive table.\"\n",
              "              style=\"display:none;\">\n",
              "        \n",
              "  <svg xmlns=\"http://www.w3.org/2000/svg\" height=\"24px\"viewBox=\"0 0 24 24\"\n",
              "       width=\"24px\">\n",
              "    <path d=\"M0 0h24v24H0V0z\" fill=\"none\"/>\n",
              "    <path d=\"M18.56 5.44l.94 2.06.94-2.06 2.06-.94-2.06-.94-.94-2.06-.94 2.06-2.06.94zm-11 1L8.5 8.5l.94-2.06 2.06-.94-2.06-.94L8.5 2.5l-.94 2.06-2.06.94zm10 10l.94 2.06.94-2.06 2.06-.94-2.06-.94-.94-2.06-.94 2.06-2.06.94z\"/><path d=\"M17.41 7.96l-1.37-1.37c-.4-.4-.92-.59-1.43-.59-.52 0-1.04.2-1.43.59L10.3 9.45l-7.72 7.72c-.78.78-.78 2.05 0 2.83L4 21.41c.39.39.9.59 1.41.59.51 0 1.02-.2 1.41-.59l7.78-7.78 2.81-2.81c.8-.78.8-2.07 0-2.86zM5.41 20L4 18.59l7.72-7.72 1.47 1.35L5.41 20z\"/>\n",
              "  </svg>\n",
              "      </button>\n",
              "      \n",
              "  <style>\n",
              "    .colab-df-container {\n",
              "      display:flex;\n",
              "      flex-wrap:wrap;\n",
              "      gap: 12px;\n",
              "    }\n",
              "\n",
              "    .colab-df-convert {\n",
              "      background-color: #E8F0FE;\n",
              "      border: none;\n",
              "      border-radius: 50%;\n",
              "      cursor: pointer;\n",
              "      display: none;\n",
              "      fill: #1967D2;\n",
              "      height: 32px;\n",
              "      padding: 0 0 0 0;\n",
              "      width: 32px;\n",
              "    }\n",
              "\n",
              "    .colab-df-convert:hover {\n",
              "      background-color: #E2EBFA;\n",
              "      box-shadow: 0px 1px 2px rgba(60, 64, 67, 0.3), 0px 1px 3px 1px rgba(60, 64, 67, 0.15);\n",
              "      fill: #174EA6;\n",
              "    }\n",
              "\n",
              "    [theme=dark] .colab-df-convert {\n",
              "      background-color: #3B4455;\n",
              "      fill: #D2E3FC;\n",
              "    }\n",
              "\n",
              "    [theme=dark] .colab-df-convert:hover {\n",
              "      background-color: #434B5C;\n",
              "      box-shadow: 0px 1px 3px 1px rgba(0, 0, 0, 0.15);\n",
              "      filter: drop-shadow(0px 1px 2px rgba(0, 0, 0, 0.3));\n",
              "      fill: #FFFFFF;\n",
              "    }\n",
              "  </style>\n",
              "\n",
              "      <script>\n",
              "        const buttonEl =\n",
              "          document.querySelector('#df-807958df-c71c-4c5f-b466-d5bbb7ed05f5 button.colab-df-convert');\n",
              "        buttonEl.style.display =\n",
              "          google.colab.kernel.accessAllowed ? 'block' : 'none';\n",
              "\n",
              "        async function convertToInteractive(key) {\n",
              "          const element = document.querySelector('#df-807958df-c71c-4c5f-b466-d5bbb7ed05f5');\n",
              "          const dataTable =\n",
              "            await google.colab.kernel.invokeFunction('convertToInteractive',\n",
              "                                                     [key], {});\n",
              "          if (!dataTable) return;\n",
              "\n",
              "          const docLinkHtml = 'Like what you see? Visit the ' +\n",
              "            '<a target=\"_blank\" href=https://colab.research.google.com/notebooks/data_table.ipynb>data table notebook</a>'\n",
              "            + ' to learn more about interactive tables.';\n",
              "          element.innerHTML = '';\n",
              "          dataTable['output_type'] = 'display_data';\n",
              "          await google.colab.output.renderOutput(dataTable, element);\n",
              "          const docLink = document.createElement('div');\n",
              "          docLink.innerHTML = docLinkHtml;\n",
              "          element.appendChild(docLink);\n",
              "        }\n",
              "      </script>\n",
              "    </div>\n",
              "  </div>\n",
              "  "
            ],
            "text/plain": [
              "      clientid        income        age         loan  default\n",
              "0            1  66155.925095  59.017015  8106.532131        0\n",
              "1            2  34415.153966  48.117153  6564.745018        0\n",
              "2            3  57317.170063  63.108049  8020.953296        0\n",
              "3            4  42709.534201  45.751972  6103.642260        0\n",
              "4            5  66952.688845  18.584336  8770.099235        1\n",
              "...        ...           ...        ...          ...      ...\n",
              "1995      1996  59221.044874  48.518179  1926.729397        0\n",
              "1996      1997  69516.127573  23.162104  3503.176156        0\n",
              "1997      1998  44311.449262  28.017167  5522.786693        1\n",
              "1998      1999  43756.056605  63.971796  1622.722598        0\n",
              "1999      2000  69436.579552  56.152617  7378.833599        0\n",
              "\n",
              "[1997 rows x 5 columns]"
            ]
          },
          "metadata": {},
          "execution_count": 21
        }
      ]
    },
    {
      "cell_type": "code",
      "metadata": {
        "id": "o10wi7-fVG98"
      },
      "source": [
        "# Preencher os valores inconsistentes manualmente"
      ],
      "execution_count": 22,
      "outputs": []
    },
    {
      "cell_type": "code",
      "metadata": {
        "colab": {
          "base_uri": "https://localhost:8080/"
        },
        "id": "qfLP8ITbVkFs",
        "outputId": "53f0b77a-3445-45f9-cea6-40cd72e45b52"
      },
      "source": [
        "# Preencher os valores inconsistentes com a média\n",
        "base_credit.mean()"
      ],
      "execution_count": 23,
      "outputs": [
        {
          "output_type": "execute_result",
          "data": {
            "text/plain": [
              "clientid     1000.500000\n",
              "income      45331.600018\n",
              "age            40.807559\n",
              "loan         4444.369695\n",
              "default         0.141500\n",
              "dtype: float64"
            ]
          },
          "metadata": {},
          "execution_count": 23
        }
      ]
    },
    {
      "cell_type": "code",
      "metadata": {
        "colab": {
          "base_uri": "https://localhost:8080/"
        },
        "id": "eTuNLvksV3gF",
        "outputId": "ac20eed5-dd87-4292-8c70-2de8aff27131"
      },
      "source": [
        "base_credit['age'].mean()"
      ],
      "execution_count": 24,
      "outputs": [
        {
          "output_type": "execute_result",
          "data": {
            "text/plain": [
              "40.80755937840458"
            ]
          },
          "metadata": {},
          "execution_count": 24
        }
      ]
    },
    {
      "cell_type": "code",
      "metadata": {
        "colab": {
          "base_uri": "https://localhost:8080/"
        },
        "id": "GRG03wsjV60z",
        "outputId": "8cecc73c-0248-49b4-f098-affb208a8b07"
      },
      "source": [
        "base_credit['age'][base_credit['age'] > 0].mean()"
      ],
      "execution_count": 25,
      "outputs": [
        {
          "output_type": "execute_result",
          "data": {
            "text/plain": [
              "40.92770044906149"
            ]
          },
          "metadata": {},
          "execution_count": 25
        }
      ]
    },
    {
      "cell_type": "code",
      "metadata": {
        "colab": {
          "base_uri": "https://localhost:8080/",
          "height": 0
        },
        "id": "pxEzL8XeWN88",
        "outputId": "7f49c5e1-61da-4166-f5a9-68c9c7e16232"
      },
      "source": [
        "base_credit.loc[base_credit['age']<0 , 'age'] = 40.92\n",
        "base_credit.loc[base_credit['age']<0]"
      ],
      "execution_count": 26,
      "outputs": [
        {
          "output_type": "execute_result",
          "data": {
            "text/html": [
              "\n",
              "  <div id=\"df-8bac98f7-6d81-4929-9742-680d0afb927c\">\n",
              "    <div class=\"colab-df-container\">\n",
              "      <div>\n",
              "<style scoped>\n",
              "    .dataframe tbody tr th:only-of-type {\n",
              "        vertical-align: middle;\n",
              "    }\n",
              "\n",
              "    .dataframe tbody tr th {\n",
              "        vertical-align: top;\n",
              "    }\n",
              "\n",
              "    .dataframe thead th {\n",
              "        text-align: right;\n",
              "    }\n",
              "</style>\n",
              "<table border=\"1\" class=\"dataframe\">\n",
              "  <thead>\n",
              "    <tr style=\"text-align: right;\">\n",
              "      <th></th>\n",
              "      <th>clientid</th>\n",
              "      <th>income</th>\n",
              "      <th>age</th>\n",
              "      <th>loan</th>\n",
              "      <th>default</th>\n",
              "    </tr>\n",
              "  </thead>\n",
              "  <tbody>\n",
              "  </tbody>\n",
              "</table>\n",
              "</div>\n",
              "      <button class=\"colab-df-convert\" onclick=\"convertToInteractive('df-8bac98f7-6d81-4929-9742-680d0afb927c')\"\n",
              "              title=\"Convert this dataframe to an interactive table.\"\n",
              "              style=\"display:none;\">\n",
              "        \n",
              "  <svg xmlns=\"http://www.w3.org/2000/svg\" height=\"24px\"viewBox=\"0 0 24 24\"\n",
              "       width=\"24px\">\n",
              "    <path d=\"M0 0h24v24H0V0z\" fill=\"none\"/>\n",
              "    <path d=\"M18.56 5.44l.94 2.06.94-2.06 2.06-.94-2.06-.94-.94-2.06-.94 2.06-2.06.94zm-11 1L8.5 8.5l.94-2.06 2.06-.94-2.06-.94L8.5 2.5l-.94 2.06-2.06.94zm10 10l.94 2.06.94-2.06 2.06-.94-2.06-.94-.94-2.06-.94 2.06-2.06.94z\"/><path d=\"M17.41 7.96l-1.37-1.37c-.4-.4-.92-.59-1.43-.59-.52 0-1.04.2-1.43.59L10.3 9.45l-7.72 7.72c-.78.78-.78 2.05 0 2.83L4 21.41c.39.39.9.59 1.41.59.51 0 1.02-.2 1.41-.59l7.78-7.78 2.81-2.81c.8-.78.8-2.07 0-2.86zM5.41 20L4 18.59l7.72-7.72 1.47 1.35L5.41 20z\"/>\n",
              "  </svg>\n",
              "      </button>\n",
              "      \n",
              "  <style>\n",
              "    .colab-df-container {\n",
              "      display:flex;\n",
              "      flex-wrap:wrap;\n",
              "      gap: 12px;\n",
              "    }\n",
              "\n",
              "    .colab-df-convert {\n",
              "      background-color: #E8F0FE;\n",
              "      border: none;\n",
              "      border-radius: 50%;\n",
              "      cursor: pointer;\n",
              "      display: none;\n",
              "      fill: #1967D2;\n",
              "      height: 32px;\n",
              "      padding: 0 0 0 0;\n",
              "      width: 32px;\n",
              "    }\n",
              "\n",
              "    .colab-df-convert:hover {\n",
              "      background-color: #E2EBFA;\n",
              "      box-shadow: 0px 1px 2px rgba(60, 64, 67, 0.3), 0px 1px 3px 1px rgba(60, 64, 67, 0.15);\n",
              "      fill: #174EA6;\n",
              "    }\n",
              "\n",
              "    [theme=dark] .colab-df-convert {\n",
              "      background-color: #3B4455;\n",
              "      fill: #D2E3FC;\n",
              "    }\n",
              "\n",
              "    [theme=dark] .colab-df-convert:hover {\n",
              "      background-color: #434B5C;\n",
              "      box-shadow: 0px 1px 3px 1px rgba(0, 0, 0, 0.15);\n",
              "      filter: drop-shadow(0px 1px 2px rgba(0, 0, 0, 0.3));\n",
              "      fill: #FFFFFF;\n",
              "    }\n",
              "  </style>\n",
              "\n",
              "      <script>\n",
              "        const buttonEl =\n",
              "          document.querySelector('#df-8bac98f7-6d81-4929-9742-680d0afb927c button.colab-df-convert');\n",
              "        buttonEl.style.display =\n",
              "          google.colab.kernel.accessAllowed ? 'block' : 'none';\n",
              "\n",
              "        async function convertToInteractive(key) {\n",
              "          const element = document.querySelector('#df-8bac98f7-6d81-4929-9742-680d0afb927c');\n",
              "          const dataTable =\n",
              "            await google.colab.kernel.invokeFunction('convertToInteractive',\n",
              "                                                     [key], {});\n",
              "          if (!dataTable) return;\n",
              "\n",
              "          const docLinkHtml = 'Like what you see? Visit the ' +\n",
              "            '<a target=\"_blank\" href=https://colab.research.google.com/notebooks/data_table.ipynb>data table notebook</a>'\n",
              "            + ' to learn more about interactive tables.';\n",
              "          element.innerHTML = '';\n",
              "          dataTable['output_type'] = 'display_data';\n",
              "          await google.colab.output.renderOutput(dataTable, element);\n",
              "          const docLink = document.createElement('div');\n",
              "          docLink.innerHTML = docLinkHtml;\n",
              "          element.appendChild(docLink);\n",
              "        }\n",
              "      </script>\n",
              "    </div>\n",
              "  </div>\n",
              "  "
            ],
            "text/plain": [
              "Empty DataFrame\n",
              "Columns: [clientid, income, age, loan, default]\n",
              "Index: []"
            ]
          },
          "metadata": {},
          "execution_count": 26
        }
      ]
    },
    {
      "cell_type": "code",
      "metadata": {
        "colab": {
          "base_uri": "https://localhost:8080/",
          "height": 0
        },
        "id": "3QU_kiMtWUck",
        "outputId": "3927f703-3b4e-4556-97ae-0b0c8c7a0109"
      },
      "source": [
        "base_credit.head(20)"
      ],
      "execution_count": 27,
      "outputs": [
        {
          "output_type": "execute_result",
          "data": {
            "text/html": [
              "\n",
              "  <div id=\"df-f0214769-bb54-4d2e-8449-c5002221fe91\">\n",
              "    <div class=\"colab-df-container\">\n",
              "      <div>\n",
              "<style scoped>\n",
              "    .dataframe tbody tr th:only-of-type {\n",
              "        vertical-align: middle;\n",
              "    }\n",
              "\n",
              "    .dataframe tbody tr th {\n",
              "        vertical-align: top;\n",
              "    }\n",
              "\n",
              "    .dataframe thead th {\n",
              "        text-align: right;\n",
              "    }\n",
              "</style>\n",
              "<table border=\"1\" class=\"dataframe\">\n",
              "  <thead>\n",
              "    <tr style=\"text-align: right;\">\n",
              "      <th></th>\n",
              "      <th>clientid</th>\n",
              "      <th>income</th>\n",
              "      <th>age</th>\n",
              "      <th>loan</th>\n",
              "      <th>default</th>\n",
              "    </tr>\n",
              "  </thead>\n",
              "  <tbody>\n",
              "    <tr>\n",
              "      <th>0</th>\n",
              "      <td>1</td>\n",
              "      <td>66155.925095</td>\n",
              "      <td>59.017015</td>\n",
              "      <td>8106.532131</td>\n",
              "      <td>0</td>\n",
              "    </tr>\n",
              "    <tr>\n",
              "      <th>1</th>\n",
              "      <td>2</td>\n",
              "      <td>34415.153966</td>\n",
              "      <td>48.117153</td>\n",
              "      <td>6564.745018</td>\n",
              "      <td>0</td>\n",
              "    </tr>\n",
              "    <tr>\n",
              "      <th>2</th>\n",
              "      <td>3</td>\n",
              "      <td>57317.170063</td>\n",
              "      <td>63.108049</td>\n",
              "      <td>8020.953296</td>\n",
              "      <td>0</td>\n",
              "    </tr>\n",
              "    <tr>\n",
              "      <th>3</th>\n",
              "      <td>4</td>\n",
              "      <td>42709.534201</td>\n",
              "      <td>45.751972</td>\n",
              "      <td>6103.642260</td>\n",
              "      <td>0</td>\n",
              "    </tr>\n",
              "    <tr>\n",
              "      <th>4</th>\n",
              "      <td>5</td>\n",
              "      <td>66952.688845</td>\n",
              "      <td>18.584336</td>\n",
              "      <td>8770.099235</td>\n",
              "      <td>1</td>\n",
              "    </tr>\n",
              "    <tr>\n",
              "      <th>5</th>\n",
              "      <td>6</td>\n",
              "      <td>24904.064140</td>\n",
              "      <td>57.471607</td>\n",
              "      <td>15.498598</td>\n",
              "      <td>0</td>\n",
              "    </tr>\n",
              "    <tr>\n",
              "      <th>6</th>\n",
              "      <td>7</td>\n",
              "      <td>48430.359613</td>\n",
              "      <td>26.809132</td>\n",
              "      <td>5722.581981</td>\n",
              "      <td>0</td>\n",
              "    </tr>\n",
              "    <tr>\n",
              "      <th>7</th>\n",
              "      <td>8</td>\n",
              "      <td>24500.141984</td>\n",
              "      <td>32.897548</td>\n",
              "      <td>2971.003310</td>\n",
              "      <td>1</td>\n",
              "    </tr>\n",
              "    <tr>\n",
              "      <th>8</th>\n",
              "      <td>9</td>\n",
              "      <td>40654.892537</td>\n",
              "      <td>55.496853</td>\n",
              "      <td>4755.825280</td>\n",
              "      <td>0</td>\n",
              "    </tr>\n",
              "    <tr>\n",
              "      <th>9</th>\n",
              "      <td>10</td>\n",
              "      <td>25075.872771</td>\n",
              "      <td>39.776378</td>\n",
              "      <td>1409.230371</td>\n",
              "      <td>0</td>\n",
              "    </tr>\n",
              "    <tr>\n",
              "      <th>10</th>\n",
              "      <td>11</td>\n",
              "      <td>64131.415372</td>\n",
              "      <td>25.679575</td>\n",
              "      <td>4351.028971</td>\n",
              "      <td>0</td>\n",
              "    </tr>\n",
              "    <tr>\n",
              "      <th>11</th>\n",
              "      <td>12</td>\n",
              "      <td>59436.847123</td>\n",
              "      <td>60.471936</td>\n",
              "      <td>9254.244538</td>\n",
              "      <td>0</td>\n",
              "    </tr>\n",
              "    <tr>\n",
              "      <th>12</th>\n",
              "      <td>13</td>\n",
              "      <td>61050.346079</td>\n",
              "      <td>26.355044</td>\n",
              "      <td>5893.264659</td>\n",
              "      <td>0</td>\n",
              "    </tr>\n",
              "    <tr>\n",
              "      <th>13</th>\n",
              "      <td>14</td>\n",
              "      <td>27267.995458</td>\n",
              "      <td>61.576776</td>\n",
              "      <td>4759.787581</td>\n",
              "      <td>0</td>\n",
              "    </tr>\n",
              "    <tr>\n",
              "      <th>14</th>\n",
              "      <td>15</td>\n",
              "      <td>63061.960174</td>\n",
              "      <td>39.201553</td>\n",
              "      <td>1850.369377</td>\n",
              "      <td>0</td>\n",
              "    </tr>\n",
              "    <tr>\n",
              "      <th>15</th>\n",
              "      <td>16</td>\n",
              "      <td>50501.726689</td>\n",
              "      <td>40.920000</td>\n",
              "      <td>3977.287432</td>\n",
              "      <td>0</td>\n",
              "    </tr>\n",
              "    <tr>\n",
              "      <th>16</th>\n",
              "      <td>17</td>\n",
              "      <td>43548.654711</td>\n",
              "      <td>39.574530</td>\n",
              "      <td>3935.544453</td>\n",
              "      <td>0</td>\n",
              "    </tr>\n",
              "    <tr>\n",
              "      <th>17</th>\n",
              "      <td>18</td>\n",
              "      <td>43378.175194</td>\n",
              "      <td>60.848318</td>\n",
              "      <td>3277.737553</td>\n",
              "      <td>0</td>\n",
              "    </tr>\n",
              "    <tr>\n",
              "      <th>18</th>\n",
              "      <td>19</td>\n",
              "      <td>20542.365073</td>\n",
              "      <td>61.690571</td>\n",
              "      <td>3157.442290</td>\n",
              "      <td>0</td>\n",
              "    </tr>\n",
              "    <tr>\n",
              "      <th>19</th>\n",
              "      <td>20</td>\n",
              "      <td>58887.357549</td>\n",
              "      <td>26.076093</td>\n",
              "      <td>4965.516066</td>\n",
              "      <td>0</td>\n",
              "    </tr>\n",
              "  </tbody>\n",
              "</table>\n",
              "</div>\n",
              "      <button class=\"colab-df-convert\" onclick=\"convertToInteractive('df-f0214769-bb54-4d2e-8449-c5002221fe91')\"\n",
              "              title=\"Convert this dataframe to an interactive table.\"\n",
              "              style=\"display:none;\">\n",
              "        \n",
              "  <svg xmlns=\"http://www.w3.org/2000/svg\" height=\"24px\"viewBox=\"0 0 24 24\"\n",
              "       width=\"24px\">\n",
              "    <path d=\"M0 0h24v24H0V0z\" fill=\"none\"/>\n",
              "    <path d=\"M18.56 5.44l.94 2.06.94-2.06 2.06-.94-2.06-.94-.94-2.06-.94 2.06-2.06.94zm-11 1L8.5 8.5l.94-2.06 2.06-.94-2.06-.94L8.5 2.5l-.94 2.06-2.06.94zm10 10l.94 2.06.94-2.06 2.06-.94-2.06-.94-.94-2.06-.94 2.06-2.06.94z\"/><path d=\"M17.41 7.96l-1.37-1.37c-.4-.4-.92-.59-1.43-.59-.52 0-1.04.2-1.43.59L10.3 9.45l-7.72 7.72c-.78.78-.78 2.05 0 2.83L4 21.41c.39.39.9.59 1.41.59.51 0 1.02-.2 1.41-.59l7.78-7.78 2.81-2.81c.8-.78.8-2.07 0-2.86zM5.41 20L4 18.59l7.72-7.72 1.47 1.35L5.41 20z\"/>\n",
              "  </svg>\n",
              "      </button>\n",
              "      \n",
              "  <style>\n",
              "    .colab-df-container {\n",
              "      display:flex;\n",
              "      flex-wrap:wrap;\n",
              "      gap: 12px;\n",
              "    }\n",
              "\n",
              "    .colab-df-convert {\n",
              "      background-color: #E8F0FE;\n",
              "      border: none;\n",
              "      border-radius: 50%;\n",
              "      cursor: pointer;\n",
              "      display: none;\n",
              "      fill: #1967D2;\n",
              "      height: 32px;\n",
              "      padding: 0 0 0 0;\n",
              "      width: 32px;\n",
              "    }\n",
              "\n",
              "    .colab-df-convert:hover {\n",
              "      background-color: #E2EBFA;\n",
              "      box-shadow: 0px 1px 2px rgba(60, 64, 67, 0.3), 0px 1px 3px 1px rgba(60, 64, 67, 0.15);\n",
              "      fill: #174EA6;\n",
              "    }\n",
              "\n",
              "    [theme=dark] .colab-df-convert {\n",
              "      background-color: #3B4455;\n",
              "      fill: #D2E3FC;\n",
              "    }\n",
              "\n",
              "    [theme=dark] .colab-df-convert:hover {\n",
              "      background-color: #434B5C;\n",
              "      box-shadow: 0px 1px 3px 1px rgba(0, 0, 0, 0.15);\n",
              "      filter: drop-shadow(0px 1px 2px rgba(0, 0, 0, 0.3));\n",
              "      fill: #FFFFFF;\n",
              "    }\n",
              "  </style>\n",
              "\n",
              "      <script>\n",
              "        const buttonEl =\n",
              "          document.querySelector('#df-f0214769-bb54-4d2e-8449-c5002221fe91 button.colab-df-convert');\n",
              "        buttonEl.style.display =\n",
              "          google.colab.kernel.accessAllowed ? 'block' : 'none';\n",
              "\n",
              "        async function convertToInteractive(key) {\n",
              "          const element = document.querySelector('#df-f0214769-bb54-4d2e-8449-c5002221fe91');\n",
              "          const dataTable =\n",
              "            await google.colab.kernel.invokeFunction('convertToInteractive',\n",
              "                                                     [key], {});\n",
              "          if (!dataTable) return;\n",
              "\n",
              "          const docLinkHtml = 'Like what you see? Visit the ' +\n",
              "            '<a target=\"_blank\" href=https://colab.research.google.com/notebooks/data_table.ipynb>data table notebook</a>'\n",
              "            + ' to learn more about interactive tables.';\n",
              "          element.innerHTML = '';\n",
              "          dataTable['output_type'] = 'display_data';\n",
              "          await google.colab.output.renderOutput(dataTable, element);\n",
              "          const docLink = document.createElement('div');\n",
              "          docLink.innerHTML = docLinkHtml;\n",
              "          element.appendChild(docLink);\n",
              "        }\n",
              "      </script>\n",
              "    </div>\n",
              "  </div>\n",
              "  "
            ],
            "text/plain": [
              "    clientid        income        age         loan  default\n",
              "0          1  66155.925095  59.017015  8106.532131        0\n",
              "1          2  34415.153966  48.117153  6564.745018        0\n",
              "2          3  57317.170063  63.108049  8020.953296        0\n",
              "3          4  42709.534201  45.751972  6103.642260        0\n",
              "4          5  66952.688845  18.584336  8770.099235        1\n",
              "5          6  24904.064140  57.471607    15.498598        0\n",
              "6          7  48430.359613  26.809132  5722.581981        0\n",
              "7          8  24500.141984  32.897548  2971.003310        1\n",
              "8          9  40654.892537  55.496853  4755.825280        0\n",
              "9         10  25075.872771  39.776378  1409.230371        0\n",
              "10        11  64131.415372  25.679575  4351.028971        0\n",
              "11        12  59436.847123  60.471936  9254.244538        0\n",
              "12        13  61050.346079  26.355044  5893.264659        0\n",
              "13        14  27267.995458  61.576776  4759.787581        0\n",
              "14        15  63061.960174  39.201553  1850.369377        0\n",
              "15        16  50501.726689  40.920000  3977.287432        0\n",
              "16        17  43548.654711  39.574530  3935.544453        0\n",
              "17        18  43378.175194  60.848318  3277.737553        0\n",
              "18        19  20542.365073  61.690571  3157.442290        0\n",
              "19        20  58887.357549  26.076093  4965.516066        0"
            ]
          },
          "metadata": {},
          "execution_count": 27
        }
      ]
    },
    {
      "cell_type": "markdown",
      "metadata": {
        "id": "tOQYnj67QO5O"
      },
      "source": [
        "### Tratamento de valores faltantes"
      ]
    },
    {
      "cell_type": "code",
      "metadata": {
        "colab": {
          "base_uri": "https://localhost:8080/",
          "height": 0
        },
        "id": "f5OnWFUxXI0c",
        "outputId": "23609751-0b21-4ffe-efae-4f1d1f3bfbec"
      },
      "source": [
        "base_credit.isnull()  #preenche com False valores preenchidos e True valores faltantes"
      ],
      "execution_count": 28,
      "outputs": [
        {
          "output_type": "execute_result",
          "data": {
            "text/html": [
              "\n",
              "  <div id=\"df-199b0ad6-6b81-4eed-8fd2-7a7ac39a2371\">\n",
              "    <div class=\"colab-df-container\">\n",
              "      <div>\n",
              "<style scoped>\n",
              "    .dataframe tbody tr th:only-of-type {\n",
              "        vertical-align: middle;\n",
              "    }\n",
              "\n",
              "    .dataframe tbody tr th {\n",
              "        vertical-align: top;\n",
              "    }\n",
              "\n",
              "    .dataframe thead th {\n",
              "        text-align: right;\n",
              "    }\n",
              "</style>\n",
              "<table border=\"1\" class=\"dataframe\">\n",
              "  <thead>\n",
              "    <tr style=\"text-align: right;\">\n",
              "      <th></th>\n",
              "      <th>clientid</th>\n",
              "      <th>income</th>\n",
              "      <th>age</th>\n",
              "      <th>loan</th>\n",
              "      <th>default</th>\n",
              "    </tr>\n",
              "  </thead>\n",
              "  <tbody>\n",
              "    <tr>\n",
              "      <th>0</th>\n",
              "      <td>False</td>\n",
              "      <td>False</td>\n",
              "      <td>False</td>\n",
              "      <td>False</td>\n",
              "      <td>False</td>\n",
              "    </tr>\n",
              "    <tr>\n",
              "      <th>1</th>\n",
              "      <td>False</td>\n",
              "      <td>False</td>\n",
              "      <td>False</td>\n",
              "      <td>False</td>\n",
              "      <td>False</td>\n",
              "    </tr>\n",
              "    <tr>\n",
              "      <th>2</th>\n",
              "      <td>False</td>\n",
              "      <td>False</td>\n",
              "      <td>False</td>\n",
              "      <td>False</td>\n",
              "      <td>False</td>\n",
              "    </tr>\n",
              "    <tr>\n",
              "      <th>3</th>\n",
              "      <td>False</td>\n",
              "      <td>False</td>\n",
              "      <td>False</td>\n",
              "      <td>False</td>\n",
              "      <td>False</td>\n",
              "    </tr>\n",
              "    <tr>\n",
              "      <th>4</th>\n",
              "      <td>False</td>\n",
              "      <td>False</td>\n",
              "      <td>False</td>\n",
              "      <td>False</td>\n",
              "      <td>False</td>\n",
              "    </tr>\n",
              "    <tr>\n",
              "      <th>...</th>\n",
              "      <td>...</td>\n",
              "      <td>...</td>\n",
              "      <td>...</td>\n",
              "      <td>...</td>\n",
              "      <td>...</td>\n",
              "    </tr>\n",
              "    <tr>\n",
              "      <th>1995</th>\n",
              "      <td>False</td>\n",
              "      <td>False</td>\n",
              "      <td>False</td>\n",
              "      <td>False</td>\n",
              "      <td>False</td>\n",
              "    </tr>\n",
              "    <tr>\n",
              "      <th>1996</th>\n",
              "      <td>False</td>\n",
              "      <td>False</td>\n",
              "      <td>False</td>\n",
              "      <td>False</td>\n",
              "      <td>False</td>\n",
              "    </tr>\n",
              "    <tr>\n",
              "      <th>1997</th>\n",
              "      <td>False</td>\n",
              "      <td>False</td>\n",
              "      <td>False</td>\n",
              "      <td>False</td>\n",
              "      <td>False</td>\n",
              "    </tr>\n",
              "    <tr>\n",
              "      <th>1998</th>\n",
              "      <td>False</td>\n",
              "      <td>False</td>\n",
              "      <td>False</td>\n",
              "      <td>False</td>\n",
              "      <td>False</td>\n",
              "    </tr>\n",
              "    <tr>\n",
              "      <th>1999</th>\n",
              "      <td>False</td>\n",
              "      <td>False</td>\n",
              "      <td>False</td>\n",
              "      <td>False</td>\n",
              "      <td>False</td>\n",
              "    </tr>\n",
              "  </tbody>\n",
              "</table>\n",
              "<p>2000 rows × 5 columns</p>\n",
              "</div>\n",
              "      <button class=\"colab-df-convert\" onclick=\"convertToInteractive('df-199b0ad6-6b81-4eed-8fd2-7a7ac39a2371')\"\n",
              "              title=\"Convert this dataframe to an interactive table.\"\n",
              "              style=\"display:none;\">\n",
              "        \n",
              "  <svg xmlns=\"http://www.w3.org/2000/svg\" height=\"24px\"viewBox=\"0 0 24 24\"\n",
              "       width=\"24px\">\n",
              "    <path d=\"M0 0h24v24H0V0z\" fill=\"none\"/>\n",
              "    <path d=\"M18.56 5.44l.94 2.06.94-2.06 2.06-.94-2.06-.94-.94-2.06-.94 2.06-2.06.94zm-11 1L8.5 8.5l.94-2.06 2.06-.94-2.06-.94L8.5 2.5l-.94 2.06-2.06.94zm10 10l.94 2.06.94-2.06 2.06-.94-2.06-.94-.94-2.06-.94 2.06-2.06.94z\"/><path d=\"M17.41 7.96l-1.37-1.37c-.4-.4-.92-.59-1.43-.59-.52 0-1.04.2-1.43.59L10.3 9.45l-7.72 7.72c-.78.78-.78 2.05 0 2.83L4 21.41c.39.39.9.59 1.41.59.51 0 1.02-.2 1.41-.59l7.78-7.78 2.81-2.81c.8-.78.8-2.07 0-2.86zM5.41 20L4 18.59l7.72-7.72 1.47 1.35L5.41 20z\"/>\n",
              "  </svg>\n",
              "      </button>\n",
              "      \n",
              "  <style>\n",
              "    .colab-df-container {\n",
              "      display:flex;\n",
              "      flex-wrap:wrap;\n",
              "      gap: 12px;\n",
              "    }\n",
              "\n",
              "    .colab-df-convert {\n",
              "      background-color: #E8F0FE;\n",
              "      border: none;\n",
              "      border-radius: 50%;\n",
              "      cursor: pointer;\n",
              "      display: none;\n",
              "      fill: #1967D2;\n",
              "      height: 32px;\n",
              "      padding: 0 0 0 0;\n",
              "      width: 32px;\n",
              "    }\n",
              "\n",
              "    .colab-df-convert:hover {\n",
              "      background-color: #E2EBFA;\n",
              "      box-shadow: 0px 1px 2px rgba(60, 64, 67, 0.3), 0px 1px 3px 1px rgba(60, 64, 67, 0.15);\n",
              "      fill: #174EA6;\n",
              "    }\n",
              "\n",
              "    [theme=dark] .colab-df-convert {\n",
              "      background-color: #3B4455;\n",
              "      fill: #D2E3FC;\n",
              "    }\n",
              "\n",
              "    [theme=dark] .colab-df-convert:hover {\n",
              "      background-color: #434B5C;\n",
              "      box-shadow: 0px 1px 3px 1px rgba(0, 0, 0, 0.15);\n",
              "      filter: drop-shadow(0px 1px 2px rgba(0, 0, 0, 0.3));\n",
              "      fill: #FFFFFF;\n",
              "    }\n",
              "  </style>\n",
              "\n",
              "      <script>\n",
              "        const buttonEl =\n",
              "          document.querySelector('#df-199b0ad6-6b81-4eed-8fd2-7a7ac39a2371 button.colab-df-convert');\n",
              "        buttonEl.style.display =\n",
              "          google.colab.kernel.accessAllowed ? 'block' : 'none';\n",
              "\n",
              "        async function convertToInteractive(key) {\n",
              "          const element = document.querySelector('#df-199b0ad6-6b81-4eed-8fd2-7a7ac39a2371');\n",
              "          const dataTable =\n",
              "            await google.colab.kernel.invokeFunction('convertToInteractive',\n",
              "                                                     [key], {});\n",
              "          if (!dataTable) return;\n",
              "\n",
              "          const docLinkHtml = 'Like what you see? Visit the ' +\n",
              "            '<a target=\"_blank\" href=https://colab.research.google.com/notebooks/data_table.ipynb>data table notebook</a>'\n",
              "            + ' to learn more about interactive tables.';\n",
              "          element.innerHTML = '';\n",
              "          dataTable['output_type'] = 'display_data';\n",
              "          await google.colab.output.renderOutput(dataTable, element);\n",
              "          const docLink = document.createElement('div');\n",
              "          docLink.innerHTML = docLinkHtml;\n",
              "          element.appendChild(docLink);\n",
              "        }\n",
              "      </script>\n",
              "    </div>\n",
              "  </div>\n",
              "  "
            ],
            "text/plain": [
              "      clientid  income    age   loan  default\n",
              "0        False   False  False  False    False\n",
              "1        False   False  False  False    False\n",
              "2        False   False  False  False    False\n",
              "3        False   False  False  False    False\n",
              "4        False   False  False  False    False\n",
              "...        ...     ...    ...    ...      ...\n",
              "1995     False   False  False  False    False\n",
              "1996     False   False  False  False    False\n",
              "1997     False   False  False  False    False\n",
              "1998     False   False  False  False    False\n",
              "1999     False   False  False  False    False\n",
              "\n",
              "[2000 rows x 5 columns]"
            ]
          },
          "metadata": {},
          "execution_count": 28
        }
      ]
    },
    {
      "cell_type": "code",
      "metadata": {
        "colab": {
          "base_uri": "https://localhost:8080/"
        },
        "id": "ytQ9Vi_JX3I8",
        "outputId": "6c8ef08b-f8ac-46f5-9dc4-311666627826"
      },
      "source": [
        "base_credit.isnull().sum()"
      ],
      "execution_count": 29,
      "outputs": [
        {
          "output_type": "execute_result",
          "data": {
            "text/plain": [
              "clientid    0\n",
              "income      0\n",
              "age         3\n",
              "loan        0\n",
              "default     0\n",
              "dtype: int64"
            ]
          },
          "metadata": {},
          "execution_count": 29
        }
      ]
    },
    {
      "cell_type": "code",
      "metadata": {
        "colab": {
          "base_uri": "https://localhost:8080/",
          "height": 0
        },
        "id": "P2jdYPTEX70b",
        "outputId": "56aad400-fe44-440f-e2a6-039e16436140"
      },
      "source": [
        "base_credit.loc[pd.isnull(base_credit['age'])]"
      ],
      "execution_count": 30,
      "outputs": [
        {
          "output_type": "execute_result",
          "data": {
            "text/html": [
              "\n",
              "  <div id=\"df-9105ce9d-a06c-47e9-8e3e-b3906b22c2ef\">\n",
              "    <div class=\"colab-df-container\">\n",
              "      <div>\n",
              "<style scoped>\n",
              "    .dataframe tbody tr th:only-of-type {\n",
              "        vertical-align: middle;\n",
              "    }\n",
              "\n",
              "    .dataframe tbody tr th {\n",
              "        vertical-align: top;\n",
              "    }\n",
              "\n",
              "    .dataframe thead th {\n",
              "        text-align: right;\n",
              "    }\n",
              "</style>\n",
              "<table border=\"1\" class=\"dataframe\">\n",
              "  <thead>\n",
              "    <tr style=\"text-align: right;\">\n",
              "      <th></th>\n",
              "      <th>clientid</th>\n",
              "      <th>income</th>\n",
              "      <th>age</th>\n",
              "      <th>loan</th>\n",
              "      <th>default</th>\n",
              "    </tr>\n",
              "  </thead>\n",
              "  <tbody>\n",
              "    <tr>\n",
              "      <th>28</th>\n",
              "      <td>29</td>\n",
              "      <td>59417.805406</td>\n",
              "      <td>NaN</td>\n",
              "      <td>2082.625938</td>\n",
              "      <td>0</td>\n",
              "    </tr>\n",
              "    <tr>\n",
              "      <th>30</th>\n",
              "      <td>31</td>\n",
              "      <td>48528.852796</td>\n",
              "      <td>NaN</td>\n",
              "      <td>6155.784670</td>\n",
              "      <td>0</td>\n",
              "    </tr>\n",
              "    <tr>\n",
              "      <th>31</th>\n",
              "      <td>32</td>\n",
              "      <td>23526.302555</td>\n",
              "      <td>NaN</td>\n",
              "      <td>2862.010139</td>\n",
              "      <td>0</td>\n",
              "    </tr>\n",
              "  </tbody>\n",
              "</table>\n",
              "</div>\n",
              "      <button class=\"colab-df-convert\" onclick=\"convertToInteractive('df-9105ce9d-a06c-47e9-8e3e-b3906b22c2ef')\"\n",
              "              title=\"Convert this dataframe to an interactive table.\"\n",
              "              style=\"display:none;\">\n",
              "        \n",
              "  <svg xmlns=\"http://www.w3.org/2000/svg\" height=\"24px\"viewBox=\"0 0 24 24\"\n",
              "       width=\"24px\">\n",
              "    <path d=\"M0 0h24v24H0V0z\" fill=\"none\"/>\n",
              "    <path d=\"M18.56 5.44l.94 2.06.94-2.06 2.06-.94-2.06-.94-.94-2.06-.94 2.06-2.06.94zm-11 1L8.5 8.5l.94-2.06 2.06-.94-2.06-.94L8.5 2.5l-.94 2.06-2.06.94zm10 10l.94 2.06.94-2.06 2.06-.94-2.06-.94-.94-2.06-.94 2.06-2.06.94z\"/><path d=\"M17.41 7.96l-1.37-1.37c-.4-.4-.92-.59-1.43-.59-.52 0-1.04.2-1.43.59L10.3 9.45l-7.72 7.72c-.78.78-.78 2.05 0 2.83L4 21.41c.39.39.9.59 1.41.59.51 0 1.02-.2 1.41-.59l7.78-7.78 2.81-2.81c.8-.78.8-2.07 0-2.86zM5.41 20L4 18.59l7.72-7.72 1.47 1.35L5.41 20z\"/>\n",
              "  </svg>\n",
              "      </button>\n",
              "      \n",
              "  <style>\n",
              "    .colab-df-container {\n",
              "      display:flex;\n",
              "      flex-wrap:wrap;\n",
              "      gap: 12px;\n",
              "    }\n",
              "\n",
              "    .colab-df-convert {\n",
              "      background-color: #E8F0FE;\n",
              "      border: none;\n",
              "      border-radius: 50%;\n",
              "      cursor: pointer;\n",
              "      display: none;\n",
              "      fill: #1967D2;\n",
              "      height: 32px;\n",
              "      padding: 0 0 0 0;\n",
              "      width: 32px;\n",
              "    }\n",
              "\n",
              "    .colab-df-convert:hover {\n",
              "      background-color: #E2EBFA;\n",
              "      box-shadow: 0px 1px 2px rgba(60, 64, 67, 0.3), 0px 1px 3px 1px rgba(60, 64, 67, 0.15);\n",
              "      fill: #174EA6;\n",
              "    }\n",
              "\n",
              "    [theme=dark] .colab-df-convert {\n",
              "      background-color: #3B4455;\n",
              "      fill: #D2E3FC;\n",
              "    }\n",
              "\n",
              "    [theme=dark] .colab-df-convert:hover {\n",
              "      background-color: #434B5C;\n",
              "      box-shadow: 0px 1px 3px 1px rgba(0, 0, 0, 0.15);\n",
              "      filter: drop-shadow(0px 1px 2px rgba(0, 0, 0, 0.3));\n",
              "      fill: #FFFFFF;\n",
              "    }\n",
              "  </style>\n",
              "\n",
              "      <script>\n",
              "        const buttonEl =\n",
              "          document.querySelector('#df-9105ce9d-a06c-47e9-8e3e-b3906b22c2ef button.colab-df-convert');\n",
              "        buttonEl.style.display =\n",
              "          google.colab.kernel.accessAllowed ? 'block' : 'none';\n",
              "\n",
              "        async function convertToInteractive(key) {\n",
              "          const element = document.querySelector('#df-9105ce9d-a06c-47e9-8e3e-b3906b22c2ef');\n",
              "          const dataTable =\n",
              "            await google.colab.kernel.invokeFunction('convertToInteractive',\n",
              "                                                     [key], {});\n",
              "          if (!dataTable) return;\n",
              "\n",
              "          const docLinkHtml = 'Like what you see? Visit the ' +\n",
              "            '<a target=\"_blank\" href=https://colab.research.google.com/notebooks/data_table.ipynb>data table notebook</a>'\n",
              "            + ' to learn more about interactive tables.';\n",
              "          element.innerHTML = '';\n",
              "          dataTable['output_type'] = 'display_data';\n",
              "          await google.colab.output.renderOutput(dataTable, element);\n",
              "          const docLink = document.createElement('div');\n",
              "          docLink.innerHTML = docLinkHtml;\n",
              "          element.appendChild(docLink);\n",
              "        }\n",
              "      </script>\n",
              "    </div>\n",
              "  </div>\n",
              "  "
            ],
            "text/plain": [
              "    clientid        income  age         loan  default\n",
              "28        29  59417.805406  NaN  2082.625938        0\n",
              "30        31  48528.852796  NaN  6155.784670        0\n",
              "31        32  23526.302555  NaN  2862.010139        0"
            ]
          },
          "metadata": {},
          "execution_count": 30
        }
      ]
    },
    {
      "cell_type": "code",
      "metadata": {
        "id": "zx3oySaHYLye"
      },
      "source": [
        "# Preencher com a média as idades faltantes\n",
        "base_credit['age'].fillna(base_credit['age'].mean(), inplace = True)  #preenche os valores faltantes com a media do atributo 'age'"
      ],
      "execution_count": 31,
      "outputs": []
    },
    {
      "cell_type": "code",
      "metadata": {
        "colab": {
          "base_uri": "https://localhost:8080/",
          "height": 0
        },
        "id": "I8IBmoqHYokU",
        "outputId": "50f0007b-2964-4931-dc6e-a2ff978dbe1a"
      },
      "source": [
        "base_credit.loc[base_credit['clientid'] == 29]"
      ],
      "execution_count": 32,
      "outputs": [
        {
          "output_type": "execute_result",
          "data": {
            "text/html": [
              "\n",
              "  <div id=\"df-a8847a76-784c-4c85-b149-33c4ab6165bf\">\n",
              "    <div class=\"colab-df-container\">\n",
              "      <div>\n",
              "<style scoped>\n",
              "    .dataframe tbody tr th:only-of-type {\n",
              "        vertical-align: middle;\n",
              "    }\n",
              "\n",
              "    .dataframe tbody tr th {\n",
              "        vertical-align: top;\n",
              "    }\n",
              "\n",
              "    .dataframe thead th {\n",
              "        text-align: right;\n",
              "    }\n",
              "</style>\n",
              "<table border=\"1\" class=\"dataframe\">\n",
              "  <thead>\n",
              "    <tr style=\"text-align: right;\">\n",
              "      <th></th>\n",
              "      <th>clientid</th>\n",
              "      <th>income</th>\n",
              "      <th>age</th>\n",
              "      <th>loan</th>\n",
              "      <th>default</th>\n",
              "    </tr>\n",
              "  </thead>\n",
              "  <tbody>\n",
              "    <tr>\n",
              "      <th>28</th>\n",
              "      <td>29</td>\n",
              "      <td>59417.805406</td>\n",
              "      <td>40.927689</td>\n",
              "      <td>2082.625938</td>\n",
              "      <td>0</td>\n",
              "    </tr>\n",
              "  </tbody>\n",
              "</table>\n",
              "</div>\n",
              "      <button class=\"colab-df-convert\" onclick=\"convertToInteractive('df-a8847a76-784c-4c85-b149-33c4ab6165bf')\"\n",
              "              title=\"Convert this dataframe to an interactive table.\"\n",
              "              style=\"display:none;\">\n",
              "        \n",
              "  <svg xmlns=\"http://www.w3.org/2000/svg\" height=\"24px\"viewBox=\"0 0 24 24\"\n",
              "       width=\"24px\">\n",
              "    <path d=\"M0 0h24v24H0V0z\" fill=\"none\"/>\n",
              "    <path d=\"M18.56 5.44l.94 2.06.94-2.06 2.06-.94-2.06-.94-.94-2.06-.94 2.06-2.06.94zm-11 1L8.5 8.5l.94-2.06 2.06-.94-2.06-.94L8.5 2.5l-.94 2.06-2.06.94zm10 10l.94 2.06.94-2.06 2.06-.94-2.06-.94-.94-2.06-.94 2.06-2.06.94z\"/><path d=\"M17.41 7.96l-1.37-1.37c-.4-.4-.92-.59-1.43-.59-.52 0-1.04.2-1.43.59L10.3 9.45l-7.72 7.72c-.78.78-.78 2.05 0 2.83L4 21.41c.39.39.9.59 1.41.59.51 0 1.02-.2 1.41-.59l7.78-7.78 2.81-2.81c.8-.78.8-2.07 0-2.86zM5.41 20L4 18.59l7.72-7.72 1.47 1.35L5.41 20z\"/>\n",
              "  </svg>\n",
              "      </button>\n",
              "      \n",
              "  <style>\n",
              "    .colab-df-container {\n",
              "      display:flex;\n",
              "      flex-wrap:wrap;\n",
              "      gap: 12px;\n",
              "    }\n",
              "\n",
              "    .colab-df-convert {\n",
              "      background-color: #E8F0FE;\n",
              "      border: none;\n",
              "      border-radius: 50%;\n",
              "      cursor: pointer;\n",
              "      display: none;\n",
              "      fill: #1967D2;\n",
              "      height: 32px;\n",
              "      padding: 0 0 0 0;\n",
              "      width: 32px;\n",
              "    }\n",
              "\n",
              "    .colab-df-convert:hover {\n",
              "      background-color: #E2EBFA;\n",
              "      box-shadow: 0px 1px 2px rgba(60, 64, 67, 0.3), 0px 1px 3px 1px rgba(60, 64, 67, 0.15);\n",
              "      fill: #174EA6;\n",
              "    }\n",
              "\n",
              "    [theme=dark] .colab-df-convert {\n",
              "      background-color: #3B4455;\n",
              "      fill: #D2E3FC;\n",
              "    }\n",
              "\n",
              "    [theme=dark] .colab-df-convert:hover {\n",
              "      background-color: #434B5C;\n",
              "      box-shadow: 0px 1px 3px 1px rgba(0, 0, 0, 0.15);\n",
              "      filter: drop-shadow(0px 1px 2px rgba(0, 0, 0, 0.3));\n",
              "      fill: #FFFFFF;\n",
              "    }\n",
              "  </style>\n",
              "\n",
              "      <script>\n",
              "        const buttonEl =\n",
              "          document.querySelector('#df-a8847a76-784c-4c85-b149-33c4ab6165bf button.colab-df-convert');\n",
              "        buttonEl.style.display =\n",
              "          google.colab.kernel.accessAllowed ? 'block' : 'none';\n",
              "\n",
              "        async function convertToInteractive(key) {\n",
              "          const element = document.querySelector('#df-a8847a76-784c-4c85-b149-33c4ab6165bf');\n",
              "          const dataTable =\n",
              "            await google.colab.kernel.invokeFunction('convertToInteractive',\n",
              "                                                     [key], {});\n",
              "          if (!dataTable) return;\n",
              "\n",
              "          const docLinkHtml = 'Like what you see? Visit the ' +\n",
              "            '<a target=\"_blank\" href=https://colab.research.google.com/notebooks/data_table.ipynb>data table notebook</a>'\n",
              "            + ' to learn more about interactive tables.';\n",
              "          element.innerHTML = '';\n",
              "          dataTable['output_type'] = 'display_data';\n",
              "          await google.colab.output.renderOutput(dataTable, element);\n",
              "          const docLink = document.createElement('div');\n",
              "          docLink.innerHTML = docLinkHtml;\n",
              "          element.appendChild(docLink);\n",
              "        }\n",
              "      </script>\n",
              "    </div>\n",
              "  </div>\n",
              "  "
            ],
            "text/plain": [
              "    clientid        income        age         loan  default\n",
              "28        29  59417.805406  40.927689  2082.625938        0"
            ]
          },
          "metadata": {},
          "execution_count": 32
        }
      ]
    },
    {
      "cell_type": "markdown",
      "metadata": {
        "id": "rQEOJdQYQXqT"
      },
      "source": [
        "### Divisão entre previsores e classe"
      ]
    },
    {
      "cell_type": "code",
      "metadata": {
        "colab": {
          "base_uri": "https://localhost:8080/"
        },
        "id": "63vslV-aE8D2",
        "outputId": "f6c2399d-2905-44a9-cc21-e643ebc603e9"
      },
      "source": [
        "# X: variavel previsora Y: variavel da classe\n",
        "X_credit = base_credit.iloc[:, 1:4].values\n",
        "X_credit"
      ],
      "execution_count": 33,
      "outputs": [
        {
          "output_type": "execute_result",
          "data": {
            "text/plain": [
              "array([[6.61559251e+04, 5.90170151e+01, 8.10653213e+03],\n",
              "       [3.44151540e+04, 4.81171531e+01, 6.56474502e+03],\n",
              "       [5.73171701e+04, 6.31080495e+01, 8.02095330e+03],\n",
              "       ...,\n",
              "       [4.43114493e+04, 2.80171669e+01, 5.52278669e+03],\n",
              "       [4.37560566e+04, 6.39717958e+01, 1.62272260e+03],\n",
              "       [6.94365796e+04, 5.61526170e+01, 7.37883360e+03]])"
            ]
          },
          "metadata": {},
          "execution_count": 33
        }
      ]
    },
    {
      "cell_type": "code",
      "metadata": {
        "colab": {
          "base_uri": "https://localhost:8080/"
        },
        "id": "gGi1CYIEE9Jh",
        "outputId": "42e1f7a1-4ecb-4192-e348-e26a2880bb11"
      },
      "source": [
        "# converteu para um formato para ser processado pela biblioteca numpy\n",
        "type(X_credit)"
      ],
      "execution_count": 34,
      "outputs": [
        {
          "output_type": "execute_result",
          "data": {
            "text/plain": [
              "numpy.ndarray"
            ]
          },
          "metadata": {},
          "execution_count": 34
        }
      ]
    },
    {
      "cell_type": "code",
      "metadata": {
        "colab": {
          "base_uri": "https://localhost:8080/"
        },
        "id": "onQ9ZRLnE9ja",
        "outputId": "3ff7f53e-7882-4dea-ad4b-0b6061f8bf92"
      },
      "source": [
        "Y_credit = base_credit.iloc[:, 4].values\n",
        "Y_credit"
      ],
      "execution_count": 35,
      "outputs": [
        {
          "output_type": "execute_result",
          "data": {
            "text/plain": [
              "array([0, 0, 0, ..., 1, 0, 0])"
            ]
          },
          "metadata": {},
          "execution_count": 35
        }
      ]
    },
    {
      "cell_type": "markdown",
      "metadata": {
        "id": "Ddkbc9MfQcKL"
      },
      "source": [
        "### Escalonamento dos valores\n",
        "Para deixar os valores no mesmo escalanomento\n",
        "- Padronização: x = (x-média)/desvio\n",
        "- Normalização: x = (x - xmin)/(xmax - xmin)"
      ]
    },
    {
      "cell_type": "code",
      "metadata": {
        "colab": {
          "base_uri": "https://localhost:8080/"
        },
        "id": "HxdqlUGuFA8x",
        "outputId": "c8631f56-5240-4898-a83c-188c8362209d"
      },
      "source": [
        "X_credit[:, 0].min(), X_credit[:, 1].min(), X_credit[:, 2].min()"
      ],
      "execution_count": 36,
      "outputs": [
        {
          "output_type": "execute_result",
          "data": {
            "text/plain": [
              "(20014.4894700497, 18.055188510566897, 1.37762959325451)"
            ]
          },
          "metadata": {},
          "execution_count": 36
        }
      ]
    },
    {
      "cell_type": "code",
      "metadata": {
        "colab": {
          "base_uri": "https://localhost:8080/"
        },
        "id": "k6HCX5QiFIJJ",
        "outputId": "94df340e-9b3e-4268-bc32-70016e080e59"
      },
      "source": [
        "X_credit[:, 0].max(), X_credit[:, 1].max(), X_credit[:, 2].max()"
      ],
      "execution_count": 37,
      "outputs": [
        {
          "output_type": "execute_result",
          "data": {
            "text/plain": [
              "(69995.6855783239, 63.97179584112021, 13766.051239333701)"
            ]
          },
          "metadata": {},
          "execution_count": 37
        }
      ]
    },
    {
      "cell_type": "code",
      "metadata": {
        "id": "7TkpGNaJFIeT"
      },
      "source": [
        "#Biblioteca usada para escalonar os valores\n",
        "from sklearn.preprocessing import StandardScaler\n",
        "scaler_credit = StandardScaler()\n",
        "X_credit = scaler_credit.fit_transform(X_credit)"
      ],
      "execution_count": 38,
      "outputs": []
    },
    {
      "cell_type": "code",
      "metadata": {
        "colab": {
          "base_uri": "https://localhost:8080/"
        },
        "id": "DsDd8eaoFIy6",
        "outputId": "9583ffee-18c3-49d2-b1ee-8ff718c8fa81"
      },
      "source": [
        "X_credit[:, 0].min(), X_credit[:, 1].min(), X_credit[:, 2].min()"
      ],
      "execution_count": 39,
      "outputs": [
        {
          "output_type": "execute_result",
          "data": {
            "text/plain": [
              "(-1.7676158019964077, -1.7264145408889917, -1.4592791099462408)"
            ]
          },
          "metadata": {},
          "execution_count": 39
        }
      ]
    },
    {
      "cell_type": "code",
      "metadata": {
        "colab": {
          "base_uri": "https://localhost:8080/"
        },
        "id": "KgdTZOC_FMtp",
        "outputId": "d17c7e3c-c66d-48e2-91a1-c25ea677e67e"
      },
      "source": [
        "X_credit[:, 0].max(), X_credit[:, 1].max(), X_credit[:, 2].max()"
      ],
      "execution_count": 40,
      "outputs": [
        {
          "output_type": "execute_result",
          "data": {
            "text/plain": [
              "(1.7220222385319197, 1.7393673928651971, 3.0616609141708273)"
            ]
          },
          "metadata": {},
          "execution_count": 40
        }
      ]
    },
    {
      "cell_type": "code",
      "metadata": {
        "colab": {
          "base_uri": "https://localhost:8080/"
        },
        "id": "xdDk99RUFQOx",
        "outputId": "4ff0593c-dcdb-46ab-c0fe-ea4d2d0763ff"
      },
      "source": [
        "X_credit"
      ],
      "execution_count": 41,
      "outputs": [
        {
          "output_type": "execute_result",
          "data": {
            "text/plain": [
              "array([[ 1.45393393,  1.36538093,  1.20281942],\n",
              "       [-0.76217555,  0.5426602 ,  0.69642695],\n",
              "       [ 0.83682073,  1.67417189,  1.17471147],\n",
              "       ...,\n",
              "       [-0.07122592, -0.97448519,  0.35420081],\n",
              "       [-0.11000289,  1.73936739, -0.92675625],\n",
              "       [ 1.682986  ,  1.14917639,  0.96381038]])"
            ]
          },
          "metadata": {},
          "execution_count": 41
        }
      ]
    },
    {
      "cell_type": "markdown",
      "source": [
        "# Censo Data"
      ],
      "metadata": {
        "id": "gZfVTjT6yl3y"
      }
    },
    {
      "cell_type": "markdown",
      "source": [
        "### Exploração de dados"
      ],
      "metadata": {
        "id": "2BXAATv7ytt4"
      }
    },
    {
      "cell_type": "code",
      "source": [
        "base_census = pd.read_csv('/content/census.csv')"
      ],
      "metadata": {
        "id": "U8YrLuo5zWiu"
      },
      "execution_count": 50,
      "outputs": []
    },
    {
      "cell_type": "code",
      "source": [
        "base_census"
      ],
      "metadata": {
        "id": "ZhpGGzVcz8RF",
        "outputId": "a7625b60-22f4-405c-b496-b47fbda77571",
        "colab": {
          "base_uri": "https://localhost:8080/",
          "height": 800
        }
      },
      "execution_count": 51,
      "outputs": [
        {
          "output_type": "execute_result",
          "data": {
            "text/html": [
              "\n",
              "  <div id=\"df-dd9df852-be49-43e2-a234-81a8943cae08\">\n",
              "    <div class=\"colab-df-container\">\n",
              "      <div>\n",
              "<style scoped>\n",
              "    .dataframe tbody tr th:only-of-type {\n",
              "        vertical-align: middle;\n",
              "    }\n",
              "\n",
              "    .dataframe tbody tr th {\n",
              "        vertical-align: top;\n",
              "    }\n",
              "\n",
              "    .dataframe thead th {\n",
              "        text-align: right;\n",
              "    }\n",
              "</style>\n",
              "<table border=\"1\" class=\"dataframe\">\n",
              "  <thead>\n",
              "    <tr style=\"text-align: right;\">\n",
              "      <th></th>\n",
              "      <th>age</th>\n",
              "      <th>workclass</th>\n",
              "      <th>final-weight</th>\n",
              "      <th>education</th>\n",
              "      <th>education-num</th>\n",
              "      <th>marital-status</th>\n",
              "      <th>occupation</th>\n",
              "      <th>relationship</th>\n",
              "      <th>race</th>\n",
              "      <th>sex</th>\n",
              "      <th>capital-gain</th>\n",
              "      <th>capital-loos</th>\n",
              "      <th>hour-per-week</th>\n",
              "      <th>native-country</th>\n",
              "      <th>income</th>\n",
              "    </tr>\n",
              "  </thead>\n",
              "  <tbody>\n",
              "    <tr>\n",
              "      <th>0</th>\n",
              "      <td>39</td>\n",
              "      <td>State-gov</td>\n",
              "      <td>77516</td>\n",
              "      <td>Bachelors</td>\n",
              "      <td>13</td>\n",
              "      <td>Never-married</td>\n",
              "      <td>Adm-clerical</td>\n",
              "      <td>Not-in-family</td>\n",
              "      <td>White</td>\n",
              "      <td>Male</td>\n",
              "      <td>2174</td>\n",
              "      <td>0</td>\n",
              "      <td>40</td>\n",
              "      <td>United-States</td>\n",
              "      <td>&lt;=50K</td>\n",
              "    </tr>\n",
              "    <tr>\n",
              "      <th>1</th>\n",
              "      <td>50</td>\n",
              "      <td>Self-emp-not-inc</td>\n",
              "      <td>83311</td>\n",
              "      <td>Bachelors</td>\n",
              "      <td>13</td>\n",
              "      <td>Married-civ-spouse</td>\n",
              "      <td>Exec-managerial</td>\n",
              "      <td>Husband</td>\n",
              "      <td>White</td>\n",
              "      <td>Male</td>\n",
              "      <td>0</td>\n",
              "      <td>0</td>\n",
              "      <td>13</td>\n",
              "      <td>United-States</td>\n",
              "      <td>&lt;=50K</td>\n",
              "    </tr>\n",
              "    <tr>\n",
              "      <th>2</th>\n",
              "      <td>38</td>\n",
              "      <td>Private</td>\n",
              "      <td>215646</td>\n",
              "      <td>HS-grad</td>\n",
              "      <td>9</td>\n",
              "      <td>Divorced</td>\n",
              "      <td>Handlers-cleaners</td>\n",
              "      <td>Not-in-family</td>\n",
              "      <td>White</td>\n",
              "      <td>Male</td>\n",
              "      <td>0</td>\n",
              "      <td>0</td>\n",
              "      <td>40</td>\n",
              "      <td>United-States</td>\n",
              "      <td>&lt;=50K</td>\n",
              "    </tr>\n",
              "    <tr>\n",
              "      <th>3</th>\n",
              "      <td>53</td>\n",
              "      <td>Private</td>\n",
              "      <td>234721</td>\n",
              "      <td>11th</td>\n",
              "      <td>7</td>\n",
              "      <td>Married-civ-spouse</td>\n",
              "      <td>Handlers-cleaners</td>\n",
              "      <td>Husband</td>\n",
              "      <td>Black</td>\n",
              "      <td>Male</td>\n",
              "      <td>0</td>\n",
              "      <td>0</td>\n",
              "      <td>40</td>\n",
              "      <td>United-States</td>\n",
              "      <td>&lt;=50K</td>\n",
              "    </tr>\n",
              "    <tr>\n",
              "      <th>4</th>\n",
              "      <td>28</td>\n",
              "      <td>Private</td>\n",
              "      <td>338409</td>\n",
              "      <td>Bachelors</td>\n",
              "      <td>13</td>\n",
              "      <td>Married-civ-spouse</td>\n",
              "      <td>Prof-specialty</td>\n",
              "      <td>Wife</td>\n",
              "      <td>Black</td>\n",
              "      <td>Female</td>\n",
              "      <td>0</td>\n",
              "      <td>0</td>\n",
              "      <td>40</td>\n",
              "      <td>Cuba</td>\n",
              "      <td>&lt;=50K</td>\n",
              "    </tr>\n",
              "    <tr>\n",
              "      <th>...</th>\n",
              "      <td>...</td>\n",
              "      <td>...</td>\n",
              "      <td>...</td>\n",
              "      <td>...</td>\n",
              "      <td>...</td>\n",
              "      <td>...</td>\n",
              "      <td>...</td>\n",
              "      <td>...</td>\n",
              "      <td>...</td>\n",
              "      <td>...</td>\n",
              "      <td>...</td>\n",
              "      <td>...</td>\n",
              "      <td>...</td>\n",
              "      <td>...</td>\n",
              "      <td>...</td>\n",
              "    </tr>\n",
              "    <tr>\n",
              "      <th>32556</th>\n",
              "      <td>27</td>\n",
              "      <td>Private</td>\n",
              "      <td>257302</td>\n",
              "      <td>Assoc-acdm</td>\n",
              "      <td>12</td>\n",
              "      <td>Married-civ-spouse</td>\n",
              "      <td>Tech-support</td>\n",
              "      <td>Wife</td>\n",
              "      <td>White</td>\n",
              "      <td>Female</td>\n",
              "      <td>0</td>\n",
              "      <td>0</td>\n",
              "      <td>38</td>\n",
              "      <td>United-States</td>\n",
              "      <td>&lt;=50K</td>\n",
              "    </tr>\n",
              "    <tr>\n",
              "      <th>32557</th>\n",
              "      <td>40</td>\n",
              "      <td>Private</td>\n",
              "      <td>154374</td>\n",
              "      <td>HS-grad</td>\n",
              "      <td>9</td>\n",
              "      <td>Married-civ-spouse</td>\n",
              "      <td>Machine-op-inspct</td>\n",
              "      <td>Husband</td>\n",
              "      <td>White</td>\n",
              "      <td>Male</td>\n",
              "      <td>0</td>\n",
              "      <td>0</td>\n",
              "      <td>40</td>\n",
              "      <td>United-States</td>\n",
              "      <td>&gt;50K</td>\n",
              "    </tr>\n",
              "    <tr>\n",
              "      <th>32558</th>\n",
              "      <td>58</td>\n",
              "      <td>Private</td>\n",
              "      <td>151910</td>\n",
              "      <td>HS-grad</td>\n",
              "      <td>9</td>\n",
              "      <td>Widowed</td>\n",
              "      <td>Adm-clerical</td>\n",
              "      <td>Unmarried</td>\n",
              "      <td>White</td>\n",
              "      <td>Female</td>\n",
              "      <td>0</td>\n",
              "      <td>0</td>\n",
              "      <td>40</td>\n",
              "      <td>United-States</td>\n",
              "      <td>&lt;=50K</td>\n",
              "    </tr>\n",
              "    <tr>\n",
              "      <th>32559</th>\n",
              "      <td>22</td>\n",
              "      <td>Private</td>\n",
              "      <td>201490</td>\n",
              "      <td>HS-grad</td>\n",
              "      <td>9</td>\n",
              "      <td>Never-married</td>\n",
              "      <td>Adm-clerical</td>\n",
              "      <td>Own-child</td>\n",
              "      <td>White</td>\n",
              "      <td>Male</td>\n",
              "      <td>0</td>\n",
              "      <td>0</td>\n",
              "      <td>20</td>\n",
              "      <td>United-States</td>\n",
              "      <td>&lt;=50K</td>\n",
              "    </tr>\n",
              "    <tr>\n",
              "      <th>32560</th>\n",
              "      <td>52</td>\n",
              "      <td>Self-emp-inc</td>\n",
              "      <td>287927</td>\n",
              "      <td>HS-grad</td>\n",
              "      <td>9</td>\n",
              "      <td>Married-civ-spouse</td>\n",
              "      <td>Exec-managerial</td>\n",
              "      <td>Wife</td>\n",
              "      <td>White</td>\n",
              "      <td>Female</td>\n",
              "      <td>15024</td>\n",
              "      <td>0</td>\n",
              "      <td>40</td>\n",
              "      <td>United-States</td>\n",
              "      <td>&gt;50K</td>\n",
              "    </tr>\n",
              "  </tbody>\n",
              "</table>\n",
              "<p>32561 rows × 15 columns</p>\n",
              "</div>\n",
              "      <button class=\"colab-df-convert\" onclick=\"convertToInteractive('df-dd9df852-be49-43e2-a234-81a8943cae08')\"\n",
              "              title=\"Convert this dataframe to an interactive table.\"\n",
              "              style=\"display:none;\">\n",
              "        \n",
              "  <svg xmlns=\"http://www.w3.org/2000/svg\" height=\"24px\"viewBox=\"0 0 24 24\"\n",
              "       width=\"24px\">\n",
              "    <path d=\"M0 0h24v24H0V0z\" fill=\"none\"/>\n",
              "    <path d=\"M18.56 5.44l.94 2.06.94-2.06 2.06-.94-2.06-.94-.94-2.06-.94 2.06-2.06.94zm-11 1L8.5 8.5l.94-2.06 2.06-.94-2.06-.94L8.5 2.5l-.94 2.06-2.06.94zm10 10l.94 2.06.94-2.06 2.06-.94-2.06-.94-.94-2.06-.94 2.06-2.06.94z\"/><path d=\"M17.41 7.96l-1.37-1.37c-.4-.4-.92-.59-1.43-.59-.52 0-1.04.2-1.43.59L10.3 9.45l-7.72 7.72c-.78.78-.78 2.05 0 2.83L4 21.41c.39.39.9.59 1.41.59.51 0 1.02-.2 1.41-.59l7.78-7.78 2.81-2.81c.8-.78.8-2.07 0-2.86zM5.41 20L4 18.59l7.72-7.72 1.47 1.35L5.41 20z\"/>\n",
              "  </svg>\n",
              "      </button>\n",
              "      \n",
              "  <style>\n",
              "    .colab-df-container {\n",
              "      display:flex;\n",
              "      flex-wrap:wrap;\n",
              "      gap: 12px;\n",
              "    }\n",
              "\n",
              "    .colab-df-convert {\n",
              "      background-color: #E8F0FE;\n",
              "      border: none;\n",
              "      border-radius: 50%;\n",
              "      cursor: pointer;\n",
              "      display: none;\n",
              "      fill: #1967D2;\n",
              "      height: 32px;\n",
              "      padding: 0 0 0 0;\n",
              "      width: 32px;\n",
              "    }\n",
              "\n",
              "    .colab-df-convert:hover {\n",
              "      background-color: #E2EBFA;\n",
              "      box-shadow: 0px 1px 2px rgba(60, 64, 67, 0.3), 0px 1px 3px 1px rgba(60, 64, 67, 0.15);\n",
              "      fill: #174EA6;\n",
              "    }\n",
              "\n",
              "    [theme=dark] .colab-df-convert {\n",
              "      background-color: #3B4455;\n",
              "      fill: #D2E3FC;\n",
              "    }\n",
              "\n",
              "    [theme=dark] .colab-df-convert:hover {\n",
              "      background-color: #434B5C;\n",
              "      box-shadow: 0px 1px 3px 1px rgba(0, 0, 0, 0.15);\n",
              "      filter: drop-shadow(0px 1px 2px rgba(0, 0, 0, 0.3));\n",
              "      fill: #FFFFFF;\n",
              "    }\n",
              "  </style>\n",
              "\n",
              "      <script>\n",
              "        const buttonEl =\n",
              "          document.querySelector('#df-dd9df852-be49-43e2-a234-81a8943cae08 button.colab-df-convert');\n",
              "        buttonEl.style.display =\n",
              "          google.colab.kernel.accessAllowed ? 'block' : 'none';\n",
              "\n",
              "        async function convertToInteractive(key) {\n",
              "          const element = document.querySelector('#df-dd9df852-be49-43e2-a234-81a8943cae08');\n",
              "          const dataTable =\n",
              "            await google.colab.kernel.invokeFunction('convertToInteractive',\n",
              "                                                     [key], {});\n",
              "          if (!dataTable) return;\n",
              "\n",
              "          const docLinkHtml = 'Like what you see? Visit the ' +\n",
              "            '<a target=\"_blank\" href=https://colab.research.google.com/notebooks/data_table.ipynb>data table notebook</a>'\n",
              "            + ' to learn more about interactive tables.';\n",
              "          element.innerHTML = '';\n",
              "          dataTable['output_type'] = 'display_data';\n",
              "          await google.colab.output.renderOutput(dataTable, element);\n",
              "          const docLink = document.createElement('div');\n",
              "          docLink.innerHTML = docLinkHtml;\n",
              "          element.appendChild(docLink);\n",
              "        }\n",
              "      </script>\n",
              "    </div>\n",
              "  </div>\n",
              "  "
            ],
            "text/plain": [
              "       age          workclass  ...  native-country  income\n",
              "0       39          State-gov  ...   United-States   <=50K\n",
              "1       50   Self-emp-not-inc  ...   United-States   <=50K\n",
              "2       38            Private  ...   United-States   <=50K\n",
              "3       53            Private  ...   United-States   <=50K\n",
              "4       28            Private  ...            Cuba   <=50K\n",
              "...    ...                ...  ...             ...     ...\n",
              "32556   27            Private  ...   United-States   <=50K\n",
              "32557   40            Private  ...   United-States    >50K\n",
              "32558   58            Private  ...   United-States   <=50K\n",
              "32559   22            Private  ...   United-States   <=50K\n",
              "32560   52       Self-emp-inc  ...   United-States    >50K\n",
              "\n",
              "[32561 rows x 15 columns]"
            ]
          },
          "metadata": {},
          "execution_count": 51
        }
      ]
    },
    {
      "cell_type": "code",
      "source": [
        "base_census.describe()"
      ],
      "metadata": {
        "id": "lJI5vQMbAg2E",
        "outputId": "97411663-8f38-4502-9f14-31310f0dc87d",
        "colab": {
          "base_uri": "https://localhost:8080/",
          "height": 300
        }
      },
      "execution_count": 52,
      "outputs": [
        {
          "output_type": "execute_result",
          "data": {
            "text/html": [
              "\n",
              "  <div id=\"df-d8c64eb3-083b-42e1-869b-12277ce24125\">\n",
              "    <div class=\"colab-df-container\">\n",
              "      <div>\n",
              "<style scoped>\n",
              "    .dataframe tbody tr th:only-of-type {\n",
              "        vertical-align: middle;\n",
              "    }\n",
              "\n",
              "    .dataframe tbody tr th {\n",
              "        vertical-align: top;\n",
              "    }\n",
              "\n",
              "    .dataframe thead th {\n",
              "        text-align: right;\n",
              "    }\n",
              "</style>\n",
              "<table border=\"1\" class=\"dataframe\">\n",
              "  <thead>\n",
              "    <tr style=\"text-align: right;\">\n",
              "      <th></th>\n",
              "      <th>age</th>\n",
              "      <th>final-weight</th>\n",
              "      <th>education-num</th>\n",
              "      <th>capital-gain</th>\n",
              "      <th>capital-loos</th>\n",
              "      <th>hour-per-week</th>\n",
              "    </tr>\n",
              "  </thead>\n",
              "  <tbody>\n",
              "    <tr>\n",
              "      <th>count</th>\n",
              "      <td>32561.000000</td>\n",
              "      <td>3.256100e+04</td>\n",
              "      <td>32561.000000</td>\n",
              "      <td>32561.000000</td>\n",
              "      <td>32561.000000</td>\n",
              "      <td>32561.000000</td>\n",
              "    </tr>\n",
              "    <tr>\n",
              "      <th>mean</th>\n",
              "      <td>38.581647</td>\n",
              "      <td>1.897784e+05</td>\n",
              "      <td>10.080679</td>\n",
              "      <td>1077.648844</td>\n",
              "      <td>87.303830</td>\n",
              "      <td>40.437456</td>\n",
              "    </tr>\n",
              "    <tr>\n",
              "      <th>std</th>\n",
              "      <td>13.640433</td>\n",
              "      <td>1.055500e+05</td>\n",
              "      <td>2.572720</td>\n",
              "      <td>7385.292085</td>\n",
              "      <td>402.960219</td>\n",
              "      <td>12.347429</td>\n",
              "    </tr>\n",
              "    <tr>\n",
              "      <th>min</th>\n",
              "      <td>17.000000</td>\n",
              "      <td>1.228500e+04</td>\n",
              "      <td>1.000000</td>\n",
              "      <td>0.000000</td>\n",
              "      <td>0.000000</td>\n",
              "      <td>1.000000</td>\n",
              "    </tr>\n",
              "    <tr>\n",
              "      <th>25%</th>\n",
              "      <td>28.000000</td>\n",
              "      <td>1.178270e+05</td>\n",
              "      <td>9.000000</td>\n",
              "      <td>0.000000</td>\n",
              "      <td>0.000000</td>\n",
              "      <td>40.000000</td>\n",
              "    </tr>\n",
              "    <tr>\n",
              "      <th>50%</th>\n",
              "      <td>37.000000</td>\n",
              "      <td>1.783560e+05</td>\n",
              "      <td>10.000000</td>\n",
              "      <td>0.000000</td>\n",
              "      <td>0.000000</td>\n",
              "      <td>40.000000</td>\n",
              "    </tr>\n",
              "    <tr>\n",
              "      <th>75%</th>\n",
              "      <td>48.000000</td>\n",
              "      <td>2.370510e+05</td>\n",
              "      <td>12.000000</td>\n",
              "      <td>0.000000</td>\n",
              "      <td>0.000000</td>\n",
              "      <td>45.000000</td>\n",
              "    </tr>\n",
              "    <tr>\n",
              "      <th>max</th>\n",
              "      <td>90.000000</td>\n",
              "      <td>1.484705e+06</td>\n",
              "      <td>16.000000</td>\n",
              "      <td>99999.000000</td>\n",
              "      <td>4356.000000</td>\n",
              "      <td>99.000000</td>\n",
              "    </tr>\n",
              "  </tbody>\n",
              "</table>\n",
              "</div>\n",
              "      <button class=\"colab-df-convert\" onclick=\"convertToInteractive('df-d8c64eb3-083b-42e1-869b-12277ce24125')\"\n",
              "              title=\"Convert this dataframe to an interactive table.\"\n",
              "              style=\"display:none;\">\n",
              "        \n",
              "  <svg xmlns=\"http://www.w3.org/2000/svg\" height=\"24px\"viewBox=\"0 0 24 24\"\n",
              "       width=\"24px\">\n",
              "    <path d=\"M0 0h24v24H0V0z\" fill=\"none\"/>\n",
              "    <path d=\"M18.56 5.44l.94 2.06.94-2.06 2.06-.94-2.06-.94-.94-2.06-.94 2.06-2.06.94zm-11 1L8.5 8.5l.94-2.06 2.06-.94-2.06-.94L8.5 2.5l-.94 2.06-2.06.94zm10 10l.94 2.06.94-2.06 2.06-.94-2.06-.94-.94-2.06-.94 2.06-2.06.94z\"/><path d=\"M17.41 7.96l-1.37-1.37c-.4-.4-.92-.59-1.43-.59-.52 0-1.04.2-1.43.59L10.3 9.45l-7.72 7.72c-.78.78-.78 2.05 0 2.83L4 21.41c.39.39.9.59 1.41.59.51 0 1.02-.2 1.41-.59l7.78-7.78 2.81-2.81c.8-.78.8-2.07 0-2.86zM5.41 20L4 18.59l7.72-7.72 1.47 1.35L5.41 20z\"/>\n",
              "  </svg>\n",
              "      </button>\n",
              "      \n",
              "  <style>\n",
              "    .colab-df-container {\n",
              "      display:flex;\n",
              "      flex-wrap:wrap;\n",
              "      gap: 12px;\n",
              "    }\n",
              "\n",
              "    .colab-df-convert {\n",
              "      background-color: #E8F0FE;\n",
              "      border: none;\n",
              "      border-radius: 50%;\n",
              "      cursor: pointer;\n",
              "      display: none;\n",
              "      fill: #1967D2;\n",
              "      height: 32px;\n",
              "      padding: 0 0 0 0;\n",
              "      width: 32px;\n",
              "    }\n",
              "\n",
              "    .colab-df-convert:hover {\n",
              "      background-color: #E2EBFA;\n",
              "      box-shadow: 0px 1px 2px rgba(60, 64, 67, 0.3), 0px 1px 3px 1px rgba(60, 64, 67, 0.15);\n",
              "      fill: #174EA6;\n",
              "    }\n",
              "\n",
              "    [theme=dark] .colab-df-convert {\n",
              "      background-color: #3B4455;\n",
              "      fill: #D2E3FC;\n",
              "    }\n",
              "\n",
              "    [theme=dark] .colab-df-convert:hover {\n",
              "      background-color: #434B5C;\n",
              "      box-shadow: 0px 1px 3px 1px rgba(0, 0, 0, 0.15);\n",
              "      filter: drop-shadow(0px 1px 2px rgba(0, 0, 0, 0.3));\n",
              "      fill: #FFFFFF;\n",
              "    }\n",
              "  </style>\n",
              "\n",
              "      <script>\n",
              "        const buttonEl =\n",
              "          document.querySelector('#df-d8c64eb3-083b-42e1-869b-12277ce24125 button.colab-df-convert');\n",
              "        buttonEl.style.display =\n",
              "          google.colab.kernel.accessAllowed ? 'block' : 'none';\n",
              "\n",
              "        async function convertToInteractive(key) {\n",
              "          const element = document.querySelector('#df-d8c64eb3-083b-42e1-869b-12277ce24125');\n",
              "          const dataTable =\n",
              "            await google.colab.kernel.invokeFunction('convertToInteractive',\n",
              "                                                     [key], {});\n",
              "          if (!dataTable) return;\n",
              "\n",
              "          const docLinkHtml = 'Like what you see? Visit the ' +\n",
              "            '<a target=\"_blank\" href=https://colab.research.google.com/notebooks/data_table.ipynb>data table notebook</a>'\n",
              "            + ' to learn more about interactive tables.';\n",
              "          element.innerHTML = '';\n",
              "          dataTable['output_type'] = 'display_data';\n",
              "          await google.colab.output.renderOutput(dataTable, element);\n",
              "          const docLink = document.createElement('div');\n",
              "          docLink.innerHTML = docLinkHtml;\n",
              "          element.appendChild(docLink);\n",
              "        }\n",
              "      </script>\n",
              "    </div>\n",
              "  </div>\n",
              "  "
            ],
            "text/plain": [
              "                age  final-weight  ...  capital-loos  hour-per-week\n",
              "count  32561.000000  3.256100e+04  ...  32561.000000   32561.000000\n",
              "mean      38.581647  1.897784e+05  ...     87.303830      40.437456\n",
              "std       13.640433  1.055500e+05  ...    402.960219      12.347429\n",
              "min       17.000000  1.228500e+04  ...      0.000000       1.000000\n",
              "25%       28.000000  1.178270e+05  ...      0.000000      40.000000\n",
              "50%       37.000000  1.783560e+05  ...      0.000000      40.000000\n",
              "75%       48.000000  2.370510e+05  ...      0.000000      45.000000\n",
              "max       90.000000  1.484705e+06  ...   4356.000000      99.000000\n",
              "\n",
              "[8 rows x 6 columns]"
            ]
          },
          "metadata": {},
          "execution_count": 52
        }
      ]
    },
    {
      "cell_type": "code",
      "source": [
        "base_census.isnull().sum()"
      ],
      "metadata": {
        "id": "GMVkcT0iApyD",
        "outputId": "abc443f1-db8d-4b63-d30a-988873f5344d",
        "colab": {
          "base_uri": "https://localhost:8080/"
        }
      },
      "execution_count": 53,
      "outputs": [
        {
          "output_type": "execute_result",
          "data": {
            "text/plain": [
              "age               0\n",
              "workclass         0\n",
              "final-weight      0\n",
              "education         0\n",
              "education-num     0\n",
              "marital-status    0\n",
              "occupation        0\n",
              "relationship      0\n",
              "race              0\n",
              "sex               0\n",
              "capital-gain      0\n",
              "capital-loos      0\n",
              "hour-per-week     0\n",
              "native-country    0\n",
              "income            0\n",
              "dtype: int64"
            ]
          },
          "metadata": {},
          "execution_count": 53
        }
      ]
    },
    {
      "cell_type": "markdown",
      "source": [
        "### Visualização dos dados"
      ],
      "metadata": {
        "id": "tjLtxAnoy0aZ"
      }
    },
    {
      "cell_type": "code",
      "source": [
        "sns.countplot(x = base_census['income']);"
      ],
      "metadata": {
        "id": "6Sb4071PCOw5",
        "outputId": "0d4452b8-c2f6-4e3f-f8df-0b6033332662",
        "colab": {
          "base_uri": "https://localhost:8080/",
          "height": 0
        }
      },
      "execution_count": 54,
      "outputs": [
        {
          "output_type": "display_data",
          "data": {
            "image/png": "[encoded data removed]",
            "text/plain": [
              "<Figure size 432x288 with 1 Axes>"
            ]
          },
          "metadata": {
            "needs_background": "light"
          }
        }
      ]
    },
    {
      "cell_type": "code",
      "source": [
        "plt.hist(x = base_census['age']);"
      ],
      "metadata": {
        "id": "dxaUp2-aDAJR",
        "outputId": "f088aa94-8a7c-4ab9-9d6d-ae39d8981d61",
        "colab": {
          "base_uri": "https://localhost:8080/",
          "height": 0
        }
      },
      "execution_count": 55,
      "outputs": [
        {
          "output_type": "display_data",
          "data": {
            "image/png": "[encoded data removed]",
            "text/plain": [
              "<Figure size 432x288 with 1 Axes>"
            ]
          },
          "metadata": {
            "needs_background": "light"
          }
        }
      ]
    },
    {
      "cell_type": "code",
      "source": [
        "plt.hist(x = base_census['education-num']);"
      ],
      "metadata": {
        "id": "CD6s1QgwDIVp",
        "outputId": "b27d9896-9a73-4cd9-c05c-fe00d68f6eb4",
        "colab": {
          "base_uri": "https://localhost:8080/",
          "height": 0
        }
      },
      "execution_count": 56,
      "outputs": [
        {
          "output_type": "display_data",
          "data": {
            "image/png": "[encoded data removed]",
            "text/plain": [
              "<Figure size 432x288 with 1 Axes>"
            ]
          },
          "metadata": {
            "needs_background": "light"
          }
        }
      ]
    },
    {
      "cell_type": "code",
      "source": [
        "plt.hist(x = base_census['hour-per-week']);"
      ],
      "metadata": {
        "id": "oJTxvK7MDUh5",
        "outputId": "75d2852f-c100-4d77-ed4b-507b18163a35",
        "colab": {
          "base_uri": "https://localhost:8080/",
          "height": 0
        }
      },
      "execution_count": 57,
      "outputs": [
        {
          "output_type": "display_data",
          "data": {
            "image/png": "[encoded data removed]",
            "text/plain": [
              "<Figure size 432x288 with 1 Axes>"
            ]
          },
          "metadata": {
            "needs_background": "light"
          }
        }
      ]
    },
    {
      "cell_type": "markdown",
      "source": [
        "### Divisão entre previsores e classe"
      ],
      "metadata": {
        "id": "Rc4A3IYgy3qv"
      }
    },
    {
      "cell_type": "code",
      "source": [
        "base_census.columns"
      ],
      "metadata": {
        "id": "aR3NaKIgI3B9",
        "outputId": "6bd3c878-79b9-47b5-8b28-8164f283d1f3",
        "colab": {
          "base_uri": "https://localhost:8080/"
        }
      },
      "execution_count": 58,
      "outputs": [
        {
          "output_type": "execute_result",
          "data": {
            "text/plain": [
              "Index(['age', 'workclass', 'final-weight', 'education', 'education-num',\n",
              "       'marital-status', 'occupation', 'relationship', 'race', 'sex',\n",
              "       'capital-gain', 'capital-loos', 'hour-per-week', 'native-country',\n",
              "       'income'],\n",
              "      dtype='object')"
            ]
          },
          "metadata": {},
          "execution_count": 58
        }
      ]
    },
    {
      "cell_type": "code",
      "source": [
        "X_census = base_census.iloc[:, 0:14].values\n",
        "X_census"
      ],
      "metadata": {
        "id": "T5OEwmydIpUF",
        "outputId": "5e28fcc5-256a-410c-c7a1-5affe912f130",
        "colab": {
          "base_uri": "https://localhost:8080/"
        }
      },
      "execution_count": 59,
      "outputs": [
        {
          "output_type": "execute_result",
          "data": {
            "text/plain": [
              "array([[39, ' State-gov', 77516, ..., 0, 40, ' United-States'],\n",
              "       [50, ' Self-emp-not-inc', 83311, ..., 0, 13, ' United-States'],\n",
              "       [38, ' Private', 215646, ..., 0, 40, ' United-States'],\n",
              "       ...,\n",
              "       [58, ' Private', 151910, ..., 0, 40, ' United-States'],\n",
              "       [22, ' Private', 201490, ..., 0, 20, ' United-States'],\n",
              "       [52, ' Self-emp-inc', 287927, ..., 0, 40, ' United-States']],\n",
              "      dtype=object)"
            ]
          },
          "metadata": {},
          "execution_count": 59
        }
      ]
    },
    {
      "cell_type": "code",
      "source": [
        "Y_census = base_census.iloc[:, 14].values\n",
        "Y_census"
      ],
      "metadata": {
        "id": "ZOVOHSQUI-m-",
        "outputId": "c5af3d9e-94aa-4df1-cc42-209a430239ce",
        "colab": {
          "base_uri": "https://localhost:8080/"
        }
      },
      "execution_count": 60,
      "outputs": [
        {
          "output_type": "execute_result",
          "data": {
            "text/plain": [
              "array([' <=50K', ' <=50K', ' <=50K', ..., ' <=50K', ' <=50K', ' >50K'],\n",
              "      dtype=object)"
            ]
          },
          "metadata": {},
          "execution_count": 60
        }
      ]
    },
    {
      "cell_type": "markdown",
      "source": [
        "### Tratamento de atributos categóricos"
      ],
      "metadata": {
        "id": "hlpn8xxmzBtO"
      }
    },
    {
      "cell_type": "markdown",
      "source": [
        "#### LabelEncoder"
      ],
      "metadata": {
        "id": "aqmdDhrQQXCQ"
      }
    },
    {
      "cell_type": "code",
      "source": [
        "# Objetivo do LabelEncoder: converter as strings em numeros\n",
        "from sklearn.preprocessing import LabelEncoder"
      ],
      "metadata": {
        "id": "e_npuE90QrWZ"
      },
      "execution_count": 61,
      "outputs": []
    },
    {
      "cell_type": "code",
      "source": [
        "label_encoder_teste = LabelEncoder()"
      ],
      "metadata": {
        "id": "xpmoayXWQ19A"
      },
      "execution_count": 62,
      "outputs": []
    },
    {
      "cell_type": "code",
      "source": [
        "X_census[:, 1]"
      ],
      "metadata": {
        "id": "Ed3vc2wqRJAo",
        "outputId": "1f5942d9-3e92-4941-8ff5-7ba10043331d",
        "colab": {
          "base_uri": "https://localhost:8080/"
        }
      },
      "execution_count": 63,
      "outputs": [
        {
          "output_type": "execute_result",
          "data": {
            "text/plain": [
              "array([' State-gov', ' Self-emp-not-inc', ' Private', ..., ' Private',\n",
              "       ' Private', ' Self-emp-inc'], dtype=object)"
            ]
          },
          "metadata": {},
          "execution_count": 63
        }
      ]
    },
    {
      "cell_type": "code",
      "source": [
        "teste = label_encoder_teste.fit_transform(X_census[:, 1])"
      ],
      "metadata": {
        "id": "G3ZMV1fRQ6kH"
      },
      "execution_count": 64,
      "outputs": []
    },
    {
      "cell_type": "code",
      "source": [
        "teste"
      ],
      "metadata": {
        "id": "TgDi5XxWRL9A",
        "outputId": "ffcb124a-2d32-40ab-85ef-0a0b75f2e4b9",
        "colab": {
          "base_uri": "https://localhost:8080/"
        }
      },
      "execution_count": 65,
      "outputs": [
        {
          "output_type": "execute_result",
          "data": {
            "text/plain": [
              "array([7, 6, 4, ..., 4, 4, 5])"
            ]
          },
          "metadata": {},
          "execution_count": 65
        }
      ]
    },
    {
      "cell_type": "code",
      "source": [
        "label_encoder_workclass = LabelEncoder()\n",
        "label_encoder_education = LabelEncoder()\n",
        "label_encoder_marital = LabelEncoder()\n",
        "label_encoder_occupation = LabelEncoder()\n",
        "label_encoder_relationship = LabelEncoder()\n",
        "label_encoder_race = LabelEncoder()\n",
        "label_encoder_sex = LabelEncoder()\n",
        "label_encoder_country = LabelEncoder()"
      ],
      "metadata": {
        "id": "khxPKYd9Rb9H"
      },
      "execution_count": 66,
      "outputs": []
    },
    {
      "cell_type": "code",
      "source": [
        "X_census[:,1] = label_encoder_workclass.fit_transform(X_census[:,1])\n",
        "X_census[:,3] = label_encoder_education.fit_transform(X_census[:,3])\n",
        "X_census[:,5] = label_encoder_marital.fit_transform(X_census[:,5])\n",
        "X_census[:,6] = label_encoder_occupation.fit_transform(X_census[:,6])\n",
        "X_census[:,7] = label_encoder_relationship.fit_transform(X_census[:,7])\n",
        "X_census[:,8] = label_encoder_race.fit_transform(X_census[:,8])\n",
        "X_census[:,9] = label_encoder_sex.fit_transform(X_census[:,9])\n",
        "X_census[:,13] = label_encoder_country.fit_transform(X_census[:,13])"
      ],
      "metadata": {
        "id": "wlRr0YmrWDbU"
      },
      "execution_count": 67,
      "outputs": []
    },
    {
      "cell_type": "code",
      "source": [
        "X_census[0]"
      ],
      "metadata": {
        "id": "QjvXARoxWIsz",
        "outputId": "88dd770f-69c6-44be-c37f-0a6f34b59d2c",
        "colab": {
          "base_uri": "https://localhost:8080/"
        }
      },
      "execution_count": 68,
      "outputs": [
        {
          "output_type": "execute_result",
          "data": {
            "text/plain": [
              "array([39, 7, 77516, 9, 13, 4, 1, 1, 4, 1, 2174, 0, 40, 39], dtype=object)"
            ]
          },
          "metadata": {},
          "execution_count": 68
        }
      ]
    },
    {
      "cell_type": "code",
      "source": [
        "X_census"
      ],
      "metadata": {
        "id": "efy9Dzq7WO9U",
        "outputId": "9a68af37-ffdb-49e9-e382-bc7e3b6531c8",
        "colab": {
          "base_uri": "https://localhost:8080/"
        }
      },
      "execution_count": 69,
      "outputs": [
        {
          "output_type": "execute_result",
          "data": {
            "text/plain": [
              "array([[39, 7, 77516, ..., 0, 40, 39],\n",
              "       [50, 6, 83311, ..., 0, 13, 39],\n",
              "       [38, 4, 215646, ..., 0, 40, 39],\n",
              "       ...,\n",
              "       [58, 4, 151910, ..., 0, 40, 39],\n",
              "       [22, 4, 201490, ..., 0, 20, 39],\n",
              "       [52, 5, 287927, ..., 0, 40, 39]], dtype=object)"
            ]
          },
          "metadata": {},
          "execution_count": 69
        }
      ]
    },
    {
      "cell_type": "markdown",
      "source": [
        "#### OneHotEncoder\n",
        "codificação para não colocar pesos diferentes nos endereços das variáveis"
      ],
      "metadata": {
        "id": "F4CiOJJTQiZg"
      }
    },
    {
      "cell_type": "code",
      "source": [
        "#quantidade de valores diferentes\n",
        "len(np.unique(base_census['workclass'])) "
      ],
      "metadata": {
        "id": "p_l-ftKzWWpV",
        "outputId": "79a13e69-92f5-46c0-f488-e5bd4ff27765",
        "colab": {
          "base_uri": "https://localhost:8080/"
        }
      },
      "execution_count": 70,
      "outputs": [
        {
          "output_type": "execute_result",
          "data": {
            "text/plain": [
              "9"
            ]
          },
          "metadata": {},
          "execution_count": 70
        }
      ]
    },
    {
      "cell_type": "code",
      "source": [
        "len(np.unique(base_census['occupation'])) "
      ],
      "metadata": {
        "id": "WjD3sU0KXg36",
        "outputId": "1069cb28-fc1a-4d42-cd0b-fece566aa5bb",
        "colab": {
          "base_uri": "https://localhost:8080/"
        }
      },
      "execution_count": 71,
      "outputs": [
        {
          "output_type": "execute_result",
          "data": {
            "text/plain": [
              "15"
            ]
          },
          "metadata": {},
          "execution_count": 71
        }
      ]
    },
    {
      "cell_type": "code",
      "source": [
        "from sklearn.preprocessing import OneHotEncoder\n",
        "from sklearn.compose import ColumnTransformer"
      ],
      "metadata": {
        "id": "5rrucn2CXjhx"
      },
      "execution_count": 72,
      "outputs": []
    },
    {
      "cell_type": "code",
      "source": [
        "onehotencoder_census = ColumnTransformer(transformers=[('OneHot', OneHotEncoder(), [1,3,5,6,7,8,9,13])], remainder='passthrough')"
      ],
      "metadata": {
        "id": "KjZpn0hmXmfx"
      },
      "execution_count": 73,
      "outputs": []
    },
    {
      "cell_type": "code",
      "source": [
        "X_census = onehotencoder_census.fit_transform(X_census).toarray()"
      ],
      "metadata": {
        "id": "FozvOp-_X7ux"
      },
      "execution_count": 74,
      "outputs": []
    },
    {
      "cell_type": "code",
      "source": [
        "X_census"
      ],
      "metadata": {
        "id": "MnrAv0R_X8ch",
        "outputId": "a80d6c49-df2c-4f0d-f6f8-a3115a28bc03",
        "colab": {
          "base_uri": "https://localhost:8080/"
        }
      },
      "execution_count": 75,
      "outputs": [
        {
          "output_type": "execute_result",
          "data": {
            "text/plain": [
              "array([[0.0000e+00, 0.0000e+00, 0.0000e+00, ..., 2.1740e+03, 0.0000e+00,\n",
              "        4.0000e+01],\n",
              "       [0.0000e+00, 0.0000e+00, 0.0000e+00, ..., 0.0000e+00, 0.0000e+00,\n",
              "        1.3000e+01],\n",
              "       [0.0000e+00, 0.0000e+00, 0.0000e+00, ..., 0.0000e+00, 0.0000e+00,\n",
              "        4.0000e+01],\n",
              "       ...,\n",
              "       [0.0000e+00, 0.0000e+00, 0.0000e+00, ..., 0.0000e+00, 0.0000e+00,\n",
              "        4.0000e+01],\n",
              "       [0.0000e+00, 0.0000e+00, 0.0000e+00, ..., 0.0000e+00, 0.0000e+00,\n",
              "        2.0000e+01],\n",
              "       [0.0000e+00, 0.0000e+00, 0.0000e+00, ..., 1.5024e+04, 0.0000e+00,\n",
              "        4.0000e+01]])"
            ]
          },
          "metadata": {},
          "execution_count": 75
        }
      ]
    },
    {
      "cell_type": "code",
      "source": [
        "X_census[0]"
      ],
      "metadata": {
        "id": "9vb0qDzkYBMB",
        "outputId": "f331b8da-5b55-4f21-931b-54be08e2ef77",
        "colab": {
          "base_uri": "https://localhost:8080/"
        }
      },
      "execution_count": 76,
      "outputs": [
        {
          "output_type": "execute_result",
          "data": {
            "text/plain": [
              "array([0.0000e+00, 0.0000e+00, 0.0000e+00, 0.0000e+00, 0.0000e+00,\n",
              "       0.0000e+00, 0.0000e+00, 1.0000e+00, 0.0000e+00, 0.0000e+00,\n",
              "       0.0000e+00, 0.0000e+00, 0.0000e+00, 0.0000e+00, 0.0000e+00,\n",
              "       0.0000e+00, 0.0000e+00, 0.0000e+00, 1.0000e+00, 0.0000e+00,\n",
              "       0.0000e+00, 0.0000e+00, 0.0000e+00, 0.0000e+00, 0.0000e+00,\n",
              "       0.0000e+00, 0.0000e+00, 0.0000e+00, 0.0000e+00, 1.0000e+00,\n",
              "       0.0000e+00, 0.0000e+00, 0.0000e+00, 1.0000e+00, 0.0000e+00,\n",
              "       0.0000e+00, 0.0000e+00, 0.0000e+00, 0.0000e+00, 0.0000e+00,\n",
              "       0.0000e+00, 0.0000e+00, 0.0000e+00, 0.0000e+00, 0.0000e+00,\n",
              "       0.0000e+00, 0.0000e+00, 0.0000e+00, 1.0000e+00, 0.0000e+00,\n",
              "       0.0000e+00, 0.0000e+00, 0.0000e+00, 0.0000e+00, 0.0000e+00,\n",
              "       0.0000e+00, 0.0000e+00, 1.0000e+00, 0.0000e+00, 1.0000e+00,\n",
              "       0.0000e+00, 0.0000e+00, 0.0000e+00, 0.0000e+00, 0.0000e+00,\n",
              "       0.0000e+00, 0.0000e+00, 0.0000e+00, 0.0000e+00, 0.0000e+00,\n",
              "       0.0000e+00, 0.0000e+00, 0.0000e+00, 0.0000e+00, 0.0000e+00,\n",
              "       0.0000e+00, 0.0000e+00, 0.0000e+00, 0.0000e+00, 0.0000e+00,\n",
              "       0.0000e+00, 0.0000e+00, 0.0000e+00, 0.0000e+00, 0.0000e+00,\n",
              "       0.0000e+00, 0.0000e+00, 0.0000e+00, 0.0000e+00, 0.0000e+00,\n",
              "       0.0000e+00, 0.0000e+00, 0.0000e+00, 0.0000e+00, 0.0000e+00,\n",
              "       0.0000e+00, 0.0000e+00, 0.0000e+00, 0.0000e+00, 1.0000e+00,\n",
              "       0.0000e+00, 0.0000e+00, 3.9000e+01, 7.7516e+04, 1.3000e+01,\n",
              "       2.1740e+03, 0.0000e+00, 4.0000e+01])"
            ]
          },
          "metadata": {},
          "execution_count": 76
        }
      ]
    },
    {
      "cell_type": "code",
      "source": [
        "X_census.shape"
      ],
      "metadata": {
        "id": "op6703kwYF1p",
        "outputId": "a280018d-48c2-44de-ec45-e1b6e708fd0d",
        "colab": {
          "base_uri": "https://localhost:8080/"
        }
      },
      "execution_count": 77,
      "outputs": [
        {
          "output_type": "execute_result",
          "data": {
            "text/plain": [
              "(32561, 108)"
            ]
          },
          "metadata": {},
          "execution_count": 77
        }
      ]
    },
    {
      "cell_type": "markdown",
      "source": [
        "#### Escalonamento dos valores"
      ],
      "metadata": {
        "id": "-vaick5vQl_p"
      }
    },
    {
      "cell_type": "code",
      "source": [
        "from sklearn.preprocessing import StandardScaler #função que faz a padronização\n",
        "scaler_census = StandardScaler()\n",
        "X_census = scaler_census.fit_transform(X_census)"
      ],
      "metadata": {
        "id": "c_fVvM8XYSBq"
      },
      "execution_count": 78,
      "outputs": []
    },
    {
      "cell_type": "code",
      "source": [
        "X_census[0]"
      ],
      "metadata": {
        "id": "e6isGaDyYXBi",
        "outputId": "610f2343-d8da-49b7-a663-fee1737d70e9",
        "colab": {
          "base_uri": "https://localhost:8080/"
        }
      },
      "execution_count": 79,
      "outputs": [
        {
          "output_type": "execute_result",
          "data": {
            "text/plain": [
              "array([-0.2444502 , -0.17429511, -0.26209736, -0.01466381, -1.5167923 ,\n",
              "       -0.18838933, -0.29093568,  4.90769968, -0.02073999, -0.17175325,\n",
              "       -0.19348662, -0.11609195, -0.07201601, -0.10164955, -0.1422718 ,\n",
              "       -0.12664495, -0.18406376, -0.21053433,  2.25399324, -0.11334387,\n",
              "       -0.68994199, -0.23637391, -0.03960742, -0.13419553, -0.53714425,\n",
              "       -0.39750806, -0.02658695, -0.92284068, -0.11403678,  1.43105786,\n",
              "       -0.1802846 , -0.17735813, -0.24494366,  2.76348874, -0.01662771,\n",
              "       -0.37949517, -0.37774555, -0.17745022, -0.20957797, -0.25595432,\n",
              "       -0.33554133, -0.06780164, -0.38166338, -0.14260848, -0.35531609,\n",
              "       -0.17127887, -0.22710355, -0.82533335,  1.70899099, -0.17624972,\n",
              "       -0.42934582, -0.34403232, -0.22492681, -0.09820087, -0.18155194,\n",
              "       -0.32576824, -0.09161163,  0.4130197 , -0.70307135,  0.70307135,\n",
              "       -0.13502327, -0.02416321, -0.06107342, -0.0480488 , -0.04260602,\n",
              "       -0.05409379, -0.04641598, -0.02933708, -0.05714946, -0.05264698,\n",
              "       -0.02985682, -0.06500204, -0.02985682, -0.04437806, -0.03678503,\n",
              "       -0.00554189, -0.01998525, -0.02479131, -0.01998525, -0.05550333,\n",
              "       -0.03636406, -0.02715919, -0.04740236, -0.04993839, -0.04367781,\n",
              "       -0.02351838, -0.1419344 , -0.03233087, -0.02073999, -0.03087016,\n",
              "       -0.07821827, -0.04296623, -0.03372864, -0.05927412, -0.01920091,\n",
              "       -0.0496284 , -0.03960742, -0.02351838, -0.02416321,  0.34095391,\n",
              "       -0.04540836, -0.02217266,  0.03067056, -1.06361075,  1.13473876,\n",
              "        0.1484529 , -0.21665953, -0.03542945])"
            ]
          },
          "metadata": {},
          "execution_count": 79
        }
      ]
    },
    {
      "cell_type": "markdown",
      "source": [
        "# Divisão das Bases de Dados - Treinamento e Teste"
      ],
      "metadata": {
        "id": "gx2cB0D3nKJR"
      }
    },
    {
      "cell_type": "code",
      "source": [
        "from sklearn.model_selection import train_test_split"
      ],
      "metadata": {
        "id": "3xodWz9PnWeR"
      },
      "execution_count": 3,
      "outputs": []
    },
    {
      "cell_type": "markdown",
      "source": [
        "### Credit data"
      ],
      "metadata": {
        "id": "5lNXB2ATne-r"
      }
    },
    {
      "cell_type": "code",
      "source": [
        "X_credit_treinamento, X_credit_teste, y_credit_treinamento, y_credit_teste = train_test_split(X_credit, Y_credit, test_size = 0.25, random_state = 0)"
      ],
      "metadata": {
        "id": "1R6jCNpjnqSG"
      },
      "execution_count": 80,
      "outputs": []
    },
    {
      "cell_type": "code",
      "source": [
        "#.shape retorna o numero de registros\n",
        "X_credit_treinamento.shape, y_credit_treinamento.shape"
      ],
      "metadata": {
        "id": "BDEEdTCbovQ3",
        "outputId": "3db2b232-cc92-409c-e84b-7c01496ed5a1",
        "colab": {
          "base_uri": "https://localhost:8080/"
        }
      },
      "execution_count": 81,
      "outputs": [
        {
          "output_type": "execute_result",
          "data": {
            "text/plain": [
              "((1500, 3), (1500,))"
            ]
          },
          "metadata": {},
          "execution_count": 81
        }
      ]
    },
    {
      "cell_type": "code",
      "source": [
        "X_credit_teste.shape, y_credit_teste.shape"
      ],
      "metadata": {
        "id": "w9ZN2tl0pEpb",
        "outputId": "bd081a3f-809d-4f64-9851-75644a560216",
        "colab": {
          "base_uri": "https://localhost:8080/"
        }
      },
      "execution_count": 82,
      "outputs": [
        {
          "output_type": "execute_result",
          "data": {
            "text/plain": [
              "((500, 3), (500,))"
            ]
          },
          "metadata": {},
          "execution_count": 82
        }
      ]
    },
    {
      "cell_type": "markdown",
      "source": [
        "### Census"
      ],
      "metadata": {
        "id": "0MjqJPTxnhyO"
      }
    },
    {
      "cell_type": "code",
      "source": [
        "X_census_treinamento, X_census_teste, y_census_treinamento, y_census_teste = train_test_split(X_census, Y_census, test_size = 0.15, random_state = 0)"
      ],
      "metadata": {
        "id": "FRZCZtTKpaKu"
      },
      "execution_count": 83,
      "outputs": []
    },
    {
      "cell_type": "code",
      "source": [
        "X_census_treinamento.shape, y_census_treinamento.shape"
      ],
      "metadata": {
        "colab": {
          "base_uri": "https://localhost:8080/"
        },
        "id": "JlACXYAXp5l-",
        "outputId": "1563a313-4a80-4d47-f049-a6be70fb6d02"
      },
      "execution_count": 84,
      "outputs": [
        {
          "output_type": "execute_result",
          "data": {
            "text/plain": [
              "((27676, 108), (27676,))"
            ]
          },
          "metadata": {},
          "execution_count": 84
        }
      ]
    },
    {
      "cell_type": "code",
      "source": [
        "X_census_teste.shape, y_census_teste.shape"
      ],
      "metadata": {
        "id": "NIovBGenp_uZ",
        "outputId": "541340ee-c81c-4355-c836-1089807858de",
        "colab": {
          "base_uri": "https://localhost:8080/"
        }
      },
      "execution_count": 85,
      "outputs": [
        {
          "output_type": "execute_result",
          "data": {
            "text/plain": [
              "((4885, 108), (4885,))"
            ]
          },
          "metadata": {},
          "execution_count": 85
        }
      ]
    },
    {
      "cell_type": "markdown",
      "source": [
        "### Salvar as variáveis\n",
        "\n",
        "Salvar bases de dados para não precisar executar todo o pre processamento"
      ],
      "metadata": {
        "id": "R8G1w6tFnj4m"
      }
    },
    {
      "cell_type": "code",
      "source": [
        "import pickle "
      ],
      "metadata": {
        "id": "q8ex2AFIqNKY"
      },
      "execution_count": 86,
      "outputs": []
    },
    {
      "cell_type": "code",
      "source": [
        "with open('credit.pkl', mode = 'wb') as f:\n",
        "  pickle.dump([X_credit_treinamento, y_credit_treinamento, X_credit_teste, y_credit_teste], f)"
      ],
      "metadata": {
        "id": "GFV0kztXqbbU"
      },
      "execution_count": 90,
      "outputs": []
    },
    {
      "cell_type": "code",
      "source": [
        "with open('census.pkl', mode = 'wb') as f:\n",
        "  pickle.dump([X_census_treinamento, y_census_treinamento, X_census_teste, y_census_teste], f)"
      ],
      "metadata": {
        "id": "HVEZXEEDrJF6"
      },
      "execution_count": 91,
      "outputs": []
    }
  ]
}